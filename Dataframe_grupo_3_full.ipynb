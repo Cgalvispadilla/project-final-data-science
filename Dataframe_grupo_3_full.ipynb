{
  "cells": [
    {
      "cell_type": "code",
      "execution_count": 93,
      "id": "1e38e849-00d4-481c-a2ea-69f75e9a52bc",
      "metadata": {
        "id": "1e38e849-00d4-481c-a2ea-69f75e9a52bc"
      },
      "outputs": [],
      "source": [
        "import pandas as pd\n",
        "import numpy as np\n",
        "import matplotlib.pyplot as plt\n",
        "import seaborn as sns\n",
        "import datetime\n",
        "from scipy import stats\n",
        "import plotly.express as px\n",
        "\n",
        "from sklearn.linear_model import LinearRegression\n",
        "from sklearn import svm\n",
        "from sklearn.gaussian_process import GaussianProcessRegressor\n",
        "from sklearn.gaussian_process.kernels import DotProduct, WhiteKernel\n",
        "\n",
        "from sklearn.model_selection import train_test_split\n",
        "from sklearn.model_selection import GridSearchCV\n",
        "import joblib \n",
        "\n",
        "from sklearn.metrics import accuracy_score\n",
        "from sklearn.metrics import r2_score\n",
        "from sklearn import metrics as ms\n",
        "from sklearn.metrics import max_error\n",
        "from sklearn.metrics import mean_absolute_error"
      ]
    },
    {
      "cell_type": "code",
      "execution_count": 94,
      "id": "ac583da3-5852-482d-b10e-5ed6eee4b318",
      "metadata": {
        "colab": {
          "base_uri": "https://localhost:8080/",
          "height": 354
        },
        "id": "ac583da3-5852-482d-b10e-5ed6eee4b318",
        "outputId": "6333326e-cfbd-4d32-ec93-27536a1aab19"
      },
      "outputs": [
        {
          "data": {
            "text/html": [
              "\n",
              "  <div id=\"df-5ec1d316-6ea9-420f-962c-5fe97dcc32b9\">\n",
              "    <div class=\"colab-df-container\">\n",
              "      <div>\n",
              "<style scoped>\n",
              "    .dataframe tbody tr th:only-of-type {\n",
              "        vertical-align: middle;\n",
              "    }\n",
              "\n",
              "    .dataframe tbody tr th {\n",
              "        vertical-align: top;\n",
              "    }\n",
              "\n",
              "    .dataframe thead th {\n",
              "        text-align: right;\n",
              "    }\n",
              "</style>\n",
              "<table border=\"1\" class=\"dataframe\">\n",
              "  <thead>\n",
              "    <tr style=\"text-align: right;\">\n",
              "      <th></th>\n",
              "      <th>DEPARTAMENTO</th>\n",
              "      <th>MUNICIPIO</th>\n",
              "      <th>CODIGO DANE</th>\n",
              "      <th>ARMAS MEDIOS</th>\n",
              "      <th>FECHA HECHO</th>\n",
              "      <th>GENERO</th>\n",
              "      <th>GRUPO ETARIO</th>\n",
              "      <th>CANTIDAD</th>\n",
              "    </tr>\n",
              "  </thead>\n",
              "  <tbody>\n",
              "    <tr>\n",
              "      <th>0</th>\n",
              "      <td>ATLÁNTICO</td>\n",
              "      <td>BARRANQUILLA (CT)</td>\n",
              "      <td>8001000</td>\n",
              "      <td>ARMA BLANCA / CORTOPUNZANTE</td>\n",
              "      <td>1/01/2010</td>\n",
              "      <td>MASCULINO</td>\n",
              "      <td>ADULTOS</td>\n",
              "      <td>1</td>\n",
              "    </tr>\n",
              "    <tr>\n",
              "      <th>1</th>\n",
              "      <td>BOYACÁ</td>\n",
              "      <td>DUITAMA</td>\n",
              "      <td>15238000</td>\n",
              "      <td>ARMA BLANCA / CORTOPUNZANTE</td>\n",
              "      <td>1/01/2010</td>\n",
              "      <td>FEMENINO</td>\n",
              "      <td>ADULTOS</td>\n",
              "      <td>1</td>\n",
              "    </tr>\n",
              "    <tr>\n",
              "      <th>2</th>\n",
              "      <td>CAQUETÁ</td>\n",
              "      <td>PUERTO RICO</td>\n",
              "      <td>18592000</td>\n",
              "      <td>ARMA BLANCA / CORTOPUNZANTE</td>\n",
              "      <td>1/01/2010</td>\n",
              "      <td>MASCULINO</td>\n",
              "      <td>ADULTOS</td>\n",
              "      <td>1</td>\n",
              "    </tr>\n",
              "    <tr>\n",
              "      <th>3</th>\n",
              "      <td>CASANARE</td>\n",
              "      <td>MANÍ</td>\n",
              "      <td>85139000</td>\n",
              "      <td>ARMA BLANCA / CORTOPUNZANTE</td>\n",
              "      <td>1/01/2010</td>\n",
              "      <td>FEMENINO</td>\n",
              "      <td>ADULTOS</td>\n",
              "      <td>1</td>\n",
              "    </tr>\n",
              "    <tr>\n",
              "      <th>4</th>\n",
              "      <td>CUNDINAMARCA</td>\n",
              "      <td>BOGOTÁ D.C. (CT)</td>\n",
              "      <td>11001000</td>\n",
              "      <td>ARMA BLANCA / CORTOPUNZANTE</td>\n",
              "      <td>1/01/2010</td>\n",
              "      <td>FEMENINO</td>\n",
              "      <td>ADULTOS</td>\n",
              "      <td>1</td>\n",
              "    </tr>\n",
              "  </tbody>\n",
              "</table>\n",
              "</div>\n",
              "      <button class=\"colab-df-convert\" onclick=\"convertToInteractive('df-5ec1d316-6ea9-420f-962c-5fe97dcc32b9')\"\n",
              "              title=\"Convert this dataframe to an interactive table.\"\n",
              "              style=\"display:none;\">\n",
              "        \n",
              "  <svg xmlns=\"http://www.w3.org/2000/svg\" height=\"24px\"viewBox=\"0 0 24 24\"\n",
              "       width=\"24px\">\n",
              "    <path d=\"M0 0h24v24H0V0z\" fill=\"none\"/>\n",
              "    <path d=\"M18.56 5.44l.94 2.06.94-2.06 2.06-.94-2.06-.94-.94-2.06-.94 2.06-2.06.94zm-11 1L8.5 8.5l.94-2.06 2.06-.94-2.06-.94L8.5 2.5l-.94 2.06-2.06.94zm10 10l.94 2.06.94-2.06 2.06-.94-2.06-.94-.94-2.06-.94 2.06-2.06.94z\"/><path d=\"M17.41 7.96l-1.37-1.37c-.4-.4-.92-.59-1.43-.59-.52 0-1.04.2-1.43.59L10.3 9.45l-7.72 7.72c-.78.78-.78 2.05 0 2.83L4 21.41c.39.39.9.59 1.41.59.51 0 1.02-.2 1.41-.59l7.78-7.78 2.81-2.81c.8-.78.8-2.07 0-2.86zM5.41 20L4 18.59l7.72-7.72 1.47 1.35L5.41 20z\"/>\n",
              "  </svg>\n",
              "      </button>\n",
              "      \n",
              "  <style>\n",
              "    .colab-df-container {\n",
              "      display:flex;\n",
              "      flex-wrap:wrap;\n",
              "      gap: 12px;\n",
              "    }\n",
              "\n",
              "    .colab-df-convert {\n",
              "      background-color: #E8F0FE;\n",
              "      border: none;\n",
              "      border-radius: 50%;\n",
              "      cursor: pointer;\n",
              "      display: none;\n",
              "      fill: #1967D2;\n",
              "      height: 32px;\n",
              "      padding: 0 0 0 0;\n",
              "      width: 32px;\n",
              "    }\n",
              "\n",
              "    .colab-df-convert:hover {\n",
              "      background-color: #E2EBFA;\n",
              "      box-shadow: 0px 1px 2px rgba(60, 64, 67, 0.3), 0px 1px 3px 1px rgba(60, 64, 67, 0.15);\n",
              "      fill: #174EA6;\n",
              "    }\n",
              "\n",
              "    [theme=dark] .colab-df-convert {\n",
              "      background-color: #3B4455;\n",
              "      fill: #D2E3FC;\n",
              "    }\n",
              "\n",
              "    [theme=dark] .colab-df-convert:hover {\n",
              "      background-color: #434B5C;\n",
              "      box-shadow: 0px 1px 3px 1px rgba(0, 0, 0, 0.15);\n",
              "      filter: drop-shadow(0px 1px 2px rgba(0, 0, 0, 0.3));\n",
              "      fill: #FFFFFF;\n",
              "    }\n",
              "  </style>\n",
              "\n",
              "      <script>\n",
              "        const buttonEl =\n",
              "          document.querySelector('#df-5ec1d316-6ea9-420f-962c-5fe97dcc32b9 button.colab-df-convert');\n",
              "        buttonEl.style.display =\n",
              "          google.colab.kernel.accessAllowed ? 'block' : 'none';\n",
              "\n",
              "        async function convertToInteractive(key) {\n",
              "          const element = document.querySelector('#df-5ec1d316-6ea9-420f-962c-5fe97dcc32b9');\n",
              "          const dataTable =\n",
              "            await google.colab.kernel.invokeFunction('convertToInteractive',\n",
              "                                                     [key], {});\n",
              "          if (!dataTable) return;\n",
              "\n",
              "          const docLinkHtml = 'Like what you see? Visit the ' +\n",
              "            '<a target=\"_blank\" href=https://colab.research.google.com/notebooks/data_table.ipynb>data table notebook</a>'\n",
              "            + ' to learn more about interactive tables.';\n",
              "          element.innerHTML = '';\n",
              "          dataTable['output_type'] = 'display_data';\n",
              "          await google.colab.output.renderOutput(dataTable, element);\n",
              "          const docLink = document.createElement('div');\n",
              "          docLink.innerHTML = docLinkHtml;\n",
              "          element.appendChild(docLink);\n",
              "        }\n",
              "      </script>\n",
              "    </div>\n",
              "  </div>\n",
              "  "
            ],
            "text/plain": [
              "   DEPARTAMENTO          MUNICIPIO CODIGO DANE                 ARMAS MEDIOS  \\\n",
              "0     ATLÁNTICO  BARRANQUILLA (CT)     8001000  ARMA BLANCA / CORTOPUNZANTE   \n",
              "1        BOYACÁ            DUITAMA    15238000  ARMA BLANCA / CORTOPUNZANTE   \n",
              "2       CAQUETÁ        PUERTO RICO    18592000  ARMA BLANCA / CORTOPUNZANTE   \n",
              "3      CASANARE               MANÍ    85139000  ARMA BLANCA / CORTOPUNZANTE   \n",
              "4  CUNDINAMARCA   BOGOTÁ D.C. (CT)    11001000  ARMA BLANCA / CORTOPUNZANTE   \n",
              "\n",
              "  FECHA HECHO     GENERO GRUPO ETARIO  CANTIDAD  \n",
              "0   1/01/2010  MASCULINO      ADULTOS         1  \n",
              "1   1/01/2010   FEMENINO      ADULTOS         1  \n",
              "2   1/01/2010  MASCULINO      ADULTOS         1  \n",
              "3   1/01/2010   FEMENINO      ADULTOS         1  \n",
              "4   1/01/2010   FEMENINO      ADULTOS         1  "
            ]
          },
          "execution_count": 94,
          "metadata": {},
          "output_type": "execute_result"
        }
      ],
      "source": [
        "dtypes={'DEPARTAMENTO': 'str', 'MUNICIPIO': 'str', 'CODIGO DANE': 'str', 'ARMAS MEDIOS': 'str',\n",
        "                        'FECHA HECHO': 'str', 'GENERO': 'str', 'GRUPO ETARIO': 'str', 'CANTIDAD': 'int'}\n",
        "\n",
        "df = pd.read_csv('Violencia_Intrafamiliar_Colombia.csv', dtype=dtypes)\n",
        "df.head()"
      ]
    },
    {
      "cell_type": "code",
      "execution_count": 95,
      "id": "2b572ea6-f9c8-4f52-a388-282369540d62",
      "metadata": {
        "colab": {
          "base_uri": "https://localhost:8080/"
        },
        "id": "2b572ea6-f9c8-4f52-a388-282369540d62",
        "outputId": "f1a9c81a-2095-4b9b-e9e9-12a5f710b8c7"
      },
      "outputs": [
        {
          "data": {
            "text/plain": [
              "(476970, 8)"
            ]
          },
          "execution_count": 95,
          "metadata": {},
          "output_type": "execute_result"
        }
      ],
      "source": [
        "#Forma original\n",
        "df.shape"
      ]
    },
    {
      "cell_type": "code",
      "execution_count": 96,
      "id": "4a1f69a6-c1fc-4d8e-81aa-80cf1170df0e",
      "metadata": {
        "colab": {
          "base_uri": "https://localhost:8080/"
        },
        "id": "4a1f69a6-c1fc-4d8e-81aa-80cf1170df0e",
        "outputId": "bbd12b2f-a885-48ac-f76f-01d968a194e4"
      },
      "outputs": [
        {
          "data": {
            "text/plain": [
              "<bound method DataFrame.info of         DEPARTAMENTO          MUNICIPIO CODIGO DANE  \\\n",
              "0          ATLÁNTICO  BARRANQUILLA (CT)     8001000   \n",
              "1             BOYACÁ            DUITAMA    15238000   \n",
              "2            CAQUETÁ        PUERTO RICO    18592000   \n",
              "3           CASANARE               MANÍ    85139000   \n",
              "4       CUNDINAMARCA   BOGOTÁ D.C. (CT)    11001000   \n",
              "...              ...                ...         ...   \n",
              "476965       VICHADA      SANTA ROSALÍA    99624000   \n",
              "476966       VICHADA      SANTA ROSALÍA    99624000   \n",
              "476967       VICHADA      SANTA ROSALÍA    99624000   \n",
              "476968  CUNDINAMARCA              TAUSA    25793000   \n",
              "476969  CUNDINAMARCA          ZIPAQUIRÁ    25899000   \n",
              "\n",
              "                       ARMAS MEDIOS FECHA HECHO     GENERO GRUPO ETARIO  \\\n",
              "0       ARMA BLANCA / CORTOPUNZANTE   1/01/2010  MASCULINO      ADULTOS   \n",
              "1       ARMA BLANCA / CORTOPUNZANTE   1/01/2010   FEMENINO      ADULTOS   \n",
              "2       ARMA BLANCA / CORTOPUNZANTE   1/01/2010  MASCULINO      ADULTOS   \n",
              "3       ARMA BLANCA / CORTOPUNZANTE   1/01/2010   FEMENINO      ADULTOS   \n",
              "4       ARMA BLANCA / CORTOPUNZANTE   1/01/2010   FEMENINO      ADULTOS   \n",
              "...                             ...         ...        ...          ...   \n",
              "476965          SIN EMPLEO DE ARMAS       44250   FEMENINO      MENORES   \n",
              "476966          SIN EMPLEO DE ARMAS       44262   FEMENINO      ADULTOS   \n",
              "476967          SIN EMPLEO DE ARMAS       44300   FEMENINO      ADULTOS   \n",
              "476968                          NaN       44294   FEMENINO      ADULTOS   \n",
              "476969                          NaN       44245   FEMENINO      ADULTOS   \n",
              "\n",
              "        CANTIDAD  \n",
              "0              1  \n",
              "1              1  \n",
              "2              1  \n",
              "3              1  \n",
              "4              1  \n",
              "...          ...  \n",
              "476965         1  \n",
              "476966         1  \n",
              "476967         1  \n",
              "476968         1  \n",
              "476969         1  \n",
              "\n",
              "[476970 rows x 8 columns]>"
            ]
          },
          "execution_count": 96,
          "metadata": {},
          "output_type": "execute_result"
        }
      ],
      "source": [
        "df.info"
      ]
    },
    {
      "cell_type": "code",
      "execution_count": 97,
      "id": "62d8f457-685c-459c-87ba-ef5e22d4665b",
      "metadata": {
        "colab": {
          "base_uri": "https://localhost:8080/",
          "height": 300
        },
        "id": "62d8f457-685c-459c-87ba-ef5e22d4665b",
        "outputId": "6bc2bf94-d460-439b-b262-27b26b3ec3de"
      },
      "outputs": [
        {
          "data": {
            "text/html": [
              "\n",
              "  <div id=\"df-34625df6-1d79-4efd-89a2-1e7ab5287cb5\">\n",
              "    <div class=\"colab-df-container\">\n",
              "      <div>\n",
              "<style scoped>\n",
              "    .dataframe tbody tr th:only-of-type {\n",
              "        vertical-align: middle;\n",
              "    }\n",
              "\n",
              "    .dataframe tbody tr th {\n",
              "        vertical-align: top;\n",
              "    }\n",
              "\n",
              "    .dataframe thead th {\n",
              "        text-align: right;\n",
              "    }\n",
              "</style>\n",
              "<table border=\"1\" class=\"dataframe\">\n",
              "  <thead>\n",
              "    <tr style=\"text-align: right;\">\n",
              "      <th></th>\n",
              "      <th>CANTIDAD</th>\n",
              "    </tr>\n",
              "  </thead>\n",
              "  <tbody>\n",
              "    <tr>\n",
              "      <th>count</th>\n",
              "      <td>476970.000000</td>\n",
              "    </tr>\n",
              "    <tr>\n",
              "      <th>mean</th>\n",
              "      <td>1.707764</td>\n",
              "    </tr>\n",
              "    <tr>\n",
              "      <th>std</th>\n",
              "      <td>3.338647</td>\n",
              "    </tr>\n",
              "    <tr>\n",
              "      <th>min</th>\n",
              "      <td>1.000000</td>\n",
              "    </tr>\n",
              "    <tr>\n",
              "      <th>25%</th>\n",
              "      <td>1.000000</td>\n",
              "    </tr>\n",
              "    <tr>\n",
              "      <th>50%</th>\n",
              "      <td>1.000000</td>\n",
              "    </tr>\n",
              "    <tr>\n",
              "      <th>75%</th>\n",
              "      <td>1.000000</td>\n",
              "    </tr>\n",
              "    <tr>\n",
              "      <th>max</th>\n",
              "      <td>130.000000</td>\n",
              "    </tr>\n",
              "  </tbody>\n",
              "</table>\n",
              "</div>\n",
              "      <button class=\"colab-df-convert\" onclick=\"convertToInteractive('df-34625df6-1d79-4efd-89a2-1e7ab5287cb5')\"\n",
              "              title=\"Convert this dataframe to an interactive table.\"\n",
              "              style=\"display:none;\">\n",
              "        \n",
              "  <svg xmlns=\"http://www.w3.org/2000/svg\" height=\"24px\"viewBox=\"0 0 24 24\"\n",
              "       width=\"24px\">\n",
              "    <path d=\"M0 0h24v24H0V0z\" fill=\"none\"/>\n",
              "    <path d=\"M18.56 5.44l.94 2.06.94-2.06 2.06-.94-2.06-.94-.94-2.06-.94 2.06-2.06.94zm-11 1L8.5 8.5l.94-2.06 2.06-.94-2.06-.94L8.5 2.5l-.94 2.06-2.06.94zm10 10l.94 2.06.94-2.06 2.06-.94-2.06-.94-.94-2.06-.94 2.06-2.06.94z\"/><path d=\"M17.41 7.96l-1.37-1.37c-.4-.4-.92-.59-1.43-.59-.52 0-1.04.2-1.43.59L10.3 9.45l-7.72 7.72c-.78.78-.78 2.05 0 2.83L4 21.41c.39.39.9.59 1.41.59.51 0 1.02-.2 1.41-.59l7.78-7.78 2.81-2.81c.8-.78.8-2.07 0-2.86zM5.41 20L4 18.59l7.72-7.72 1.47 1.35L5.41 20z\"/>\n",
              "  </svg>\n",
              "      </button>\n",
              "      \n",
              "  <style>\n",
              "    .colab-df-container {\n",
              "      display:flex;\n",
              "      flex-wrap:wrap;\n",
              "      gap: 12px;\n",
              "    }\n",
              "\n",
              "    .colab-df-convert {\n",
              "      background-color: #E8F0FE;\n",
              "      border: none;\n",
              "      border-radius: 50%;\n",
              "      cursor: pointer;\n",
              "      display: none;\n",
              "      fill: #1967D2;\n",
              "      height: 32px;\n",
              "      padding: 0 0 0 0;\n",
              "      width: 32px;\n",
              "    }\n",
              "\n",
              "    .colab-df-convert:hover {\n",
              "      background-color: #E2EBFA;\n",
              "      box-shadow: 0px 1px 2px rgba(60, 64, 67, 0.3), 0px 1px 3px 1px rgba(60, 64, 67, 0.15);\n",
              "      fill: #174EA6;\n",
              "    }\n",
              "\n",
              "    [theme=dark] .colab-df-convert {\n",
              "      background-color: #3B4455;\n",
              "      fill: #D2E3FC;\n",
              "    }\n",
              "\n",
              "    [theme=dark] .colab-df-convert:hover {\n",
              "      background-color: #434B5C;\n",
              "      box-shadow: 0px 1px 3px 1px rgba(0, 0, 0, 0.15);\n",
              "      filter: drop-shadow(0px 1px 2px rgba(0, 0, 0, 0.3));\n",
              "      fill: #FFFFFF;\n",
              "    }\n",
              "  </style>\n",
              "\n",
              "      <script>\n",
              "        const buttonEl =\n",
              "          document.querySelector('#df-34625df6-1d79-4efd-89a2-1e7ab5287cb5 button.colab-df-convert');\n",
              "        buttonEl.style.display =\n",
              "          google.colab.kernel.accessAllowed ? 'block' : 'none';\n",
              "\n",
              "        async function convertToInteractive(key) {\n",
              "          const element = document.querySelector('#df-34625df6-1d79-4efd-89a2-1e7ab5287cb5');\n",
              "          const dataTable =\n",
              "            await google.colab.kernel.invokeFunction('convertToInteractive',\n",
              "                                                     [key], {});\n",
              "          if (!dataTable) return;\n",
              "\n",
              "          const docLinkHtml = 'Like what you see? Visit the ' +\n",
              "            '<a target=\"_blank\" href=https://colab.research.google.com/notebooks/data_table.ipynb>data table notebook</a>'\n",
              "            + ' to learn more about interactive tables.';\n",
              "          element.innerHTML = '';\n",
              "          dataTable['output_type'] = 'display_data';\n",
              "          await google.colab.output.renderOutput(dataTable, element);\n",
              "          const docLink = document.createElement('div');\n",
              "          docLink.innerHTML = docLinkHtml;\n",
              "          element.appendChild(docLink);\n",
              "        }\n",
              "      </script>\n",
              "    </div>\n",
              "  </div>\n",
              "  "
            ],
            "text/plain": [
              "            CANTIDAD\n",
              "count  476970.000000\n",
              "mean        1.707764\n",
              "std         3.338647\n",
              "min         1.000000\n",
              "25%         1.000000\n",
              "50%         1.000000\n",
              "75%         1.000000\n",
              "max       130.000000"
            ]
          },
          "execution_count": 97,
          "metadata": {},
          "output_type": "execute_result"
        }
      ],
      "source": [
        "df.describe()"
      ]
    },
    {
      "cell_type": "code",
      "execution_count": 98,
      "id": "0d1d7cb6-8312-4925-9a3d-b2197faf3b92",
      "metadata": {
        "colab": {
          "base_uri": "https://localhost:8080/"
        },
        "id": "0d1d7cb6-8312-4925-9a3d-b2197faf3b92",
        "outputId": "67335487-04e3-4bd2-b5f7-aaee61956bf4"
      },
      "outputs": [
        {
          "data": {
            "text/plain": [
              "DEPARTAMENTO       0\n",
              "MUNICIPIO          0\n",
              "CODIGO DANE        0\n",
              "ARMAS MEDIOS       2\n",
              "FECHA HECHO        0\n",
              "GENERO             3\n",
              "GRUPO ETARIO    1615\n",
              "CANTIDAD           0\n",
              "dtype: int64"
            ]
          },
          "execution_count": 98,
          "metadata": {},
          "output_type": "execute_result"
        }
      ],
      "source": [
        "df.isna().sum()"
      ]
    },
    {
      "cell_type": "code",
      "execution_count": 99,
      "id": "341362f1-ef9e-4e9b-80e5-0e0ffa811d0b",
      "metadata": {
        "colab": {
          "base_uri": "https://localhost:8080/",
          "height": 572
        },
        "id": "341362f1-ef9e-4e9b-80e5-0e0ffa811d0b",
        "outputId": "ad66e3e8-b845-4a9b-d97f-8654a274ef1f"
      },
      "outputs": [
        {
          "data": {
            "text/html": [
              "\n",
              "  <div id=\"df-06bbda82-f56b-419a-af6d-776d7d0e39ac\">\n",
              "    <div class=\"colab-df-container\">\n",
              "      <div>\n",
              "<style scoped>\n",
              "    .dataframe tbody tr th:only-of-type {\n",
              "        vertical-align: middle;\n",
              "    }\n",
              "\n",
              "    .dataframe tbody tr th {\n",
              "        vertical-align: top;\n",
              "    }\n",
              "\n",
              "    .dataframe thead th {\n",
              "        text-align: right;\n",
              "    }\n",
              "</style>\n",
              "<table border=\"1\" class=\"dataframe\">\n",
              "  <thead>\n",
              "    <tr style=\"text-align: right;\">\n",
              "      <th></th>\n",
              "      <th>DEPARTAMENTO</th>\n",
              "      <th>MUNICIPIO</th>\n",
              "      <th>CODIGO DANE</th>\n",
              "      <th>ARMAS MEDIOS</th>\n",
              "      <th>FECHA HECHO</th>\n",
              "      <th>GENERO</th>\n",
              "      <th>GRUPO ETARIO</th>\n",
              "      <th>CANTIDAD</th>\n",
              "    </tr>\n",
              "  </thead>\n",
              "  <tbody>\n",
              "    <tr>\n",
              "      <th>0</th>\n",
              "      <td>ATLÁNTICO</td>\n",
              "      <td>BARRANQUILLA (CT)</td>\n",
              "      <td>8001000</td>\n",
              "      <td>ARMA BLANCA / CORTOPUNZANTE</td>\n",
              "      <td>1/01/2010</td>\n",
              "      <td>MASCULINO</td>\n",
              "      <td>ADULTOS</td>\n",
              "      <td>1</td>\n",
              "    </tr>\n",
              "    <tr>\n",
              "      <th>1</th>\n",
              "      <td>BOYACÁ</td>\n",
              "      <td>DUITAMA</td>\n",
              "      <td>15238000</td>\n",
              "      <td>ARMA BLANCA / CORTOPUNZANTE</td>\n",
              "      <td>1/01/2010</td>\n",
              "      <td>FEMENINO</td>\n",
              "      <td>ADULTOS</td>\n",
              "      <td>1</td>\n",
              "    </tr>\n",
              "    <tr>\n",
              "      <th>2</th>\n",
              "      <td>CAQUETÁ</td>\n",
              "      <td>PUERTO RICO</td>\n",
              "      <td>18592000</td>\n",
              "      <td>ARMA BLANCA / CORTOPUNZANTE</td>\n",
              "      <td>1/01/2010</td>\n",
              "      <td>MASCULINO</td>\n",
              "      <td>ADULTOS</td>\n",
              "      <td>1</td>\n",
              "    </tr>\n",
              "    <tr>\n",
              "      <th>3</th>\n",
              "      <td>CASANARE</td>\n",
              "      <td>MANÍ</td>\n",
              "      <td>85139000</td>\n",
              "      <td>ARMA BLANCA / CORTOPUNZANTE</td>\n",
              "      <td>1/01/2010</td>\n",
              "      <td>FEMENINO</td>\n",
              "      <td>ADULTOS</td>\n",
              "      <td>1</td>\n",
              "    </tr>\n",
              "    <tr>\n",
              "      <th>4</th>\n",
              "      <td>CUNDINAMARCA</td>\n",
              "      <td>BOGOTÁ D.C. (CT)</td>\n",
              "      <td>11001000</td>\n",
              "      <td>ARMA BLANCA / CORTOPUNZANTE</td>\n",
              "      <td>1/01/2010</td>\n",
              "      <td>FEMENINO</td>\n",
              "      <td>ADULTOS</td>\n",
              "      <td>1</td>\n",
              "    </tr>\n",
              "    <tr>\n",
              "      <th>...</th>\n",
              "      <td>...</td>\n",
              "      <td>...</td>\n",
              "      <td>...</td>\n",
              "      <td>...</td>\n",
              "      <td>...</td>\n",
              "      <td>...</td>\n",
              "      <td>...</td>\n",
              "      <td>...</td>\n",
              "    </tr>\n",
              "    <tr>\n",
              "      <th>476965</th>\n",
              "      <td>VICHADA</td>\n",
              "      <td>SANTA ROSALÍA</td>\n",
              "      <td>99624000</td>\n",
              "      <td>SIN EMPLEO DE ARMAS</td>\n",
              "      <td>44250</td>\n",
              "      <td>FEMENINO</td>\n",
              "      <td>MENORES</td>\n",
              "      <td>1</td>\n",
              "    </tr>\n",
              "    <tr>\n",
              "      <th>476966</th>\n",
              "      <td>VICHADA</td>\n",
              "      <td>SANTA ROSALÍA</td>\n",
              "      <td>99624000</td>\n",
              "      <td>SIN EMPLEO DE ARMAS</td>\n",
              "      <td>44262</td>\n",
              "      <td>FEMENINO</td>\n",
              "      <td>ADULTOS</td>\n",
              "      <td>1</td>\n",
              "    </tr>\n",
              "    <tr>\n",
              "      <th>476967</th>\n",
              "      <td>VICHADA</td>\n",
              "      <td>SANTA ROSALÍA</td>\n",
              "      <td>99624000</td>\n",
              "      <td>SIN EMPLEO DE ARMAS</td>\n",
              "      <td>44300</td>\n",
              "      <td>FEMENINO</td>\n",
              "      <td>ADULTOS</td>\n",
              "      <td>1</td>\n",
              "    </tr>\n",
              "    <tr>\n",
              "      <th>476968</th>\n",
              "      <td>CUNDINAMARCA</td>\n",
              "      <td>TAUSA</td>\n",
              "      <td>25793000</td>\n",
              "      <td>NaN</td>\n",
              "      <td>44294</td>\n",
              "      <td>FEMENINO</td>\n",
              "      <td>ADULTOS</td>\n",
              "      <td>1</td>\n",
              "    </tr>\n",
              "    <tr>\n",
              "      <th>476969</th>\n",
              "      <td>CUNDINAMARCA</td>\n",
              "      <td>ZIPAQUIRÁ</td>\n",
              "      <td>25899000</td>\n",
              "      <td>NaN</td>\n",
              "      <td>44245</td>\n",
              "      <td>FEMENINO</td>\n",
              "      <td>ADULTOS</td>\n",
              "      <td>1</td>\n",
              "    </tr>\n",
              "  </tbody>\n",
              "</table>\n",
              "<p>476970 rows × 8 columns</p>\n",
              "</div>\n",
              "      <button class=\"colab-df-convert\" onclick=\"convertToInteractive('df-06bbda82-f56b-419a-af6d-776d7d0e39ac')\"\n",
              "              title=\"Convert this dataframe to an interactive table.\"\n",
              "              style=\"display:none;\">\n",
              "        \n",
              "  <svg xmlns=\"http://www.w3.org/2000/svg\" height=\"24px\"viewBox=\"0 0 24 24\"\n",
              "       width=\"24px\">\n",
              "    <path d=\"M0 0h24v24H0V0z\" fill=\"none\"/>\n",
              "    <path d=\"M18.56 5.44l.94 2.06.94-2.06 2.06-.94-2.06-.94-.94-2.06-.94 2.06-2.06.94zm-11 1L8.5 8.5l.94-2.06 2.06-.94-2.06-.94L8.5 2.5l-.94 2.06-2.06.94zm10 10l.94 2.06.94-2.06 2.06-.94-2.06-.94-.94-2.06-.94 2.06-2.06.94z\"/><path d=\"M17.41 7.96l-1.37-1.37c-.4-.4-.92-.59-1.43-.59-.52 0-1.04.2-1.43.59L10.3 9.45l-7.72 7.72c-.78.78-.78 2.05 0 2.83L4 21.41c.39.39.9.59 1.41.59.51 0 1.02-.2 1.41-.59l7.78-7.78 2.81-2.81c.8-.78.8-2.07 0-2.86zM5.41 20L4 18.59l7.72-7.72 1.47 1.35L5.41 20z\"/>\n",
              "  </svg>\n",
              "      </button>\n",
              "      \n",
              "  <style>\n",
              "    .colab-df-container {\n",
              "      display:flex;\n",
              "      flex-wrap:wrap;\n",
              "      gap: 12px;\n",
              "    }\n",
              "\n",
              "    .colab-df-convert {\n",
              "      background-color: #E8F0FE;\n",
              "      border: none;\n",
              "      border-radius: 50%;\n",
              "      cursor: pointer;\n",
              "      display: none;\n",
              "      fill: #1967D2;\n",
              "      height: 32px;\n",
              "      padding: 0 0 0 0;\n",
              "      width: 32px;\n",
              "    }\n",
              "\n",
              "    .colab-df-convert:hover {\n",
              "      background-color: #E2EBFA;\n",
              "      box-shadow: 0px 1px 2px rgba(60, 64, 67, 0.3), 0px 1px 3px 1px rgba(60, 64, 67, 0.15);\n",
              "      fill: #174EA6;\n",
              "    }\n",
              "\n",
              "    [theme=dark] .colab-df-convert {\n",
              "      background-color: #3B4455;\n",
              "      fill: #D2E3FC;\n",
              "    }\n",
              "\n",
              "    [theme=dark] .colab-df-convert:hover {\n",
              "      background-color: #434B5C;\n",
              "      box-shadow: 0px 1px 3px 1px rgba(0, 0, 0, 0.15);\n",
              "      filter: drop-shadow(0px 1px 2px rgba(0, 0, 0, 0.3));\n",
              "      fill: #FFFFFF;\n",
              "    }\n",
              "  </style>\n",
              "\n",
              "      <script>\n",
              "        const buttonEl =\n",
              "          document.querySelector('#df-06bbda82-f56b-419a-af6d-776d7d0e39ac button.colab-df-convert');\n",
              "        buttonEl.style.display =\n",
              "          google.colab.kernel.accessAllowed ? 'block' : 'none';\n",
              "\n",
              "        async function convertToInteractive(key) {\n",
              "          const element = document.querySelector('#df-06bbda82-f56b-419a-af6d-776d7d0e39ac');\n",
              "          const dataTable =\n",
              "            await google.colab.kernel.invokeFunction('convertToInteractive',\n",
              "                                                     [key], {});\n",
              "          if (!dataTable) return;\n",
              "\n",
              "          const docLinkHtml = 'Like what you see? Visit the ' +\n",
              "            '<a target=\"_blank\" href=https://colab.research.google.com/notebooks/data_table.ipynb>data table notebook</a>'\n",
              "            + ' to learn more about interactive tables.';\n",
              "          element.innerHTML = '';\n",
              "          dataTable['output_type'] = 'display_data';\n",
              "          await google.colab.output.renderOutput(dataTable, element);\n",
              "          const docLink = document.createElement('div');\n",
              "          docLink.innerHTML = docLinkHtml;\n",
              "          element.appendChild(docLink);\n",
              "        }\n",
              "      </script>\n",
              "    </div>\n",
              "  </div>\n",
              "  "
            ],
            "text/plain": [
              "        DEPARTAMENTO          MUNICIPIO CODIGO DANE  \\\n",
              "0          ATLÁNTICO  BARRANQUILLA (CT)     8001000   \n",
              "1             BOYACÁ            DUITAMA    15238000   \n",
              "2            CAQUETÁ        PUERTO RICO    18592000   \n",
              "3           CASANARE               MANÍ    85139000   \n",
              "4       CUNDINAMARCA   BOGOTÁ D.C. (CT)    11001000   \n",
              "...              ...                ...         ...   \n",
              "476965       VICHADA      SANTA ROSALÍA    99624000   \n",
              "476966       VICHADA      SANTA ROSALÍA    99624000   \n",
              "476967       VICHADA      SANTA ROSALÍA    99624000   \n",
              "476968  CUNDINAMARCA              TAUSA    25793000   \n",
              "476969  CUNDINAMARCA          ZIPAQUIRÁ    25899000   \n",
              "\n",
              "                       ARMAS MEDIOS FECHA HECHO     GENERO GRUPO ETARIO  \\\n",
              "0       ARMA BLANCA / CORTOPUNZANTE   1/01/2010  MASCULINO      ADULTOS   \n",
              "1       ARMA BLANCA / CORTOPUNZANTE   1/01/2010   FEMENINO      ADULTOS   \n",
              "2       ARMA BLANCA / CORTOPUNZANTE   1/01/2010  MASCULINO      ADULTOS   \n",
              "3       ARMA BLANCA / CORTOPUNZANTE   1/01/2010   FEMENINO      ADULTOS   \n",
              "4       ARMA BLANCA / CORTOPUNZANTE   1/01/2010   FEMENINO      ADULTOS   \n",
              "...                             ...         ...        ...          ...   \n",
              "476965          SIN EMPLEO DE ARMAS       44250   FEMENINO      MENORES   \n",
              "476966          SIN EMPLEO DE ARMAS       44262   FEMENINO      ADULTOS   \n",
              "476967          SIN EMPLEO DE ARMAS       44300   FEMENINO      ADULTOS   \n",
              "476968                          NaN       44294   FEMENINO      ADULTOS   \n",
              "476969                          NaN       44245   FEMENINO      ADULTOS   \n",
              "\n",
              "        CANTIDAD  \n",
              "0              1  \n",
              "1              1  \n",
              "2              1  \n",
              "3              1  \n",
              "4              1  \n",
              "...          ...  \n",
              "476965         1  \n",
              "476966         1  \n",
              "476967         1  \n",
              "476968         1  \n",
              "476969         1  \n",
              "\n",
              "[476970 rows x 8 columns]"
            ]
          },
          "execution_count": 99,
          "metadata": {},
          "output_type": "execute_result"
        }
      ],
      "source": [
        "df"
      ]
    },
    {
      "cell_type": "code",
      "execution_count": 100,
      "id": "00d51410-5eba-44a3-a328-d4cffaaee813",
      "metadata": {
        "colab": {
          "base_uri": "https://localhost:8080/"
        },
        "id": "00d51410-5eba-44a3-a328-d4cffaaee813",
        "outputId": "5b15be30-3b41-448d-aeba-cc2da76ff086"
      },
      "outputs": [
        {
          "data": {
            "text/plain": [
              "array([    39,     94,    793, ..., 476456, 476517, 476526])"
            ]
          },
          "execution_count": 100,
          "metadata": {},
          "output_type": "execute_result"
        }
      ],
      "source": [
        "##outlayers\n",
        "z = np.abs(stats.zscore(df['CANTIDAD']))\n",
        "umbral = 3\n",
        "index_del = np.where(z > umbral)[0]\n",
        "index_del"
      ]
    },
    {
      "cell_type": "code",
      "execution_count": 101,
      "id": "e57ea063-8949-4718-bbf5-dc520bbba348",
      "metadata": {
        "colab": {
          "base_uri": "https://localhost:8080/",
          "height": 572
        },
        "id": "e57ea063-8949-4718-bbf5-dc520bbba348",
        "outputId": "b5be1b7c-d315-4efc-8abf-b3b338a9b6a8"
      },
      "outputs": [
        {
          "data": {
            "text/html": [
              "\n",
              "  <div id=\"df-ddf06aa9-6e0d-459b-a9b0-6a5be3fb8438\">\n",
              "    <div class=\"colab-df-container\">\n",
              "      <div>\n",
              "<style scoped>\n",
              "    .dataframe tbody tr th:only-of-type {\n",
              "        vertical-align: middle;\n",
              "    }\n",
              "\n",
              "    .dataframe tbody tr th {\n",
              "        vertical-align: top;\n",
              "    }\n",
              "\n",
              "    .dataframe thead th {\n",
              "        text-align: right;\n",
              "    }\n",
              "</style>\n",
              "<table border=\"1\" class=\"dataframe\">\n",
              "  <thead>\n",
              "    <tr style=\"text-align: right;\">\n",
              "      <th></th>\n",
              "      <th>DEPARTAMENTO</th>\n",
              "      <th>MUNICIPIO</th>\n",
              "      <th>CODIGO DANE</th>\n",
              "      <th>ARMAS MEDIOS</th>\n",
              "      <th>FECHA HECHO</th>\n",
              "      <th>GENERO</th>\n",
              "      <th>GRUPO ETARIO</th>\n",
              "      <th>CANTIDAD</th>\n",
              "    </tr>\n",
              "  </thead>\n",
              "  <tbody>\n",
              "    <tr>\n",
              "      <th>0</th>\n",
              "      <td>ATLÁNTICO</td>\n",
              "      <td>BARRANQUILLA (CT)</td>\n",
              "      <td>8001000</td>\n",
              "      <td>ARMA BLANCA / CORTOPUNZANTE</td>\n",
              "      <td>1/01/2010</td>\n",
              "      <td>MASCULINO</td>\n",
              "      <td>ADULTOS</td>\n",
              "      <td>1</td>\n",
              "    </tr>\n",
              "    <tr>\n",
              "      <th>1</th>\n",
              "      <td>BOYACÁ</td>\n",
              "      <td>DUITAMA</td>\n",
              "      <td>15238000</td>\n",
              "      <td>ARMA BLANCA / CORTOPUNZANTE</td>\n",
              "      <td>1/01/2010</td>\n",
              "      <td>FEMENINO</td>\n",
              "      <td>ADULTOS</td>\n",
              "      <td>1</td>\n",
              "    </tr>\n",
              "    <tr>\n",
              "      <th>2</th>\n",
              "      <td>CAQUETÁ</td>\n",
              "      <td>PUERTO RICO</td>\n",
              "      <td>18592000</td>\n",
              "      <td>ARMA BLANCA / CORTOPUNZANTE</td>\n",
              "      <td>1/01/2010</td>\n",
              "      <td>MASCULINO</td>\n",
              "      <td>ADULTOS</td>\n",
              "      <td>1</td>\n",
              "    </tr>\n",
              "    <tr>\n",
              "      <th>3</th>\n",
              "      <td>CASANARE</td>\n",
              "      <td>MANÍ</td>\n",
              "      <td>85139000</td>\n",
              "      <td>ARMA BLANCA / CORTOPUNZANTE</td>\n",
              "      <td>1/01/2010</td>\n",
              "      <td>FEMENINO</td>\n",
              "      <td>ADULTOS</td>\n",
              "      <td>1</td>\n",
              "    </tr>\n",
              "    <tr>\n",
              "      <th>4</th>\n",
              "      <td>CUNDINAMARCA</td>\n",
              "      <td>BOGOTÁ D.C. (CT)</td>\n",
              "      <td>11001000</td>\n",
              "      <td>ARMA BLANCA / CORTOPUNZANTE</td>\n",
              "      <td>1/01/2010</td>\n",
              "      <td>FEMENINO</td>\n",
              "      <td>ADULTOS</td>\n",
              "      <td>1</td>\n",
              "    </tr>\n",
              "    <tr>\n",
              "      <th>...</th>\n",
              "      <td>...</td>\n",
              "      <td>...</td>\n",
              "      <td>...</td>\n",
              "      <td>...</td>\n",
              "      <td>...</td>\n",
              "      <td>...</td>\n",
              "      <td>...</td>\n",
              "      <td>...</td>\n",
              "    </tr>\n",
              "    <tr>\n",
              "      <th>476965</th>\n",
              "      <td>VICHADA</td>\n",
              "      <td>SANTA ROSALÍA</td>\n",
              "      <td>99624000</td>\n",
              "      <td>SIN EMPLEO DE ARMAS</td>\n",
              "      <td>44250</td>\n",
              "      <td>FEMENINO</td>\n",
              "      <td>MENORES</td>\n",
              "      <td>1</td>\n",
              "    </tr>\n",
              "    <tr>\n",
              "      <th>476966</th>\n",
              "      <td>VICHADA</td>\n",
              "      <td>SANTA ROSALÍA</td>\n",
              "      <td>99624000</td>\n",
              "      <td>SIN EMPLEO DE ARMAS</td>\n",
              "      <td>44262</td>\n",
              "      <td>FEMENINO</td>\n",
              "      <td>ADULTOS</td>\n",
              "      <td>1</td>\n",
              "    </tr>\n",
              "    <tr>\n",
              "      <th>476967</th>\n",
              "      <td>VICHADA</td>\n",
              "      <td>SANTA ROSALÍA</td>\n",
              "      <td>99624000</td>\n",
              "      <td>SIN EMPLEO DE ARMAS</td>\n",
              "      <td>44300</td>\n",
              "      <td>FEMENINO</td>\n",
              "      <td>ADULTOS</td>\n",
              "      <td>1</td>\n",
              "    </tr>\n",
              "    <tr>\n",
              "      <th>476968</th>\n",
              "      <td>CUNDINAMARCA</td>\n",
              "      <td>TAUSA</td>\n",
              "      <td>25793000</td>\n",
              "      <td>NaN</td>\n",
              "      <td>44294</td>\n",
              "      <td>FEMENINO</td>\n",
              "      <td>ADULTOS</td>\n",
              "      <td>1</td>\n",
              "    </tr>\n",
              "    <tr>\n",
              "      <th>476969</th>\n",
              "      <td>CUNDINAMARCA</td>\n",
              "      <td>ZIPAQUIRÁ</td>\n",
              "      <td>25899000</td>\n",
              "      <td>NaN</td>\n",
              "      <td>44245</td>\n",
              "      <td>FEMENINO</td>\n",
              "      <td>ADULTOS</td>\n",
              "      <td>1</td>\n",
              "    </tr>\n",
              "  </tbody>\n",
              "</table>\n",
              "<p>471348 rows × 8 columns</p>\n",
              "</div>\n",
              "      <button class=\"colab-df-convert\" onclick=\"convertToInteractive('df-ddf06aa9-6e0d-459b-a9b0-6a5be3fb8438')\"\n",
              "              title=\"Convert this dataframe to an interactive table.\"\n",
              "              style=\"display:none;\">\n",
              "        \n",
              "  <svg xmlns=\"http://www.w3.org/2000/svg\" height=\"24px\"viewBox=\"0 0 24 24\"\n",
              "       width=\"24px\">\n",
              "    <path d=\"M0 0h24v24H0V0z\" fill=\"none\"/>\n",
              "    <path d=\"M18.56 5.44l.94 2.06.94-2.06 2.06-.94-2.06-.94-.94-2.06-.94 2.06-2.06.94zm-11 1L8.5 8.5l.94-2.06 2.06-.94-2.06-.94L8.5 2.5l-.94 2.06-2.06.94zm10 10l.94 2.06.94-2.06 2.06-.94-2.06-.94-.94-2.06-.94 2.06-2.06.94z\"/><path d=\"M17.41 7.96l-1.37-1.37c-.4-.4-.92-.59-1.43-.59-.52 0-1.04.2-1.43.59L10.3 9.45l-7.72 7.72c-.78.78-.78 2.05 0 2.83L4 21.41c.39.39.9.59 1.41.59.51 0 1.02-.2 1.41-.59l7.78-7.78 2.81-2.81c.8-.78.8-2.07 0-2.86zM5.41 20L4 18.59l7.72-7.72 1.47 1.35L5.41 20z\"/>\n",
              "  </svg>\n",
              "      </button>\n",
              "      \n",
              "  <style>\n",
              "    .colab-df-container {\n",
              "      display:flex;\n",
              "      flex-wrap:wrap;\n",
              "      gap: 12px;\n",
              "    }\n",
              "\n",
              "    .colab-df-convert {\n",
              "      background-color: #E8F0FE;\n",
              "      border: none;\n",
              "      border-radius: 50%;\n",
              "      cursor: pointer;\n",
              "      display: none;\n",
              "      fill: #1967D2;\n",
              "      height: 32px;\n",
              "      padding: 0 0 0 0;\n",
              "      width: 32px;\n",
              "    }\n",
              "\n",
              "    .colab-df-convert:hover {\n",
              "      background-color: #E2EBFA;\n",
              "      box-shadow: 0px 1px 2px rgba(60, 64, 67, 0.3), 0px 1px 3px 1px rgba(60, 64, 67, 0.15);\n",
              "      fill: #174EA6;\n",
              "    }\n",
              "\n",
              "    [theme=dark] .colab-df-convert {\n",
              "      background-color: #3B4455;\n",
              "      fill: #D2E3FC;\n",
              "    }\n",
              "\n",
              "    [theme=dark] .colab-df-convert:hover {\n",
              "      background-color: #434B5C;\n",
              "      box-shadow: 0px 1px 3px 1px rgba(0, 0, 0, 0.15);\n",
              "      filter: drop-shadow(0px 1px 2px rgba(0, 0, 0, 0.3));\n",
              "      fill: #FFFFFF;\n",
              "    }\n",
              "  </style>\n",
              "\n",
              "      <script>\n",
              "        const buttonEl =\n",
              "          document.querySelector('#df-ddf06aa9-6e0d-459b-a9b0-6a5be3fb8438 button.colab-df-convert');\n",
              "        buttonEl.style.display =\n",
              "          google.colab.kernel.accessAllowed ? 'block' : 'none';\n",
              "\n",
              "        async function convertToInteractive(key) {\n",
              "          const element = document.querySelector('#df-ddf06aa9-6e0d-459b-a9b0-6a5be3fb8438');\n",
              "          const dataTable =\n",
              "            await google.colab.kernel.invokeFunction('convertToInteractive',\n",
              "                                                     [key], {});\n",
              "          if (!dataTable) return;\n",
              "\n",
              "          const docLinkHtml = 'Like what you see? Visit the ' +\n",
              "            '<a target=\"_blank\" href=https://colab.research.google.com/notebooks/data_table.ipynb>data table notebook</a>'\n",
              "            + ' to learn more about interactive tables.';\n",
              "          element.innerHTML = '';\n",
              "          dataTable['output_type'] = 'display_data';\n",
              "          await google.colab.output.renderOutput(dataTable, element);\n",
              "          const docLink = document.createElement('div');\n",
              "          docLink.innerHTML = docLinkHtml;\n",
              "          element.appendChild(docLink);\n",
              "        }\n",
              "      </script>\n",
              "    </div>\n",
              "  </div>\n",
              "  "
            ],
            "text/plain": [
              "        DEPARTAMENTO          MUNICIPIO CODIGO DANE  \\\n",
              "0          ATLÁNTICO  BARRANQUILLA (CT)     8001000   \n",
              "1             BOYACÁ            DUITAMA    15238000   \n",
              "2            CAQUETÁ        PUERTO RICO    18592000   \n",
              "3           CASANARE               MANÍ    85139000   \n",
              "4       CUNDINAMARCA   BOGOTÁ D.C. (CT)    11001000   \n",
              "...              ...                ...         ...   \n",
              "476965       VICHADA      SANTA ROSALÍA    99624000   \n",
              "476966       VICHADA      SANTA ROSALÍA    99624000   \n",
              "476967       VICHADA      SANTA ROSALÍA    99624000   \n",
              "476968  CUNDINAMARCA              TAUSA    25793000   \n",
              "476969  CUNDINAMARCA          ZIPAQUIRÁ    25899000   \n",
              "\n",
              "                       ARMAS MEDIOS FECHA HECHO     GENERO GRUPO ETARIO  \\\n",
              "0       ARMA BLANCA / CORTOPUNZANTE   1/01/2010  MASCULINO      ADULTOS   \n",
              "1       ARMA BLANCA / CORTOPUNZANTE   1/01/2010   FEMENINO      ADULTOS   \n",
              "2       ARMA BLANCA / CORTOPUNZANTE   1/01/2010  MASCULINO      ADULTOS   \n",
              "3       ARMA BLANCA / CORTOPUNZANTE   1/01/2010   FEMENINO      ADULTOS   \n",
              "4       ARMA BLANCA / CORTOPUNZANTE   1/01/2010   FEMENINO      ADULTOS   \n",
              "...                             ...         ...        ...          ...   \n",
              "476965          SIN EMPLEO DE ARMAS       44250   FEMENINO      MENORES   \n",
              "476966          SIN EMPLEO DE ARMAS       44262   FEMENINO      ADULTOS   \n",
              "476967          SIN EMPLEO DE ARMAS       44300   FEMENINO      ADULTOS   \n",
              "476968                          NaN       44294   FEMENINO      ADULTOS   \n",
              "476969                          NaN       44245   FEMENINO      ADULTOS   \n",
              "\n",
              "        CANTIDAD  \n",
              "0              1  \n",
              "1              1  \n",
              "2              1  \n",
              "3              1  \n",
              "4              1  \n",
              "...          ...  \n",
              "476965         1  \n",
              "476966         1  \n",
              "476967         1  \n",
              "476968         1  \n",
              "476969         1  \n",
              "\n",
              "[471348 rows x 8 columns]"
            ]
          },
          "execution_count": 101,
          "metadata": {},
          "output_type": "execute_result"
        }
      ],
      "source": [
        "df.drop(index=index_del, inplace=True)\n",
        "df"
      ]
    },
    {
      "cell_type": "code",
      "execution_count": 102,
      "id": "d31d430d-03d7-4c48-8547-49fb06ab366a",
      "metadata": {
        "colab": {
          "base_uri": "https://localhost:8080/"
        },
        "id": "d31d430d-03d7-4c48-8547-49fb06ab366a",
        "outputId": "c023c3de-e7c0-4ac1-f756-dbe4d7177751"
      },
      "outputs": [
        {
          "data": {
            "text/plain": [
              "DEPARTAMENTO       0\n",
              "MUNICIPIO          0\n",
              "CODIGO DANE        0\n",
              "ARMAS MEDIOS       2\n",
              "FECHA HECHO        0\n",
              "GENERO             3\n",
              "GRUPO ETARIO    1593\n",
              "CANTIDAD           0\n",
              "dtype: int64"
            ]
          },
          "execution_count": 102,
          "metadata": {},
          "output_type": "execute_result"
        }
      ],
      "source": [
        "df.isna().sum()"
      ]
    },
    {
      "cell_type": "code",
      "execution_count": 103,
      "id": "bb41bc82-84ec-4253-bd4a-e443ba4ef94f",
      "metadata": {
        "colab": {
          "base_uri": "https://localhost:8080/",
          "height": 589
        },
        "id": "bb41bc82-84ec-4253-bd4a-e443ba4ef94f",
        "outputId": "e8ee825f-1f00-4573-dc8c-480c0f42058f"
      },
      "outputs": [
        {
          "data": {
            "text/html": [
              "\n",
              "  <div id=\"df-cc7aca4d-207e-4ccf-8961-52b33345bae5\">\n",
              "    <div class=\"colab-df-container\">\n",
              "      <div>\n",
              "<style scoped>\n",
              "    .dataframe tbody tr th:only-of-type {\n",
              "        vertical-align: middle;\n",
              "    }\n",
              "\n",
              "    .dataframe tbody tr th {\n",
              "        vertical-align: top;\n",
              "    }\n",
              "\n",
              "    .dataframe thead th {\n",
              "        text-align: right;\n",
              "    }\n",
              "</style>\n",
              "<table border=\"1\" class=\"dataframe\">\n",
              "  <thead>\n",
              "    <tr style=\"text-align: right;\">\n",
              "      <th></th>\n",
              "      <th>DEPARTAMENTO</th>\n",
              "      <th>MUNICIPIO</th>\n",
              "      <th>CODIGO DANE</th>\n",
              "      <th>ARMAS MEDIOS</th>\n",
              "      <th>FECHA HECHO</th>\n",
              "      <th>GENERO</th>\n",
              "      <th>GRUPO ETARIO</th>\n",
              "      <th>CANTIDAD</th>\n",
              "    </tr>\n",
              "  </thead>\n",
              "  <tbody>\n",
              "    <tr>\n",
              "      <th>0</th>\n",
              "      <td>ATLÁNTICO</td>\n",
              "      <td>BARRANQUILLA (CT)</td>\n",
              "      <td>8001000</td>\n",
              "      <td>ARMA BLANCA / CORTOPUNZANTE</td>\n",
              "      <td>1/01/2010</td>\n",
              "      <td>MASCULINO</td>\n",
              "      <td>ADULTOS</td>\n",
              "      <td>1</td>\n",
              "    </tr>\n",
              "    <tr>\n",
              "      <th>1</th>\n",
              "      <td>BOYACÁ</td>\n",
              "      <td>DUITAMA</td>\n",
              "      <td>15238000</td>\n",
              "      <td>ARMA BLANCA / CORTOPUNZANTE</td>\n",
              "      <td>1/01/2010</td>\n",
              "      <td>FEMENINO</td>\n",
              "      <td>ADULTOS</td>\n",
              "      <td>1</td>\n",
              "    </tr>\n",
              "    <tr>\n",
              "      <th>2</th>\n",
              "      <td>CAQUETÁ</td>\n",
              "      <td>PUERTO RICO</td>\n",
              "      <td>18592000</td>\n",
              "      <td>ARMA BLANCA / CORTOPUNZANTE</td>\n",
              "      <td>1/01/2010</td>\n",
              "      <td>MASCULINO</td>\n",
              "      <td>ADULTOS</td>\n",
              "      <td>1</td>\n",
              "    </tr>\n",
              "    <tr>\n",
              "      <th>3</th>\n",
              "      <td>CASANARE</td>\n",
              "      <td>MANÍ</td>\n",
              "      <td>85139000</td>\n",
              "      <td>ARMA BLANCA / CORTOPUNZANTE</td>\n",
              "      <td>1/01/2010</td>\n",
              "      <td>FEMENINO</td>\n",
              "      <td>ADULTOS</td>\n",
              "      <td>1</td>\n",
              "    </tr>\n",
              "    <tr>\n",
              "      <th>4</th>\n",
              "      <td>CUNDINAMARCA</td>\n",
              "      <td>BOGOTÁ D.C. (CT)</td>\n",
              "      <td>11001000</td>\n",
              "      <td>ARMA BLANCA / CORTOPUNZANTE</td>\n",
              "      <td>1/01/2010</td>\n",
              "      <td>FEMENINO</td>\n",
              "      <td>ADULTOS</td>\n",
              "      <td>1</td>\n",
              "    </tr>\n",
              "    <tr>\n",
              "      <th>...</th>\n",
              "      <td>...</td>\n",
              "      <td>...</td>\n",
              "      <td>...</td>\n",
              "      <td>...</td>\n",
              "      <td>...</td>\n",
              "      <td>...</td>\n",
              "      <td>...</td>\n",
              "      <td>...</td>\n",
              "    </tr>\n",
              "    <tr>\n",
              "      <th>476963</th>\n",
              "      <td>VICHADA</td>\n",
              "      <td>PUERTO CARREÑO (CT)</td>\n",
              "      <td>99001000</td>\n",
              "      <td>SIN EMPLEO DE ARMAS</td>\n",
              "      <td>44335</td>\n",
              "      <td>MASCULINO</td>\n",
              "      <td>ADULTOS</td>\n",
              "      <td>1</td>\n",
              "    </tr>\n",
              "    <tr>\n",
              "      <th>476964</th>\n",
              "      <td>VICHADA</td>\n",
              "      <td>SANTA ROSALÍA</td>\n",
              "      <td>99624000</td>\n",
              "      <td>SIN EMPLEO DE ARMAS</td>\n",
              "      <td>44199</td>\n",
              "      <td>FEMENINO</td>\n",
              "      <td>ADULTOS</td>\n",
              "      <td>1</td>\n",
              "    </tr>\n",
              "    <tr>\n",
              "      <th>476965</th>\n",
              "      <td>VICHADA</td>\n",
              "      <td>SANTA ROSALÍA</td>\n",
              "      <td>99624000</td>\n",
              "      <td>SIN EMPLEO DE ARMAS</td>\n",
              "      <td>44250</td>\n",
              "      <td>FEMENINO</td>\n",
              "      <td>MENORES</td>\n",
              "      <td>1</td>\n",
              "    </tr>\n",
              "    <tr>\n",
              "      <th>476966</th>\n",
              "      <td>VICHADA</td>\n",
              "      <td>SANTA ROSALÍA</td>\n",
              "      <td>99624000</td>\n",
              "      <td>SIN EMPLEO DE ARMAS</td>\n",
              "      <td>44262</td>\n",
              "      <td>FEMENINO</td>\n",
              "      <td>ADULTOS</td>\n",
              "      <td>1</td>\n",
              "    </tr>\n",
              "    <tr>\n",
              "      <th>476967</th>\n",
              "      <td>VICHADA</td>\n",
              "      <td>SANTA ROSALÍA</td>\n",
              "      <td>99624000</td>\n",
              "      <td>SIN EMPLEO DE ARMAS</td>\n",
              "      <td>44300</td>\n",
              "      <td>FEMENINO</td>\n",
              "      <td>ADULTOS</td>\n",
              "      <td>1</td>\n",
              "    </tr>\n",
              "  </tbody>\n",
              "</table>\n",
              "<p>469753 rows × 8 columns</p>\n",
              "</div>\n",
              "      <button class=\"colab-df-convert\" onclick=\"convertToInteractive('df-cc7aca4d-207e-4ccf-8961-52b33345bae5')\"\n",
              "              title=\"Convert this dataframe to an interactive table.\"\n",
              "              style=\"display:none;\">\n",
              "        \n",
              "  <svg xmlns=\"http://www.w3.org/2000/svg\" height=\"24px\"viewBox=\"0 0 24 24\"\n",
              "       width=\"24px\">\n",
              "    <path d=\"M0 0h24v24H0V0z\" fill=\"none\"/>\n",
              "    <path d=\"M18.56 5.44l.94 2.06.94-2.06 2.06-.94-2.06-.94-.94-2.06-.94 2.06-2.06.94zm-11 1L8.5 8.5l.94-2.06 2.06-.94-2.06-.94L8.5 2.5l-.94 2.06-2.06.94zm10 10l.94 2.06.94-2.06 2.06-.94-2.06-.94-.94-2.06-.94 2.06-2.06.94z\"/><path d=\"M17.41 7.96l-1.37-1.37c-.4-.4-.92-.59-1.43-.59-.52 0-1.04.2-1.43.59L10.3 9.45l-7.72 7.72c-.78.78-.78 2.05 0 2.83L4 21.41c.39.39.9.59 1.41.59.51 0 1.02-.2 1.41-.59l7.78-7.78 2.81-2.81c.8-.78.8-2.07 0-2.86zM5.41 20L4 18.59l7.72-7.72 1.47 1.35L5.41 20z\"/>\n",
              "  </svg>\n",
              "      </button>\n",
              "      \n",
              "  <style>\n",
              "    .colab-df-container {\n",
              "      display:flex;\n",
              "      flex-wrap:wrap;\n",
              "      gap: 12px;\n",
              "    }\n",
              "\n",
              "    .colab-df-convert {\n",
              "      background-color: #E8F0FE;\n",
              "      border: none;\n",
              "      border-radius: 50%;\n",
              "      cursor: pointer;\n",
              "      display: none;\n",
              "      fill: #1967D2;\n",
              "      height: 32px;\n",
              "      padding: 0 0 0 0;\n",
              "      width: 32px;\n",
              "    }\n",
              "\n",
              "    .colab-df-convert:hover {\n",
              "      background-color: #E2EBFA;\n",
              "      box-shadow: 0px 1px 2px rgba(60, 64, 67, 0.3), 0px 1px 3px 1px rgba(60, 64, 67, 0.15);\n",
              "      fill: #174EA6;\n",
              "    }\n",
              "\n",
              "    [theme=dark] .colab-df-convert {\n",
              "      background-color: #3B4455;\n",
              "      fill: #D2E3FC;\n",
              "    }\n",
              "\n",
              "    [theme=dark] .colab-df-convert:hover {\n",
              "      background-color: #434B5C;\n",
              "      box-shadow: 0px 1px 3px 1px rgba(0, 0, 0, 0.15);\n",
              "      filter: drop-shadow(0px 1px 2px rgba(0, 0, 0, 0.3));\n",
              "      fill: #FFFFFF;\n",
              "    }\n",
              "  </style>\n",
              "\n",
              "      <script>\n",
              "        const buttonEl =\n",
              "          document.querySelector('#df-cc7aca4d-207e-4ccf-8961-52b33345bae5 button.colab-df-convert');\n",
              "        buttonEl.style.display =\n",
              "          google.colab.kernel.accessAllowed ? 'block' : 'none';\n",
              "\n",
              "        async function convertToInteractive(key) {\n",
              "          const element = document.querySelector('#df-cc7aca4d-207e-4ccf-8961-52b33345bae5');\n",
              "          const dataTable =\n",
              "            await google.colab.kernel.invokeFunction('convertToInteractive',\n",
              "                                                     [key], {});\n",
              "          if (!dataTable) return;\n",
              "\n",
              "          const docLinkHtml = 'Like what you see? Visit the ' +\n",
              "            '<a target=\"_blank\" href=https://colab.research.google.com/notebooks/data_table.ipynb>data table notebook</a>'\n",
              "            + ' to learn more about interactive tables.';\n",
              "          element.innerHTML = '';\n",
              "          dataTable['output_type'] = 'display_data';\n",
              "          await google.colab.output.renderOutput(dataTable, element);\n",
              "          const docLink = document.createElement('div');\n",
              "          docLink.innerHTML = docLinkHtml;\n",
              "          element.appendChild(docLink);\n",
              "        }\n",
              "      </script>\n",
              "    </div>\n",
              "  </div>\n",
              "  "
            ],
            "text/plain": [
              "        DEPARTAMENTO            MUNICIPIO CODIGO DANE  \\\n",
              "0          ATLÁNTICO    BARRANQUILLA (CT)     8001000   \n",
              "1             BOYACÁ              DUITAMA    15238000   \n",
              "2            CAQUETÁ          PUERTO RICO    18592000   \n",
              "3           CASANARE                 MANÍ    85139000   \n",
              "4       CUNDINAMARCA     BOGOTÁ D.C. (CT)    11001000   \n",
              "...              ...                  ...         ...   \n",
              "476963       VICHADA  PUERTO CARREÑO (CT)    99001000   \n",
              "476964       VICHADA        SANTA ROSALÍA    99624000   \n",
              "476965       VICHADA        SANTA ROSALÍA    99624000   \n",
              "476966       VICHADA        SANTA ROSALÍA    99624000   \n",
              "476967       VICHADA        SANTA ROSALÍA    99624000   \n",
              "\n",
              "                       ARMAS MEDIOS FECHA HECHO     GENERO GRUPO ETARIO  \\\n",
              "0       ARMA BLANCA / CORTOPUNZANTE   1/01/2010  MASCULINO      ADULTOS   \n",
              "1       ARMA BLANCA / CORTOPUNZANTE   1/01/2010   FEMENINO      ADULTOS   \n",
              "2       ARMA BLANCA / CORTOPUNZANTE   1/01/2010  MASCULINO      ADULTOS   \n",
              "3       ARMA BLANCA / CORTOPUNZANTE   1/01/2010   FEMENINO      ADULTOS   \n",
              "4       ARMA BLANCA / CORTOPUNZANTE   1/01/2010   FEMENINO      ADULTOS   \n",
              "...                             ...         ...        ...          ...   \n",
              "476963          SIN EMPLEO DE ARMAS       44335  MASCULINO      ADULTOS   \n",
              "476964          SIN EMPLEO DE ARMAS       44199   FEMENINO      ADULTOS   \n",
              "476965          SIN EMPLEO DE ARMAS       44250   FEMENINO      MENORES   \n",
              "476966          SIN EMPLEO DE ARMAS       44262   FEMENINO      ADULTOS   \n",
              "476967          SIN EMPLEO DE ARMAS       44300   FEMENINO      ADULTOS   \n",
              "\n",
              "        CANTIDAD  \n",
              "0              1  \n",
              "1              1  \n",
              "2              1  \n",
              "3              1  \n",
              "4              1  \n",
              "...          ...  \n",
              "476963         1  \n",
              "476964         1  \n",
              "476965         1  \n",
              "476966         1  \n",
              "476967         1  \n",
              "\n",
              "[469753 rows x 8 columns]"
            ]
          },
          "execution_count": 103,
          "metadata": {},
          "output_type": "execute_result"
        }
      ],
      "source": [
        "df.dropna(inplace=True)\n",
        "df.reset_index()\n",
        "df"
      ]
    },
    {
      "cell_type": "code",
      "execution_count": 104,
      "id": "dd0d5bb2-c7ad-4fd0-a144-d50621736a48",
      "metadata": {
        "colab": {
          "base_uri": "https://localhost:8080/"
        },
        "id": "dd0d5bb2-c7ad-4fd0-a144-d50621736a48",
        "outputId": "92112a90-6d73-443e-be1b-932dc46ecaac"
      },
      "outputs": [
        {
          "data": {
            "text/plain": [
              "DEPARTAMENTO    0\n",
              "MUNICIPIO       0\n",
              "CODIGO DANE     0\n",
              "ARMAS MEDIOS    0\n",
              "FECHA HECHO     0\n",
              "GENERO          0\n",
              "GRUPO ETARIO    0\n",
              "CANTIDAD        0\n",
              "dtype: int64"
            ]
          },
          "execution_count": 104,
          "metadata": {},
          "output_type": "execute_result"
        }
      ],
      "source": [
        "df.isna().sum()"
      ]
    },
    {
      "cell_type": "code",
      "execution_count": 105,
      "id": "8a83e651-919b-47aa-bbf0-6ee02d226a83",
      "metadata": {
        "colab": {
          "base_uri": "https://localhost:8080/",
          "height": 403
        },
        "id": "8a83e651-919b-47aa-bbf0-6ee02d226a83",
        "outputId": "b3fa2ab8-4aef-43b8-c8f8-a664304d25a0"
      },
      "outputs": [
        {
          "data": {
            "text/html": [
              "\n",
              "  <div id=\"df-af6db85e-0dc7-4fff-b86b-ec91bacd9b2b\">\n",
              "    <div class=\"colab-df-container\">\n",
              "      <div>\n",
              "<style scoped>\n",
              "    .dataframe tbody tr th:only-of-type {\n",
              "        vertical-align: middle;\n",
              "    }\n",
              "\n",
              "    .dataframe tbody tr th {\n",
              "        vertical-align: top;\n",
              "    }\n",
              "\n",
              "    .dataframe thead th {\n",
              "        text-align: right;\n",
              "    }\n",
              "</style>\n",
              "<table border=\"1\" class=\"dataframe\">\n",
              "  <thead>\n",
              "    <tr style=\"text-align: right;\">\n",
              "      <th></th>\n",
              "      <th>DEPARTAMENTO</th>\n",
              "      <th>MUNICIPIO</th>\n",
              "      <th>CODIGO DANE</th>\n",
              "      <th>ARMAS MEDIOS</th>\n",
              "      <th>FECHA HECHO</th>\n",
              "      <th>GENERO</th>\n",
              "      <th>GRUPO ETARIO</th>\n",
              "      <th>CANTIDAD</th>\n",
              "    </tr>\n",
              "  </thead>\n",
              "  <tbody>\n",
              "    <tr>\n",
              "      <th>476962</th>\n",
              "      <td>VICHADA</td>\n",
              "      <td>PUERTO CARREÑO (CT)</td>\n",
              "      <td>99001000</td>\n",
              "      <td>SIN EMPLEO DE ARMAS</td>\n",
              "      <td>44335</td>\n",
              "      <td>FEMENINO</td>\n",
              "      <td>ADULTOS</td>\n",
              "      <td>3</td>\n",
              "    </tr>\n",
              "    <tr>\n",
              "      <th>476963</th>\n",
              "      <td>VICHADA</td>\n",
              "      <td>PUERTO CARREÑO (CT)</td>\n",
              "      <td>99001000</td>\n",
              "      <td>SIN EMPLEO DE ARMAS</td>\n",
              "      <td>44335</td>\n",
              "      <td>MASCULINO</td>\n",
              "      <td>ADULTOS</td>\n",
              "      <td>1</td>\n",
              "    </tr>\n",
              "    <tr>\n",
              "      <th>476964</th>\n",
              "      <td>VICHADA</td>\n",
              "      <td>SANTA ROSALÍA</td>\n",
              "      <td>99624000</td>\n",
              "      <td>SIN EMPLEO DE ARMAS</td>\n",
              "      <td>44199</td>\n",
              "      <td>FEMENINO</td>\n",
              "      <td>ADULTOS</td>\n",
              "      <td>1</td>\n",
              "    </tr>\n",
              "    <tr>\n",
              "      <th>476965</th>\n",
              "      <td>VICHADA</td>\n",
              "      <td>SANTA ROSALÍA</td>\n",
              "      <td>99624000</td>\n",
              "      <td>SIN EMPLEO DE ARMAS</td>\n",
              "      <td>44250</td>\n",
              "      <td>FEMENINO</td>\n",
              "      <td>MENORES</td>\n",
              "      <td>1</td>\n",
              "    </tr>\n",
              "    <tr>\n",
              "      <th>476966</th>\n",
              "      <td>VICHADA</td>\n",
              "      <td>SANTA ROSALÍA</td>\n",
              "      <td>99624000</td>\n",
              "      <td>SIN EMPLEO DE ARMAS</td>\n",
              "      <td>44262</td>\n",
              "      <td>FEMENINO</td>\n",
              "      <td>ADULTOS</td>\n",
              "      <td>1</td>\n",
              "    </tr>\n",
              "    <tr>\n",
              "      <th>476967</th>\n",
              "      <td>VICHADA</td>\n",
              "      <td>SANTA ROSALÍA</td>\n",
              "      <td>99624000</td>\n",
              "      <td>SIN EMPLEO DE ARMAS</td>\n",
              "      <td>44300</td>\n",
              "      <td>FEMENINO</td>\n",
              "      <td>ADULTOS</td>\n",
              "      <td>1</td>\n",
              "    </tr>\n",
              "  </tbody>\n",
              "</table>\n",
              "</div>\n",
              "      <button class=\"colab-df-convert\" onclick=\"convertToInteractive('df-af6db85e-0dc7-4fff-b86b-ec91bacd9b2b')\"\n",
              "              title=\"Convert this dataframe to an interactive table.\"\n",
              "              style=\"display:none;\">\n",
              "        \n",
              "  <svg xmlns=\"http://www.w3.org/2000/svg\" height=\"24px\"viewBox=\"0 0 24 24\"\n",
              "       width=\"24px\">\n",
              "    <path d=\"M0 0h24v24H0V0z\" fill=\"none\"/>\n",
              "    <path d=\"M18.56 5.44l.94 2.06.94-2.06 2.06-.94-2.06-.94-.94-2.06-.94 2.06-2.06.94zm-11 1L8.5 8.5l.94-2.06 2.06-.94-2.06-.94L8.5 2.5l-.94 2.06-2.06.94zm10 10l.94 2.06.94-2.06 2.06-.94-2.06-.94-.94-2.06-.94 2.06-2.06.94z\"/><path d=\"M17.41 7.96l-1.37-1.37c-.4-.4-.92-.59-1.43-.59-.52 0-1.04.2-1.43.59L10.3 9.45l-7.72 7.72c-.78.78-.78 2.05 0 2.83L4 21.41c.39.39.9.59 1.41.59.51 0 1.02-.2 1.41-.59l7.78-7.78 2.81-2.81c.8-.78.8-2.07 0-2.86zM5.41 20L4 18.59l7.72-7.72 1.47 1.35L5.41 20z\"/>\n",
              "  </svg>\n",
              "      </button>\n",
              "      \n",
              "  <style>\n",
              "    .colab-df-container {\n",
              "      display:flex;\n",
              "      flex-wrap:wrap;\n",
              "      gap: 12px;\n",
              "    }\n",
              "\n",
              "    .colab-df-convert {\n",
              "      background-color: #E8F0FE;\n",
              "      border: none;\n",
              "      border-radius: 50%;\n",
              "      cursor: pointer;\n",
              "      display: none;\n",
              "      fill: #1967D2;\n",
              "      height: 32px;\n",
              "      padding: 0 0 0 0;\n",
              "      width: 32px;\n",
              "    }\n",
              "\n",
              "    .colab-df-convert:hover {\n",
              "      background-color: #E2EBFA;\n",
              "      box-shadow: 0px 1px 2px rgba(60, 64, 67, 0.3), 0px 1px 3px 1px rgba(60, 64, 67, 0.15);\n",
              "      fill: #174EA6;\n",
              "    }\n",
              "\n",
              "    [theme=dark] .colab-df-convert {\n",
              "      background-color: #3B4455;\n",
              "      fill: #D2E3FC;\n",
              "    }\n",
              "\n",
              "    [theme=dark] .colab-df-convert:hover {\n",
              "      background-color: #434B5C;\n",
              "      box-shadow: 0px 1px 3px 1px rgba(0, 0, 0, 0.15);\n",
              "      filter: drop-shadow(0px 1px 2px rgba(0, 0, 0, 0.3));\n",
              "      fill: #FFFFFF;\n",
              "    }\n",
              "  </style>\n",
              "\n",
              "      <script>\n",
              "        const buttonEl =\n",
              "          document.querySelector('#df-af6db85e-0dc7-4fff-b86b-ec91bacd9b2b button.colab-df-convert');\n",
              "        buttonEl.style.display =\n",
              "          google.colab.kernel.accessAllowed ? 'block' : 'none';\n",
              "\n",
              "        async function convertToInteractive(key) {\n",
              "          const element = document.querySelector('#df-af6db85e-0dc7-4fff-b86b-ec91bacd9b2b');\n",
              "          const dataTable =\n",
              "            await google.colab.kernel.invokeFunction('convertToInteractive',\n",
              "                                                     [key], {});\n",
              "          if (!dataTable) return;\n",
              "\n",
              "          const docLinkHtml = 'Like what you see? Visit the ' +\n",
              "            '<a target=\"_blank\" href=https://colab.research.google.com/notebooks/data_table.ipynb>data table notebook</a>'\n",
              "            + ' to learn more about interactive tables.';\n",
              "          element.innerHTML = '';\n",
              "          dataTable['output_type'] = 'display_data';\n",
              "          await google.colab.output.renderOutput(dataTable, element);\n",
              "          const docLink = document.createElement('div');\n",
              "          docLink.innerHTML = docLinkHtml;\n",
              "          element.appendChild(docLink);\n",
              "        }\n",
              "      </script>\n",
              "    </div>\n",
              "  </div>\n",
              "  "
            ],
            "text/plain": [
              "       DEPARTAMENTO            MUNICIPIO CODIGO DANE         ARMAS MEDIOS  \\\n",
              "476962      VICHADA  PUERTO CARREÑO (CT)    99001000  SIN EMPLEO DE ARMAS   \n",
              "476963      VICHADA  PUERTO CARREÑO (CT)    99001000  SIN EMPLEO DE ARMAS   \n",
              "476964      VICHADA        SANTA ROSALÍA    99624000  SIN EMPLEO DE ARMAS   \n",
              "476965      VICHADA        SANTA ROSALÍA    99624000  SIN EMPLEO DE ARMAS   \n",
              "476966      VICHADA        SANTA ROSALÍA    99624000  SIN EMPLEO DE ARMAS   \n",
              "476967      VICHADA        SANTA ROSALÍA    99624000  SIN EMPLEO DE ARMAS   \n",
              "\n",
              "       FECHA HECHO     GENERO GRUPO ETARIO  CANTIDAD  \n",
              "476962       44335   FEMENINO      ADULTOS         3  \n",
              "476963       44335  MASCULINO      ADULTOS         1  \n",
              "476964       44199   FEMENINO      ADULTOS         1  \n",
              "476965       44250   FEMENINO      MENORES         1  \n",
              "476966       44262   FEMENINO      ADULTOS         1  \n",
              "476967       44300   FEMENINO      ADULTOS         1  "
            ]
          },
          "execution_count": 105,
          "metadata": {},
          "output_type": "execute_result"
        }
      ],
      "source": [
        "df[~df['FECHA HECHO'].str.contains('/')]"
      ]
    },
    {
      "cell_type": "code",
      "execution_count": 106,
      "id": "f0eff355-858a-432c-bccd-f8fb5a630c11",
      "metadata": {
        "id": "f0eff355-858a-432c-bccd-f8fb5a630c11"
      },
      "outputs": [],
      "source": [
        "df.drop(df[~df['FECHA HECHO'].str.contains('/')].index, inplace=True)"
      ]
    },
    {
      "cell_type": "code",
      "execution_count": 107,
      "id": "74834a18-7ca4-43c7-9406-582cba5e3aa0",
      "metadata": {
        "colab": {
          "base_uri": "https://localhost:8080/"
        },
        "id": "74834a18-7ca4-43c7-9406-582cba5e3aa0",
        "outputId": "048c639e-1a1b-4305-e616-b598eaceacf1"
      },
      "outputs": [
        {
          "data": {
            "text/plain": [
              "DEPARTAMENTO    0\n",
              "MUNICIPIO       0\n",
              "CODIGO DANE     0\n",
              "ARMAS MEDIOS    0\n",
              "FECHA HECHO     0\n",
              "GENERO          0\n",
              "GRUPO ETARIO    0\n",
              "CANTIDAD        0\n",
              "dtype: int64"
            ]
          },
          "execution_count": 107,
          "metadata": {},
          "output_type": "execute_result"
        }
      ],
      "source": [
        "df.isna().sum()"
      ]
    },
    {
      "cell_type": "code",
      "execution_count": 108,
      "id": "623fe7be-b3f1-4660-b922-91e509e33ff4",
      "metadata": {
        "colab": {
          "base_uri": "https://localhost:8080/"
        },
        "id": "623fe7be-b3f1-4660-b922-91e509e33ff4",
        "outputId": "80260b50-ca8f-4abe-bd9c-024f837b304a"
      },
      "outputs": [
        {
          "data": {
            "text/plain": [
              "(469747, 8)"
            ]
          },
          "execution_count": 108,
          "metadata": {},
          "output_type": "execute_result"
        }
      ],
      "source": [
        "df.shape"
      ]
    },
    {
      "cell_type": "code",
      "execution_count": 109,
      "id": "db3cbd0a-0e43-48c1-b8a2-3f9d5aa4f578",
      "metadata": {
        "id": "db3cbd0a-0e43-48c1-b8a2-3f9d5aa4f578"
      },
      "outputs": [],
      "source": [
        "df.drop(df[df['GENERO'].str.contains(\"-\")].index, inplace=True)\n",
        "df.drop(df[df['ARMAS MEDIOS'].str.contains(\"-\")].index, inplace=True)"
      ]
    },
    {
      "cell_type": "code",
      "execution_count": 110,
      "id": "d78e2e38-a789-45a0-8f1f-0e3d72d6dcb4",
      "metadata": {
        "id": "d78e2e38-a789-45a0-8f1f-0e3d72d6dcb4"
      },
      "outputs": [],
      "source": [
        "df['FECHA HECHO'] = pd.to_datetime(df['FECHA HECHO'], infer_datetime_format=True,  dayfirst=True)"
      ]
    },
    {
      "cell_type": "code",
      "execution_count": 111,
      "id": "79652384-2c37-476f-a8bc-255711f8e18f",
      "metadata": {
        "colab": {
          "base_uri": "https://localhost:8080/",
          "height": 696
        },
        "id": "79652384-2c37-476f-a8bc-255711f8e18f",
        "outputId": "f3aaf850-7126-4fd5-a8f8-430283f8d447"
      },
      "outputs": [
        {
          "data": {
            "text/html": [
              "\n",
              "  <div id=\"df-96044bd9-0d72-4d41-893f-b4f41f1ad7a9\">\n",
              "    <div class=\"colab-df-container\">\n",
              "      <div>\n",
              "<style scoped>\n",
              "    .dataframe tbody tr th:only-of-type {\n",
              "        vertical-align: middle;\n",
              "    }\n",
              "\n",
              "    .dataframe tbody tr th {\n",
              "        vertical-align: top;\n",
              "    }\n",
              "\n",
              "    .dataframe thead th {\n",
              "        text-align: right;\n",
              "    }\n",
              "</style>\n",
              "<table border=\"1\" class=\"dataframe\">\n",
              "  <thead>\n",
              "    <tr style=\"text-align: right;\">\n",
              "      <th></th>\n",
              "      <th>DEPARTAMENTO</th>\n",
              "      <th>MUNICIPIO</th>\n",
              "      <th>CODIGO DANE</th>\n",
              "      <th>ARMAS MEDIOS</th>\n",
              "      <th>FECHA HECHO</th>\n",
              "      <th>GENERO</th>\n",
              "      <th>GRUPO ETARIO</th>\n",
              "      <th>CANTIDAD</th>\n",
              "      <th>Año</th>\n",
              "      <th>Mes</th>\n",
              "      <th>Dia</th>\n",
              "      <th>Dia de la semana</th>\n",
              "    </tr>\n",
              "  </thead>\n",
              "  <tbody>\n",
              "    <tr>\n",
              "      <th>0</th>\n",
              "      <td>ATLÁNTICO</td>\n",
              "      <td>BARRANQUILLA (CT)</td>\n",
              "      <td>8001000</td>\n",
              "      <td>ARMA BLANCA / CORTOPUNZANTE</td>\n",
              "      <td>2010-01-01</td>\n",
              "      <td>MASCULINO</td>\n",
              "      <td>ADULTOS</td>\n",
              "      <td>1</td>\n",
              "      <td>2010</td>\n",
              "      <td>1</td>\n",
              "      <td>1</td>\n",
              "      <td>Friday</td>\n",
              "    </tr>\n",
              "    <tr>\n",
              "      <th>1</th>\n",
              "      <td>BOYACÁ</td>\n",
              "      <td>DUITAMA</td>\n",
              "      <td>15238000</td>\n",
              "      <td>ARMA BLANCA / CORTOPUNZANTE</td>\n",
              "      <td>2010-01-01</td>\n",
              "      <td>FEMENINO</td>\n",
              "      <td>ADULTOS</td>\n",
              "      <td>1</td>\n",
              "      <td>2010</td>\n",
              "      <td>1</td>\n",
              "      <td>1</td>\n",
              "      <td>Friday</td>\n",
              "    </tr>\n",
              "    <tr>\n",
              "      <th>2</th>\n",
              "      <td>CAQUETÁ</td>\n",
              "      <td>PUERTO RICO</td>\n",
              "      <td>18592000</td>\n",
              "      <td>ARMA BLANCA / CORTOPUNZANTE</td>\n",
              "      <td>2010-01-01</td>\n",
              "      <td>MASCULINO</td>\n",
              "      <td>ADULTOS</td>\n",
              "      <td>1</td>\n",
              "      <td>2010</td>\n",
              "      <td>1</td>\n",
              "      <td>1</td>\n",
              "      <td>Friday</td>\n",
              "    </tr>\n",
              "    <tr>\n",
              "      <th>3</th>\n",
              "      <td>CASANARE</td>\n",
              "      <td>MANÍ</td>\n",
              "      <td>85139000</td>\n",
              "      <td>ARMA BLANCA / CORTOPUNZANTE</td>\n",
              "      <td>2010-01-01</td>\n",
              "      <td>FEMENINO</td>\n",
              "      <td>ADULTOS</td>\n",
              "      <td>1</td>\n",
              "      <td>2010</td>\n",
              "      <td>1</td>\n",
              "      <td>1</td>\n",
              "      <td>Friday</td>\n",
              "    </tr>\n",
              "    <tr>\n",
              "      <th>4</th>\n",
              "      <td>CUNDINAMARCA</td>\n",
              "      <td>BOGOTÁ D.C. (CT)</td>\n",
              "      <td>11001000</td>\n",
              "      <td>ARMA BLANCA / CORTOPUNZANTE</td>\n",
              "      <td>2010-01-01</td>\n",
              "      <td>FEMENINO</td>\n",
              "      <td>ADULTOS</td>\n",
              "      <td>1</td>\n",
              "      <td>2010</td>\n",
              "      <td>1</td>\n",
              "      <td>1</td>\n",
              "      <td>Friday</td>\n",
              "    </tr>\n",
              "    <tr>\n",
              "      <th>...</th>\n",
              "      <td>...</td>\n",
              "      <td>...</td>\n",
              "      <td>...</td>\n",
              "      <td>...</td>\n",
              "      <td>...</td>\n",
              "      <td>...</td>\n",
              "      <td>...</td>\n",
              "      <td>...</td>\n",
              "      <td>...</td>\n",
              "      <td>...</td>\n",
              "      <td>...</td>\n",
              "      <td>...</td>\n",
              "    </tr>\n",
              "    <tr>\n",
              "      <th>476957</th>\n",
              "      <td>VICHADA</td>\n",
              "      <td>PUERTO CARREÑO (CT)</td>\n",
              "      <td>99001000</td>\n",
              "      <td>SIN EMPLEO DE ARMAS</td>\n",
              "      <td>2021-01-05</td>\n",
              "      <td>FEMENINO</td>\n",
              "      <td>ADULTOS</td>\n",
              "      <td>1</td>\n",
              "      <td>2021</td>\n",
              "      <td>1</td>\n",
              "      <td>5</td>\n",
              "      <td>Tuesday</td>\n",
              "    </tr>\n",
              "    <tr>\n",
              "      <th>476958</th>\n",
              "      <td>VICHADA</td>\n",
              "      <td>PUERTO CARREÑO (CT)</td>\n",
              "      <td>99001000</td>\n",
              "      <td>SIN EMPLEO DE ARMAS</td>\n",
              "      <td>2021-01-14</td>\n",
              "      <td>FEMENINO</td>\n",
              "      <td>ADULTOS</td>\n",
              "      <td>1</td>\n",
              "      <td>2021</td>\n",
              "      <td>1</td>\n",
              "      <td>14</td>\n",
              "      <td>Thursday</td>\n",
              "    </tr>\n",
              "    <tr>\n",
              "      <th>476959</th>\n",
              "      <td>VICHADA</td>\n",
              "      <td>PUERTO CARREÑO (CT)</td>\n",
              "      <td>99001000</td>\n",
              "      <td>SIN EMPLEO DE ARMAS</td>\n",
              "      <td>2021-03-26</td>\n",
              "      <td>FEMENINO</td>\n",
              "      <td>ADULTOS</td>\n",
              "      <td>1</td>\n",
              "      <td>2021</td>\n",
              "      <td>3</td>\n",
              "      <td>26</td>\n",
              "      <td>Friday</td>\n",
              "    </tr>\n",
              "    <tr>\n",
              "      <th>476960</th>\n",
              "      <td>VICHADA</td>\n",
              "      <td>PUERTO CARREÑO (CT)</td>\n",
              "      <td>99001000</td>\n",
              "      <td>SIN EMPLEO DE ARMAS</td>\n",
              "      <td>2021-03-27</td>\n",
              "      <td>FEMENINO</td>\n",
              "      <td>ADULTOS</td>\n",
              "      <td>1</td>\n",
              "      <td>2021</td>\n",
              "      <td>3</td>\n",
              "      <td>27</td>\n",
              "      <td>Saturday</td>\n",
              "    </tr>\n",
              "    <tr>\n",
              "      <th>476961</th>\n",
              "      <td>VICHADA</td>\n",
              "      <td>PUERTO CARREÑO (CT)</td>\n",
              "      <td>99001000</td>\n",
              "      <td>SIN EMPLEO DE ARMAS</td>\n",
              "      <td>2021-04-15</td>\n",
              "      <td>FEMENINO</td>\n",
              "      <td>ADULTOS</td>\n",
              "      <td>1</td>\n",
              "      <td>2021</td>\n",
              "      <td>4</td>\n",
              "      <td>15</td>\n",
              "      <td>Thursday</td>\n",
              "    </tr>\n",
              "  </tbody>\n",
              "</table>\n",
              "<p>469746 rows × 12 columns</p>\n",
              "</div>\n",
              "      <button class=\"colab-df-convert\" onclick=\"convertToInteractive('df-96044bd9-0d72-4d41-893f-b4f41f1ad7a9')\"\n",
              "              title=\"Convert this dataframe to an interactive table.\"\n",
              "              style=\"display:none;\">\n",
              "        \n",
              "  <svg xmlns=\"http://www.w3.org/2000/svg\" height=\"24px\"viewBox=\"0 0 24 24\"\n",
              "       width=\"24px\">\n",
              "    <path d=\"M0 0h24v24H0V0z\" fill=\"none\"/>\n",
              "    <path d=\"M18.56 5.44l.94 2.06.94-2.06 2.06-.94-2.06-.94-.94-2.06-.94 2.06-2.06.94zm-11 1L8.5 8.5l.94-2.06 2.06-.94-2.06-.94L8.5 2.5l-.94 2.06-2.06.94zm10 10l.94 2.06.94-2.06 2.06-.94-2.06-.94-.94-2.06-.94 2.06-2.06.94z\"/><path d=\"M17.41 7.96l-1.37-1.37c-.4-.4-.92-.59-1.43-.59-.52 0-1.04.2-1.43.59L10.3 9.45l-7.72 7.72c-.78.78-.78 2.05 0 2.83L4 21.41c.39.39.9.59 1.41.59.51 0 1.02-.2 1.41-.59l7.78-7.78 2.81-2.81c.8-.78.8-2.07 0-2.86zM5.41 20L4 18.59l7.72-7.72 1.47 1.35L5.41 20z\"/>\n",
              "  </svg>\n",
              "      </button>\n",
              "      \n",
              "  <style>\n",
              "    .colab-df-container {\n",
              "      display:flex;\n",
              "      flex-wrap:wrap;\n",
              "      gap: 12px;\n",
              "    }\n",
              "\n",
              "    .colab-df-convert {\n",
              "      background-color: #E8F0FE;\n",
              "      border: none;\n",
              "      border-radius: 50%;\n",
              "      cursor: pointer;\n",
              "      display: none;\n",
              "      fill: #1967D2;\n",
              "      height: 32px;\n",
              "      padding: 0 0 0 0;\n",
              "      width: 32px;\n",
              "    }\n",
              "\n",
              "    .colab-df-convert:hover {\n",
              "      background-color: #E2EBFA;\n",
              "      box-shadow: 0px 1px 2px rgba(60, 64, 67, 0.3), 0px 1px 3px 1px rgba(60, 64, 67, 0.15);\n",
              "      fill: #174EA6;\n",
              "    }\n",
              "\n",
              "    [theme=dark] .colab-df-convert {\n",
              "      background-color: #3B4455;\n",
              "      fill: #D2E3FC;\n",
              "    }\n",
              "\n",
              "    [theme=dark] .colab-df-convert:hover {\n",
              "      background-color: #434B5C;\n",
              "      box-shadow: 0px 1px 3px 1px rgba(0, 0, 0, 0.15);\n",
              "      filter: drop-shadow(0px 1px 2px rgba(0, 0, 0, 0.3));\n",
              "      fill: #FFFFFF;\n",
              "    }\n",
              "  </style>\n",
              "\n",
              "      <script>\n",
              "        const buttonEl =\n",
              "          document.querySelector('#df-96044bd9-0d72-4d41-893f-b4f41f1ad7a9 button.colab-df-convert');\n",
              "        buttonEl.style.display =\n",
              "          google.colab.kernel.accessAllowed ? 'block' : 'none';\n",
              "\n",
              "        async function convertToInteractive(key) {\n",
              "          const element = document.querySelector('#df-96044bd9-0d72-4d41-893f-b4f41f1ad7a9');\n",
              "          const dataTable =\n",
              "            await google.colab.kernel.invokeFunction('convertToInteractive',\n",
              "                                                     [key], {});\n",
              "          if (!dataTable) return;\n",
              "\n",
              "          const docLinkHtml = 'Like what you see? Visit the ' +\n",
              "            '<a target=\"_blank\" href=https://colab.research.google.com/notebooks/data_table.ipynb>data table notebook</a>'\n",
              "            + ' to learn more about interactive tables.';\n",
              "          element.innerHTML = '';\n",
              "          dataTable['output_type'] = 'display_data';\n",
              "          await google.colab.output.renderOutput(dataTable, element);\n",
              "          const docLink = document.createElement('div');\n",
              "          docLink.innerHTML = docLinkHtml;\n",
              "          element.appendChild(docLink);\n",
              "        }\n",
              "      </script>\n",
              "    </div>\n",
              "  </div>\n",
              "  "
            ],
            "text/plain": [
              "        DEPARTAMENTO            MUNICIPIO CODIGO DANE  \\\n",
              "0          ATLÁNTICO    BARRANQUILLA (CT)     8001000   \n",
              "1             BOYACÁ              DUITAMA    15238000   \n",
              "2            CAQUETÁ          PUERTO RICO    18592000   \n",
              "3           CASANARE                 MANÍ    85139000   \n",
              "4       CUNDINAMARCA     BOGOTÁ D.C. (CT)    11001000   \n",
              "...              ...                  ...         ...   \n",
              "476957       VICHADA  PUERTO CARREÑO (CT)    99001000   \n",
              "476958       VICHADA  PUERTO CARREÑO (CT)    99001000   \n",
              "476959       VICHADA  PUERTO CARREÑO (CT)    99001000   \n",
              "476960       VICHADA  PUERTO CARREÑO (CT)    99001000   \n",
              "476961       VICHADA  PUERTO CARREÑO (CT)    99001000   \n",
              "\n",
              "                       ARMAS MEDIOS FECHA HECHO     GENERO GRUPO ETARIO  \\\n",
              "0       ARMA BLANCA / CORTOPUNZANTE  2010-01-01  MASCULINO      ADULTOS   \n",
              "1       ARMA BLANCA / CORTOPUNZANTE  2010-01-01   FEMENINO      ADULTOS   \n",
              "2       ARMA BLANCA / CORTOPUNZANTE  2010-01-01  MASCULINO      ADULTOS   \n",
              "3       ARMA BLANCA / CORTOPUNZANTE  2010-01-01   FEMENINO      ADULTOS   \n",
              "4       ARMA BLANCA / CORTOPUNZANTE  2010-01-01   FEMENINO      ADULTOS   \n",
              "...                             ...         ...        ...          ...   \n",
              "476957          SIN EMPLEO DE ARMAS  2021-01-05   FEMENINO      ADULTOS   \n",
              "476958          SIN EMPLEO DE ARMAS  2021-01-14   FEMENINO      ADULTOS   \n",
              "476959          SIN EMPLEO DE ARMAS  2021-03-26   FEMENINO      ADULTOS   \n",
              "476960          SIN EMPLEO DE ARMAS  2021-03-27   FEMENINO      ADULTOS   \n",
              "476961          SIN EMPLEO DE ARMAS  2021-04-15   FEMENINO      ADULTOS   \n",
              "\n",
              "        CANTIDAD   Año  Mes  Dia Dia de la semana  \n",
              "0              1  2010    1    1           Friday  \n",
              "1              1  2010    1    1           Friday  \n",
              "2              1  2010    1    1           Friday  \n",
              "3              1  2010    1    1           Friday  \n",
              "4              1  2010    1    1           Friday  \n",
              "...          ...   ...  ...  ...              ...  \n",
              "476957         1  2021    1    5          Tuesday  \n",
              "476958         1  2021    1   14         Thursday  \n",
              "476959         1  2021    3   26           Friday  \n",
              "476960         1  2021    3   27         Saturday  \n",
              "476961         1  2021    4   15         Thursday  \n",
              "\n",
              "[469746 rows x 12 columns]"
            ]
          },
          "execution_count": 111,
          "metadata": {},
          "output_type": "execute_result"
        }
      ],
      "source": [
        "df['Año'] = df['FECHA HECHO'].dt.year\n",
        "df['Mes'] = df['FECHA HECHO'].dt.month\n",
        "df['Dia'] = df['FECHA HECHO'].dt.day\n",
        "df['Dia de la semana'] = df['FECHA HECHO'].dt.day_name()\n",
        "df"
      ]
    },
    {
      "cell_type": "code",
      "execution_count": 112,
      "id": "25bc7fee-144f-4f28-aa55-ff5105ea5eb8",
      "metadata": {
        "colab": {
          "base_uri": "https://localhost:8080/"
        },
        "id": "25bc7fee-144f-4f28-aa55-ff5105ea5eb8",
        "outputId": "bf8b3ee7-f4c9-4280-f2a8-3b48b68d222d"
      },
      "outputs": [
        {
          "data": {
            "text/plain": [
              "False"
            ]
          },
          "execution_count": 112,
          "metadata": {},
          "output_type": "execute_result"
        }
      ],
      "source": [
        "df['ARMAS MEDIOS'] = df['ARMAS MEDIOS'].apply(lambda x : 'ARMA BLANCA / CORTOPUNZANTE' if x == 'CORTOPUNZANTES' else x)\n",
        "df['ARMAS MEDIOS'] = df['ARMAS MEDIOS'].apply(lambda x : 'NO REPORTA' if x == 'NO REPORTADO' else x)\n",
        "df['ARMAS MEDIOS'] = df['ARMAS MEDIOS'].apply(lambda x : 'ARMA BLANCA / CORTOPUNZANTE' if x == 'PUNZANTES' else x)\n",
        "df['ARMAS MEDIOS'] = df['ARMAS MEDIOS'].apply(lambda x : 'ARMA BLANCA / CORTOPUNZANTE' if x == 'CORTANTES' else x)\n",
        "(df['ARMAS MEDIOS']==\"CORTOPUNZANTES\").sum().any()"
      ]
    },
    {
      "cell_type": "code",
      "execution_count": 113,
      "id": "Fw2jOCEm5Yae",
      "metadata": {
        "id": "Fw2jOCEm5Yae"
      },
      "outputs": [],
      "source": [
        "df.drop(df[df['DEPARTAMENTO'].str.contains(\"NO REPORTA\")].index, inplace=True)\n",
        "df.drop(df[df['GRUPO ETARIO'].str.contains(\"NO REPORTA\")].index, inplace=True)"
      ]
    },
    {
      "cell_type": "code",
      "execution_count": 114,
      "id": "au1NxgtNnFH0",
      "metadata": {
        "id": "au1NxgtNnFH0"
      },
      "outputs": [],
      "source": [
        "df.to_csv(\"Violenci_Intrafamiliar_Colombia_final.cvs\")"
      ]
    },
    {
      "cell_type": "code",
      "execution_count": 115,
      "id": "cca7faa0-6240-45ab-bdb1-933ae27d11c2",
      "metadata": {
        "colab": {
          "base_uri": "https://localhost:8080/",
          "height": 667
        },
        "id": "cca7faa0-6240-45ab-bdb1-933ae27d11c2",
        "outputId": "f7096eeb-2698-4e64-f73e-fe8dbb532ada"
      },
      "outputs": [
        {
          "data": {
            "text/html": [
              "<html>\n",
              "<head><meta charset=\"utf-8\" /></head>\n",
              "<body>\n",
              "    <div>            <script src=\"https://cdnjs.cloudflare.com/ajax/libs/mathjax/2.7.5/MathJax.js?config=TeX-AMS-MML_SVG\"></script><script type=\"text/javascript\">if (window.MathJax) {MathJax.Hub.Config({SVG: {font: \"STIX-Web\"}});}</script>                <script type=\"text/javascript\">window.PlotlyConfig = {MathJaxConfig: 'local'};</script>\n",
              "        <script src=\"https://cdn.plot.ly/plotly-2.8.3.min.js\"></script>                <div id=\"1887a0e2-8b4a-48da-bb9e-9edd8f6ce532\" class=\"plotly-graph-div\" style=\"height:650px; width:100%;\"></div>            <script type=\"text/javascript\">                                    window.PLOTLYENV=window.PLOTLYENV || {};                                    if (document.getElementById(\"1887a0e2-8b4a-48da-bb9e-9edd8f6ce532\")) {                    Plotly.newPlot(                        \"1887a0e2-8b4a-48da-bb9e-9edd8f6ce532\",                        [{\"hovertemplate\":\"A\\u00f1o=%{x}<br>CANTIDAD=%{y}<extra></extra>\",\"legendgroup\":\"\",\"line\":{\"color\":\"#636efa\",\"dash\":\"solid\"},\"marker\":{\"symbol\":\"circle\"},\"mode\":\"lines\",\"name\":\"\",\"orientation\":\"v\",\"showlegend\":false,\"x\":[2010,2011,2012,2013,2014,2015,2016,2017,2018,2019,2020,2021],\"xaxis\":\"x\",\"y\":[21854,25371,30593,31782,44828,67280,75946,78462,72342,83430,104884,34081],\"yaxis\":\"y\",\"type\":\"scatter\"}],                        {\"template\":{\"data\":{\"bar\":[{\"error_x\":{\"color\":\"#2a3f5f\"},\"error_y\":{\"color\":\"#2a3f5f\"},\"marker\":{\"line\":{\"color\":\"#E5ECF6\",\"width\":0.5},\"pattern\":{\"fillmode\":\"overlay\",\"size\":10,\"solidity\":0.2}},\"type\":\"bar\"}],\"barpolar\":[{\"marker\":{\"line\":{\"color\":\"#E5ECF6\",\"width\":0.5},\"pattern\":{\"fillmode\":\"overlay\",\"size\":10,\"solidity\":0.2}},\"type\":\"barpolar\"}],\"carpet\":[{\"aaxis\":{\"endlinecolor\":\"#2a3f5f\",\"gridcolor\":\"white\",\"linecolor\":\"white\",\"minorgridcolor\":\"white\",\"startlinecolor\":\"#2a3f5f\"},\"baxis\":{\"endlinecolor\":\"#2a3f5f\",\"gridcolor\":\"white\",\"linecolor\":\"white\",\"minorgridcolor\":\"white\",\"startlinecolor\":\"#2a3f5f\"},\"type\":\"carpet\"}],\"choropleth\":[{\"colorbar\":{\"outlinewidth\":0,\"ticks\":\"\"},\"type\":\"choropleth\"}],\"contour\":[{\"colorbar\":{\"outlinewidth\":0,\"ticks\":\"\"},\"colorscale\":[[0.0,\"#0d0887\"],[0.1111111111111111,\"#46039f\"],[0.2222222222222222,\"#7201a8\"],[0.3333333333333333,\"#9c179e\"],[0.4444444444444444,\"#bd3786\"],[0.5555555555555556,\"#d8576b\"],[0.6666666666666666,\"#ed7953\"],[0.7777777777777778,\"#fb9f3a\"],[0.8888888888888888,\"#fdca26\"],[1.0,\"#f0f921\"]],\"type\":\"contour\"}],\"contourcarpet\":[{\"colorbar\":{\"outlinewidth\":0,\"ticks\":\"\"},\"type\":\"contourcarpet\"}],\"heatmap\":[{\"colorbar\":{\"outlinewidth\":0,\"ticks\":\"\"},\"colorscale\":[[0.0,\"#0d0887\"],[0.1111111111111111,\"#46039f\"],[0.2222222222222222,\"#7201a8\"],[0.3333333333333333,\"#9c179e\"],[0.4444444444444444,\"#bd3786\"],[0.5555555555555556,\"#d8576b\"],[0.6666666666666666,\"#ed7953\"],[0.7777777777777778,\"#fb9f3a\"],[0.8888888888888888,\"#fdca26\"],[1.0,\"#f0f921\"]],\"type\":\"heatmap\"}],\"heatmapgl\":[{\"colorbar\":{\"outlinewidth\":0,\"ticks\":\"\"},\"colorscale\":[[0.0,\"#0d0887\"],[0.1111111111111111,\"#46039f\"],[0.2222222222222222,\"#7201a8\"],[0.3333333333333333,\"#9c179e\"],[0.4444444444444444,\"#bd3786\"],[0.5555555555555556,\"#d8576b\"],[0.6666666666666666,\"#ed7953\"],[0.7777777777777778,\"#fb9f3a\"],[0.8888888888888888,\"#fdca26\"],[1.0,\"#f0f921\"]],\"type\":\"heatmapgl\"}],\"histogram\":[{\"marker\":{\"pattern\":{\"fillmode\":\"overlay\",\"size\":10,\"solidity\":0.2}},\"type\":\"histogram\"}],\"histogram2d\":[{\"colorbar\":{\"outlinewidth\":0,\"ticks\":\"\"},\"colorscale\":[[0.0,\"#0d0887\"],[0.1111111111111111,\"#46039f\"],[0.2222222222222222,\"#7201a8\"],[0.3333333333333333,\"#9c179e\"],[0.4444444444444444,\"#bd3786\"],[0.5555555555555556,\"#d8576b\"],[0.6666666666666666,\"#ed7953\"],[0.7777777777777778,\"#fb9f3a\"],[0.8888888888888888,\"#fdca26\"],[1.0,\"#f0f921\"]],\"type\":\"histogram2d\"}],\"histogram2dcontour\":[{\"colorbar\":{\"outlinewidth\":0,\"ticks\":\"\"},\"colorscale\":[[0.0,\"#0d0887\"],[0.1111111111111111,\"#46039f\"],[0.2222222222222222,\"#7201a8\"],[0.3333333333333333,\"#9c179e\"],[0.4444444444444444,\"#bd3786\"],[0.5555555555555556,\"#d8576b\"],[0.6666666666666666,\"#ed7953\"],[0.7777777777777778,\"#fb9f3a\"],[0.8888888888888888,\"#fdca26\"],[1.0,\"#f0f921\"]],\"type\":\"histogram2dcontour\"}],\"mesh3d\":[{\"colorbar\":{\"outlinewidth\":0,\"ticks\":\"\"},\"type\":\"mesh3d\"}],\"parcoords\":[{\"line\":{\"colorbar\":{\"outlinewidth\":0,\"ticks\":\"\"}},\"type\":\"parcoords\"}],\"pie\":[{\"automargin\":true,\"type\":\"pie\"}],\"scatter\":[{\"marker\":{\"colorbar\":{\"outlinewidth\":0,\"ticks\":\"\"}},\"type\":\"scatter\"}],\"scatter3d\":[{\"line\":{\"colorbar\":{\"outlinewidth\":0,\"ticks\":\"\"}},\"marker\":{\"colorbar\":{\"outlinewidth\":0,\"ticks\":\"\"}},\"type\":\"scatter3d\"}],\"scattercarpet\":[{\"marker\":{\"colorbar\":{\"outlinewidth\":0,\"ticks\":\"\"}},\"type\":\"scattercarpet\"}],\"scattergeo\":[{\"marker\":{\"colorbar\":{\"outlinewidth\":0,\"ticks\":\"\"}},\"type\":\"scattergeo\"}],\"scattergl\":[{\"marker\":{\"colorbar\":{\"outlinewidth\":0,\"ticks\":\"\"}},\"type\":\"scattergl\"}],\"scattermapbox\":[{\"marker\":{\"colorbar\":{\"outlinewidth\":0,\"ticks\":\"\"}},\"type\":\"scattermapbox\"}],\"scatterpolar\":[{\"marker\":{\"colorbar\":{\"outlinewidth\":0,\"ticks\":\"\"}},\"type\":\"scatterpolar\"}],\"scatterpolargl\":[{\"marker\":{\"colorbar\":{\"outlinewidth\":0,\"ticks\":\"\"}},\"type\":\"scatterpolargl\"}],\"scatterternary\":[{\"marker\":{\"colorbar\":{\"outlinewidth\":0,\"ticks\":\"\"}},\"type\":\"scatterternary\"}],\"surface\":[{\"colorbar\":{\"outlinewidth\":0,\"ticks\":\"\"},\"colorscale\":[[0.0,\"#0d0887\"],[0.1111111111111111,\"#46039f\"],[0.2222222222222222,\"#7201a8\"],[0.3333333333333333,\"#9c179e\"],[0.4444444444444444,\"#bd3786\"],[0.5555555555555556,\"#d8576b\"],[0.6666666666666666,\"#ed7953\"],[0.7777777777777778,\"#fb9f3a\"],[0.8888888888888888,\"#fdca26\"],[1.0,\"#f0f921\"]],\"type\":\"surface\"}],\"table\":[{\"cells\":{\"fill\":{\"color\":\"#EBF0F8\"},\"line\":{\"color\":\"white\"}},\"header\":{\"fill\":{\"color\":\"#C8D4E3\"},\"line\":{\"color\":\"white\"}},\"type\":\"table\"}]},\"layout\":{\"annotationdefaults\":{\"arrowcolor\":\"#2a3f5f\",\"arrowhead\":0,\"arrowwidth\":1},\"autotypenumbers\":\"strict\",\"coloraxis\":{\"colorbar\":{\"outlinewidth\":0,\"ticks\":\"\"}},\"colorscale\":{\"diverging\":[[0,\"#8e0152\"],[0.1,\"#c51b7d\"],[0.2,\"#de77ae\"],[0.3,\"#f1b6da\"],[0.4,\"#fde0ef\"],[0.5,\"#f7f7f7\"],[0.6,\"#e6f5d0\"],[0.7,\"#b8e186\"],[0.8,\"#7fbc41\"],[0.9,\"#4d9221\"],[1,\"#276419\"]],\"sequential\":[[0.0,\"#0d0887\"],[0.1111111111111111,\"#46039f\"],[0.2222222222222222,\"#7201a8\"],[0.3333333333333333,\"#9c179e\"],[0.4444444444444444,\"#bd3786\"],[0.5555555555555556,\"#d8576b\"],[0.6666666666666666,\"#ed7953\"],[0.7777777777777778,\"#fb9f3a\"],[0.8888888888888888,\"#fdca26\"],[1.0,\"#f0f921\"]],\"sequentialminus\":[[0.0,\"#0d0887\"],[0.1111111111111111,\"#46039f\"],[0.2222222222222222,\"#7201a8\"],[0.3333333333333333,\"#9c179e\"],[0.4444444444444444,\"#bd3786\"],[0.5555555555555556,\"#d8576b\"],[0.6666666666666666,\"#ed7953\"],[0.7777777777777778,\"#fb9f3a\"],[0.8888888888888888,\"#fdca26\"],[1.0,\"#f0f921\"]]},\"colorway\":[\"#636efa\",\"#EF553B\",\"#00cc96\",\"#ab63fa\",\"#FFA15A\",\"#19d3f3\",\"#FF6692\",\"#B6E880\",\"#FF97FF\",\"#FECB52\"],\"font\":{\"color\":\"#2a3f5f\"},\"geo\":{\"bgcolor\":\"white\",\"lakecolor\":\"white\",\"landcolor\":\"#E5ECF6\",\"showlakes\":true,\"showland\":true,\"subunitcolor\":\"white\"},\"hoverlabel\":{\"align\":\"left\"},\"hovermode\":\"closest\",\"mapbox\":{\"style\":\"light\"},\"paper_bgcolor\":\"white\",\"plot_bgcolor\":\"#E5ECF6\",\"polar\":{\"angularaxis\":{\"gridcolor\":\"white\",\"linecolor\":\"white\",\"ticks\":\"\"},\"bgcolor\":\"#E5ECF6\",\"radialaxis\":{\"gridcolor\":\"white\",\"linecolor\":\"white\",\"ticks\":\"\"}},\"scene\":{\"xaxis\":{\"backgroundcolor\":\"#E5ECF6\",\"gridcolor\":\"white\",\"gridwidth\":2,\"linecolor\":\"white\",\"showbackground\":true,\"ticks\":\"\",\"zerolinecolor\":\"white\"},\"yaxis\":{\"backgroundcolor\":\"#E5ECF6\",\"gridcolor\":\"white\",\"gridwidth\":2,\"linecolor\":\"white\",\"showbackground\":true,\"ticks\":\"\",\"zerolinecolor\":\"white\"},\"zaxis\":{\"backgroundcolor\":\"#E5ECF6\",\"gridcolor\":\"white\",\"gridwidth\":2,\"linecolor\":\"white\",\"showbackground\":true,\"ticks\":\"\",\"zerolinecolor\":\"white\"}},\"shapedefaults\":{\"line\":{\"color\":\"#2a3f5f\"}},\"ternary\":{\"aaxis\":{\"gridcolor\":\"white\",\"linecolor\":\"white\",\"ticks\":\"\"},\"baxis\":{\"gridcolor\":\"white\",\"linecolor\":\"white\",\"ticks\":\"\"},\"bgcolor\":\"#E5ECF6\",\"caxis\":{\"gridcolor\":\"white\",\"linecolor\":\"white\",\"ticks\":\"\"}},\"title\":{\"x\":0.05},\"xaxis\":{\"automargin\":true,\"gridcolor\":\"white\",\"linecolor\":\"white\",\"ticks\":\"\",\"title\":{\"standoff\":15},\"zerolinecolor\":\"white\",\"zerolinewidth\":2},\"yaxis\":{\"automargin\":true,\"gridcolor\":\"white\",\"linecolor\":\"white\",\"ticks\":\"\",\"title\":{\"standoff\":15},\"zerolinecolor\":\"white\",\"zerolinewidth\":2}}},\"xaxis\":{\"anchor\":\"y\",\"domain\":[0.0,1.0],\"title\":{\"text\":\"A\\u00f1o\"}},\"yaxis\":{\"anchor\":\"x\",\"domain\":[0.0,1.0],\"title\":{\"text\":\"CANTIDAD\"}},\"legend\":{\"tracegroupgap\":0},\"title\":{\"text\":\"CANTIDAD DE CASOS DE VIOLENCIA INTRAFAMILIAR POR A\\u00d1O\"},\"height\":650},                        {\"responsive\": true}                    ).then(function(){\n",
              "                            \n",
              "var gd = document.getElementById('1887a0e2-8b4a-48da-bb9e-9edd8f6ce532');\n",
              "var x = new MutationObserver(function (mutations, observer) {{\n",
              "        var display = window.getComputedStyle(gd).display;\n",
              "        if (!display || display === 'none') {{\n",
              "            console.log([gd, 'removed!']);\n",
              "            Plotly.purge(gd);\n",
              "            observer.disconnect();\n",
              "        }}\n",
              "}});\n",
              "\n",
              "// Listen for the removal of the full notebook cells\n",
              "var notebookContainer = gd.closest('#notebook-container');\n",
              "if (notebookContainer) {{\n",
              "    x.observe(notebookContainer, {childList: true});\n",
              "}}\n",
              "\n",
              "// Listen for the clearing of the current output cell\n",
              "var outputEl = gd.closest('.output');\n",
              "if (outputEl) {{\n",
              "    x.observe(outputEl, {childList: true});\n",
              "}}\n",
              "\n",
              "                        })                };                            </script>        </div>\n",
              "</body>\n",
              "</html>"
            ]
          },
          "metadata": {},
          "output_type": "display_data"
        }
      ],
      "source": [
        "## GRAFICAMOS TODO LO RELACIONADO CON EL ANALISIS DEL DATAFRAME\n",
        "df_grp = df.groupby(['Año'])['CANTIDAD'].sum().reset_index()\n",
        "fig = px.line(df_grp, x='Año', y=\"CANTIDAD\", height =650, title='CANTIDAD DE CASOS DE VIOLENCIA INTRAFAMILIAR POR AÑO')\n",
        "fig.show()"
      ]
    },
    {
      "cell_type": "code",
      "execution_count": 116,
      "id": "aece264c-9d3c-491a-b88e-b1404f0b537e",
      "metadata": {
        "colab": {
          "base_uri": "https://localhost:8080/",
          "height": 717
        },
        "id": "aece264c-9d3c-491a-b88e-b1404f0b537e",
        "outputId": "61c47e59-255b-440c-86bb-cb03fa819503"
      },
      "outputs": [
        {
          "data": {
            "text/html": [
              "<html>\n",
              "<head><meta charset=\"utf-8\" /></head>\n",
              "<body>\n",
              "    <div>            <script src=\"https://cdnjs.cloudflare.com/ajax/libs/mathjax/2.7.5/MathJax.js?config=TeX-AMS-MML_SVG\"></script><script type=\"text/javascript\">if (window.MathJax) {MathJax.Hub.Config({SVG: {font: \"STIX-Web\"}});}</script>                <script type=\"text/javascript\">window.PlotlyConfig = {MathJaxConfig: 'local'};</script>\n",
              "        <script src=\"https://cdn.plot.ly/plotly-2.8.3.min.js\"></script>                <div id=\"5a73df65-673a-4a51-ba32-912c0d05d2b5\" class=\"plotly-graph-div\" style=\"height:700px; width:100%;\"></div>            <script type=\"text/javascript\">                                    window.PLOTLYENV=window.PLOTLYENV || {};                                    if (document.getElementById(\"5a73df65-673a-4a51-ba32-912c0d05d2b5\")) {                    Plotly.newPlot(                        \"5a73df65-673a-4a51-ba32-912c0d05d2b5\",                        [{\"alignmentgroup\":\"True\",\"hovertemplate\":\"DEPARTAMENTO=%{x}<br>CANTIDAD=%{y}<extra></extra>\",\"legendgroup\":\"\",\"marker\":{\"color\":\"#636efa\",\"pattern\":{\"shape\":\"\"}},\"name\":\"\",\"offsetgroup\":\"\",\"orientation\":\"v\",\"showlegend\":false,\"textposition\":\"auto\",\"x\":[\"CUNDINAMARCA\",\"ANTIOQUIA\",\"VALLE\",\"SANTANDER\",\"BOYAC\\u00c1\",\"ATL\\u00c1NTICO\",\"META\",\"BOL\\u00cdVAR\",\"HUILA\",\"TOLIMA\",\"NORTE DE SANTANDER\",\"NARI\\u00d1O\",\"RISARALDA\",\"CAUCA\",\"C\\u00d3RDOBA\",\"MAGDALENA\",\"SUCRE\",\"CALDAS\",\"CESAR\",\"CASANARE\",\"CAQUET\\u00c1\",\"QUIND\\u00cdO\",\"GUAJIRA\",\"ARAUCA\",\"PUTUMAYO\",\"CHOC\\u00d3\",\"AMAZONAS\",\"SAN ANDR\\u00c9S\",\"GUAVIARE\",\"GUAIN\\u00cdA\",\"VICHADA\",\"VAUP\\u00c9S\"],\"xaxis\":\"x\",\"y\":[141292,79225,69769,55223,33755,26688,23882,22860,21800,21709,21038,20315,19991,18594,13185,12703,11729,9812,8705,7296,5829,5253,5121,4362,3290,2231,1614,1268,944,542,424,404],\"yaxis\":\"y\",\"type\":\"bar\"}],                        {\"template\":{\"data\":{\"bar\":[{\"error_x\":{\"color\":\"#2a3f5f\"},\"error_y\":{\"color\":\"#2a3f5f\"},\"marker\":{\"line\":{\"color\":\"#E5ECF6\",\"width\":0.5},\"pattern\":{\"fillmode\":\"overlay\",\"size\":10,\"solidity\":0.2}},\"type\":\"bar\"}],\"barpolar\":[{\"marker\":{\"line\":{\"color\":\"#E5ECF6\",\"width\":0.5},\"pattern\":{\"fillmode\":\"overlay\",\"size\":10,\"solidity\":0.2}},\"type\":\"barpolar\"}],\"carpet\":[{\"aaxis\":{\"endlinecolor\":\"#2a3f5f\",\"gridcolor\":\"white\",\"linecolor\":\"white\",\"minorgridcolor\":\"white\",\"startlinecolor\":\"#2a3f5f\"},\"baxis\":{\"endlinecolor\":\"#2a3f5f\",\"gridcolor\":\"white\",\"linecolor\":\"white\",\"minorgridcolor\":\"white\",\"startlinecolor\":\"#2a3f5f\"},\"type\":\"carpet\"}],\"choropleth\":[{\"colorbar\":{\"outlinewidth\":0,\"ticks\":\"\"},\"type\":\"choropleth\"}],\"contour\":[{\"colorbar\":{\"outlinewidth\":0,\"ticks\":\"\"},\"colorscale\":[[0.0,\"#0d0887\"],[0.1111111111111111,\"#46039f\"],[0.2222222222222222,\"#7201a8\"],[0.3333333333333333,\"#9c179e\"],[0.4444444444444444,\"#bd3786\"],[0.5555555555555556,\"#d8576b\"],[0.6666666666666666,\"#ed7953\"],[0.7777777777777778,\"#fb9f3a\"],[0.8888888888888888,\"#fdca26\"],[1.0,\"#f0f921\"]],\"type\":\"contour\"}],\"contourcarpet\":[{\"colorbar\":{\"outlinewidth\":0,\"ticks\":\"\"},\"type\":\"contourcarpet\"}],\"heatmap\":[{\"colorbar\":{\"outlinewidth\":0,\"ticks\":\"\"},\"colorscale\":[[0.0,\"#0d0887\"],[0.1111111111111111,\"#46039f\"],[0.2222222222222222,\"#7201a8\"],[0.3333333333333333,\"#9c179e\"],[0.4444444444444444,\"#bd3786\"],[0.5555555555555556,\"#d8576b\"],[0.6666666666666666,\"#ed7953\"],[0.7777777777777778,\"#fb9f3a\"],[0.8888888888888888,\"#fdca26\"],[1.0,\"#f0f921\"]],\"type\":\"heatmap\"}],\"heatmapgl\":[{\"colorbar\":{\"outlinewidth\":0,\"ticks\":\"\"},\"colorscale\":[[0.0,\"#0d0887\"],[0.1111111111111111,\"#46039f\"],[0.2222222222222222,\"#7201a8\"],[0.3333333333333333,\"#9c179e\"],[0.4444444444444444,\"#bd3786\"],[0.5555555555555556,\"#d8576b\"],[0.6666666666666666,\"#ed7953\"],[0.7777777777777778,\"#fb9f3a\"],[0.8888888888888888,\"#fdca26\"],[1.0,\"#f0f921\"]],\"type\":\"heatmapgl\"}],\"histogram\":[{\"marker\":{\"pattern\":{\"fillmode\":\"overlay\",\"size\":10,\"solidity\":0.2}},\"type\":\"histogram\"}],\"histogram2d\":[{\"colorbar\":{\"outlinewidth\":0,\"ticks\":\"\"},\"colorscale\":[[0.0,\"#0d0887\"],[0.1111111111111111,\"#46039f\"],[0.2222222222222222,\"#7201a8\"],[0.3333333333333333,\"#9c179e\"],[0.4444444444444444,\"#bd3786\"],[0.5555555555555556,\"#d8576b\"],[0.6666666666666666,\"#ed7953\"],[0.7777777777777778,\"#fb9f3a\"],[0.8888888888888888,\"#fdca26\"],[1.0,\"#f0f921\"]],\"type\":\"histogram2d\"}],\"histogram2dcontour\":[{\"colorbar\":{\"outlinewidth\":0,\"ticks\":\"\"},\"colorscale\":[[0.0,\"#0d0887\"],[0.1111111111111111,\"#46039f\"],[0.2222222222222222,\"#7201a8\"],[0.3333333333333333,\"#9c179e\"],[0.4444444444444444,\"#bd3786\"],[0.5555555555555556,\"#d8576b\"],[0.6666666666666666,\"#ed7953\"],[0.7777777777777778,\"#fb9f3a\"],[0.8888888888888888,\"#fdca26\"],[1.0,\"#f0f921\"]],\"type\":\"histogram2dcontour\"}],\"mesh3d\":[{\"colorbar\":{\"outlinewidth\":0,\"ticks\":\"\"},\"type\":\"mesh3d\"}],\"parcoords\":[{\"line\":{\"colorbar\":{\"outlinewidth\":0,\"ticks\":\"\"}},\"type\":\"parcoords\"}],\"pie\":[{\"automargin\":true,\"type\":\"pie\"}],\"scatter\":[{\"marker\":{\"colorbar\":{\"outlinewidth\":0,\"ticks\":\"\"}},\"type\":\"scatter\"}],\"scatter3d\":[{\"line\":{\"colorbar\":{\"outlinewidth\":0,\"ticks\":\"\"}},\"marker\":{\"colorbar\":{\"outlinewidth\":0,\"ticks\":\"\"}},\"type\":\"scatter3d\"}],\"scattercarpet\":[{\"marker\":{\"colorbar\":{\"outlinewidth\":0,\"ticks\":\"\"}},\"type\":\"scattercarpet\"}],\"scattergeo\":[{\"marker\":{\"colorbar\":{\"outlinewidth\":0,\"ticks\":\"\"}},\"type\":\"scattergeo\"}],\"scattergl\":[{\"marker\":{\"colorbar\":{\"outlinewidth\":0,\"ticks\":\"\"}},\"type\":\"scattergl\"}],\"scattermapbox\":[{\"marker\":{\"colorbar\":{\"outlinewidth\":0,\"ticks\":\"\"}},\"type\":\"scattermapbox\"}],\"scatterpolar\":[{\"marker\":{\"colorbar\":{\"outlinewidth\":0,\"ticks\":\"\"}},\"type\":\"scatterpolar\"}],\"scatterpolargl\":[{\"marker\":{\"colorbar\":{\"outlinewidth\":0,\"ticks\":\"\"}},\"type\":\"scatterpolargl\"}],\"scatterternary\":[{\"marker\":{\"colorbar\":{\"outlinewidth\":0,\"ticks\":\"\"}},\"type\":\"scatterternary\"}],\"surface\":[{\"colorbar\":{\"outlinewidth\":0,\"ticks\":\"\"},\"colorscale\":[[0.0,\"#0d0887\"],[0.1111111111111111,\"#46039f\"],[0.2222222222222222,\"#7201a8\"],[0.3333333333333333,\"#9c179e\"],[0.4444444444444444,\"#bd3786\"],[0.5555555555555556,\"#d8576b\"],[0.6666666666666666,\"#ed7953\"],[0.7777777777777778,\"#fb9f3a\"],[0.8888888888888888,\"#fdca26\"],[1.0,\"#f0f921\"]],\"type\":\"surface\"}],\"table\":[{\"cells\":{\"fill\":{\"color\":\"#EBF0F8\"},\"line\":{\"color\":\"white\"}},\"header\":{\"fill\":{\"color\":\"#C8D4E3\"},\"line\":{\"color\":\"white\"}},\"type\":\"table\"}]},\"layout\":{\"annotationdefaults\":{\"arrowcolor\":\"#2a3f5f\",\"arrowhead\":0,\"arrowwidth\":1},\"autotypenumbers\":\"strict\",\"coloraxis\":{\"colorbar\":{\"outlinewidth\":0,\"ticks\":\"\"}},\"colorscale\":{\"diverging\":[[0,\"#8e0152\"],[0.1,\"#c51b7d\"],[0.2,\"#de77ae\"],[0.3,\"#f1b6da\"],[0.4,\"#fde0ef\"],[0.5,\"#f7f7f7\"],[0.6,\"#e6f5d0\"],[0.7,\"#b8e186\"],[0.8,\"#7fbc41\"],[0.9,\"#4d9221\"],[1,\"#276419\"]],\"sequential\":[[0.0,\"#0d0887\"],[0.1111111111111111,\"#46039f\"],[0.2222222222222222,\"#7201a8\"],[0.3333333333333333,\"#9c179e\"],[0.4444444444444444,\"#bd3786\"],[0.5555555555555556,\"#d8576b\"],[0.6666666666666666,\"#ed7953\"],[0.7777777777777778,\"#fb9f3a\"],[0.8888888888888888,\"#fdca26\"],[1.0,\"#f0f921\"]],\"sequentialminus\":[[0.0,\"#0d0887\"],[0.1111111111111111,\"#46039f\"],[0.2222222222222222,\"#7201a8\"],[0.3333333333333333,\"#9c179e\"],[0.4444444444444444,\"#bd3786\"],[0.5555555555555556,\"#d8576b\"],[0.6666666666666666,\"#ed7953\"],[0.7777777777777778,\"#fb9f3a\"],[0.8888888888888888,\"#fdca26\"],[1.0,\"#f0f921\"]]},\"colorway\":[\"#636efa\",\"#EF553B\",\"#00cc96\",\"#ab63fa\",\"#FFA15A\",\"#19d3f3\",\"#FF6692\",\"#B6E880\",\"#FF97FF\",\"#FECB52\"],\"font\":{\"color\":\"#2a3f5f\"},\"geo\":{\"bgcolor\":\"white\",\"lakecolor\":\"white\",\"landcolor\":\"#E5ECF6\",\"showlakes\":true,\"showland\":true,\"subunitcolor\":\"white\"},\"hoverlabel\":{\"align\":\"left\"},\"hovermode\":\"closest\",\"mapbox\":{\"style\":\"light\"},\"paper_bgcolor\":\"white\",\"plot_bgcolor\":\"#E5ECF6\",\"polar\":{\"angularaxis\":{\"gridcolor\":\"white\",\"linecolor\":\"white\",\"ticks\":\"\"},\"bgcolor\":\"#E5ECF6\",\"radialaxis\":{\"gridcolor\":\"white\",\"linecolor\":\"white\",\"ticks\":\"\"}},\"scene\":{\"xaxis\":{\"backgroundcolor\":\"#E5ECF6\",\"gridcolor\":\"white\",\"gridwidth\":2,\"linecolor\":\"white\",\"showbackground\":true,\"ticks\":\"\",\"zerolinecolor\":\"white\"},\"yaxis\":{\"backgroundcolor\":\"#E5ECF6\",\"gridcolor\":\"white\",\"gridwidth\":2,\"linecolor\":\"white\",\"showbackground\":true,\"ticks\":\"\",\"zerolinecolor\":\"white\"},\"zaxis\":{\"backgroundcolor\":\"#E5ECF6\",\"gridcolor\":\"white\",\"gridwidth\":2,\"linecolor\":\"white\",\"showbackground\":true,\"ticks\":\"\",\"zerolinecolor\":\"white\"}},\"shapedefaults\":{\"line\":{\"color\":\"#2a3f5f\"}},\"ternary\":{\"aaxis\":{\"gridcolor\":\"white\",\"linecolor\":\"white\",\"ticks\":\"\"},\"baxis\":{\"gridcolor\":\"white\",\"linecolor\":\"white\",\"ticks\":\"\"},\"bgcolor\":\"#E5ECF6\",\"caxis\":{\"gridcolor\":\"white\",\"linecolor\":\"white\",\"ticks\":\"\"}},\"title\":{\"x\":0.05},\"xaxis\":{\"automargin\":true,\"gridcolor\":\"white\",\"linecolor\":\"white\",\"ticks\":\"\",\"title\":{\"standoff\":15},\"zerolinecolor\":\"white\",\"zerolinewidth\":2},\"yaxis\":{\"automargin\":true,\"gridcolor\":\"white\",\"linecolor\":\"white\",\"ticks\":\"\",\"title\":{\"standoff\":15},\"zerolinecolor\":\"white\",\"zerolinewidth\":2}}},\"xaxis\":{\"anchor\":\"y\",\"domain\":[0.0,1.0],\"title\":{\"text\":\"DEPARTAMENTO\"},\"tickangle\":-90},\"yaxis\":{\"anchor\":\"x\",\"domain\":[0.0,1.0],\"title\":{\"text\":\"CANTIDAD\"}},\"legend\":{\"tracegroupgap\":0},\"title\":{\"text\":\"CANTIDAD DE CASOS DE VIOLENCIA INTRAFAMILIAR POR DEPARTAMENTO\"},\"barmode\":\"relative\",\"height\":700},                        {\"responsive\": true}                    ).then(function(){\n",
              "                            \n",
              "var gd = document.getElementById('5a73df65-673a-4a51-ba32-912c0d05d2b5');\n",
              "var x = new MutationObserver(function (mutations, observer) {{\n",
              "        var display = window.getComputedStyle(gd).display;\n",
              "        if (!display || display === 'none') {{\n",
              "            console.log([gd, 'removed!']);\n",
              "            Plotly.purge(gd);\n",
              "            observer.disconnect();\n",
              "        }}\n",
              "}});\n",
              "\n",
              "// Listen for the removal of the full notebook cells\n",
              "var notebookContainer = gd.closest('#notebook-container');\n",
              "if (notebookContainer) {{\n",
              "    x.observe(notebookContainer, {childList: true});\n",
              "}}\n",
              "\n",
              "// Listen for the clearing of the current output cell\n",
              "var outputEl = gd.closest('.output');\n",
              "if (outputEl) {{\n",
              "    x.observe(outputEl, {childList: true});\n",
              "}}\n",
              "\n",
              "                        })                };                            </script>        </div>\n",
              "</body>\n",
              "</html>"
            ]
          },
          "metadata": {},
          "output_type": "display_data"
        }
      ],
      "source": [
        "df_grp1 = df.groupby(['DEPARTAMENTO'])['CANTIDAD'].sum().reset_index()\n",
        "fig = px.bar(df_grp1.sort_values(by='CANTIDAD', ascending=False), x='DEPARTAMENTO', y='CANTIDAD', title='CANTIDAD DE CASOS DE VIOLENCIA INTRAFAMILIAR POR DEPARTAMENTO', height =700)\n",
        "fig.update_xaxes(tickangle=-90)\n",
        "fig.show()\n"
      ]
    },
    {
      "cell_type": "code",
      "execution_count": 117,
      "id": "492bf1d4-831c-4436-866a-efa9b2fbca07",
      "metadata": {
        "colab": {
          "base_uri": "https://localhost:8080/",
          "height": 957
        },
        "id": "492bf1d4-831c-4436-866a-efa9b2fbca07",
        "outputId": "c584a6d3-6f66-4e9c-800b-5d487e66a83b"
      },
      "outputs": [
        {
          "data": {
            "text/html": [
              "<html>\n",
              "<head><meta charset=\"utf-8\" /></head>\n",
              "<body>\n",
              "    <div>            <script src=\"https://cdnjs.cloudflare.com/ajax/libs/mathjax/2.7.5/MathJax.js?config=TeX-AMS-MML_SVG\"></script><script type=\"text/javascript\">if (window.MathJax) {MathJax.Hub.Config({SVG: {font: \"STIX-Web\"}});}</script>                <script type=\"text/javascript\">window.PlotlyConfig = {MathJaxConfig: 'local'};</script>\n",
              "        <script src=\"https://cdn.plot.ly/plotly-2.8.3.min.js\"></script>                <div id=\"1d630763-9f04-4143-9b7f-f5058df251f4\" class=\"plotly-graph-div\" style=\"height:920px; width:1400px;\"></div>            <script type=\"text/javascript\">                                    window.PLOTLYENV=window.PLOTLYENV || {};                                    if (document.getElementById(\"1d630763-9f04-4143-9b7f-f5058df251f4\")) {                    Plotly.newPlot(                        \"1d630763-9f04-4143-9b7f-f5058df251f4\",                        [{\"alignmentgroup\":\"True\",\"hovertemplate\":\"GENERO=FEMENINO<br>DEPARTAMENTO=%{x}<br>CANTIDAD=%{y}<extra></extra>\",\"legendgroup\":\"FEMENINO\",\"marker\":{\"color\":\"#636efa\",\"pattern\":{\"shape\":\"\"}},\"name\":\"FEMENINO\",\"offsetgroup\":\"FEMENINO\",\"orientation\":\"v\",\"showlegend\":true,\"textposition\":\"auto\",\"x\":[\"CUNDINAMARCA\",\"ANTIOQUIA\",\"VALLE\",\"SANTANDER\",\"BOYAC\\u00c1\",\"ATL\\u00c1NTICO\",\"META\",\"HUILA\",\"BOL\\u00cdVAR\",\"TOLIMA\",\"NORTE DE SANTANDER\",\"NARI\\u00d1O\",\"RISARALDA\",\"CAUCA\",\"C\\u00d3RDOBA\",\"MAGDALENA\",\"SUCRE\",\"CALDAS\",\"CESAR\",\"CASANARE\",\"CAQUET\\u00c1\",\"GUAJIRA\",\"QUIND\\u00cdO\",\"ARAUCA\",\"PUTUMAYO\",\"CHOC\\u00d3\",\"AMAZONAS\",\"SAN ANDR\\u00c9S\",\"GUAVIARE\",\"GUAIN\\u00cdA\",\"VICHADA\",\"VAUP\\u00c9S\"],\"xaxis\":\"x\",\"y\":[97475,60819,55068,45953,28023,22055,20127,18563,18398,17405,17170,16527,16056,15311,11054,10641,9689,8001,7284,6128,4971,4457,4223,3625,2736,1888,1296,1091,787,423,366,331],\"yaxis\":\"y\",\"type\":\"bar\"},{\"alignmentgroup\":\"True\",\"hovertemplate\":\"GENERO=MASCULINO<br>DEPARTAMENTO=%{x}<br>CANTIDAD=%{y}<extra></extra>\",\"legendgroup\":\"MASCULINO\",\"marker\":{\"color\":\"#EF553B\",\"pattern\":{\"shape\":\"\"}},\"name\":\"MASCULINO\",\"offsetgroup\":\"MASCULINO\",\"orientation\":\"v\",\"showlegend\":true,\"textposition\":\"auto\",\"x\":[\"CUNDINAMARCA\",\"ANTIOQUIA\",\"VALLE\",\"SANTANDER\",\"BOYAC\\u00c1\",\"ATL\\u00c1NTICO\",\"BOL\\u00cdVAR\",\"TOLIMA\",\"RISARALDA\",\"NORTE DE SANTANDER\",\"NARI\\u00d1O\",\"META\",\"CAUCA\",\"HUILA\",\"C\\u00d3RDOBA\",\"MAGDALENA\",\"SUCRE\",\"CALDAS\",\"CESAR\",\"CASANARE\",\"QUIND\\u00cdO\",\"CAQUET\\u00c1\",\"ARAUCA\",\"GUAJIRA\",\"PUTUMAYO\",\"CHOC\\u00d3\",\"AMAZONAS\",\"SAN ANDR\\u00c9S\",\"GUAVIARE\",\"GUAIN\\u00cdA\",\"VAUP\\u00c9S\",\"VICHADA\"],\"xaxis\":\"x\",\"y\":[43816,18406,14700,9264,5732,4633,4455,4304,3934,3868,3787,3755,3283,3236,2131,2061,2040,1811,1421,1168,1030,858,737,663,554,343,318,177,157,119,73,58],\"yaxis\":\"y\",\"type\":\"bar\"},{\"alignmentgroup\":\"True\",\"hovertemplate\":\"GENERO=NO REPORTA<br>DEPARTAMENTO=%{x}<br>CANTIDAD=%{y}<extra></extra>\",\"legendgroup\":\"NO REPORTA\",\"marker\":{\"color\":\"#00cc96\",\"pattern\":{\"shape\":\"\"}},\"name\":\"NO REPORTA\",\"offsetgroup\":\"NO REPORTA\",\"orientation\":\"v\",\"showlegend\":true,\"textposition\":\"auto\",\"x\":[\"BOL\\u00cdVAR\",\"SANTANDER\",\"RISARALDA\",\"NARI\\u00d1O\",\"MAGDALENA\",\"HUILA\",\"GUAJIRA\",\"VALLE\",\"CUNDINAMARCA\"],\"xaxis\":\"x\",\"y\":[7,6,1,1,1,1,1,1,1],\"yaxis\":\"y\",\"type\":\"bar\"}],                        {\"template\":{\"data\":{\"bar\":[{\"error_x\":{\"color\":\"#2a3f5f\"},\"error_y\":{\"color\":\"#2a3f5f\"},\"marker\":{\"line\":{\"color\":\"#E5ECF6\",\"width\":0.5},\"pattern\":{\"fillmode\":\"overlay\",\"size\":10,\"solidity\":0.2}},\"type\":\"bar\"}],\"barpolar\":[{\"marker\":{\"line\":{\"color\":\"#E5ECF6\",\"width\":0.5},\"pattern\":{\"fillmode\":\"overlay\",\"size\":10,\"solidity\":0.2}},\"type\":\"barpolar\"}],\"carpet\":[{\"aaxis\":{\"endlinecolor\":\"#2a3f5f\",\"gridcolor\":\"white\",\"linecolor\":\"white\",\"minorgridcolor\":\"white\",\"startlinecolor\":\"#2a3f5f\"},\"baxis\":{\"endlinecolor\":\"#2a3f5f\",\"gridcolor\":\"white\",\"linecolor\":\"white\",\"minorgridcolor\":\"white\",\"startlinecolor\":\"#2a3f5f\"},\"type\":\"carpet\"}],\"choropleth\":[{\"colorbar\":{\"outlinewidth\":0,\"ticks\":\"\"},\"type\":\"choropleth\"}],\"contour\":[{\"colorbar\":{\"outlinewidth\":0,\"ticks\":\"\"},\"colorscale\":[[0.0,\"#0d0887\"],[0.1111111111111111,\"#46039f\"],[0.2222222222222222,\"#7201a8\"],[0.3333333333333333,\"#9c179e\"],[0.4444444444444444,\"#bd3786\"],[0.5555555555555556,\"#d8576b\"],[0.6666666666666666,\"#ed7953\"],[0.7777777777777778,\"#fb9f3a\"],[0.8888888888888888,\"#fdca26\"],[1.0,\"#f0f921\"]],\"type\":\"contour\"}],\"contourcarpet\":[{\"colorbar\":{\"outlinewidth\":0,\"ticks\":\"\"},\"type\":\"contourcarpet\"}],\"heatmap\":[{\"colorbar\":{\"outlinewidth\":0,\"ticks\":\"\"},\"colorscale\":[[0.0,\"#0d0887\"],[0.1111111111111111,\"#46039f\"],[0.2222222222222222,\"#7201a8\"],[0.3333333333333333,\"#9c179e\"],[0.4444444444444444,\"#bd3786\"],[0.5555555555555556,\"#d8576b\"],[0.6666666666666666,\"#ed7953\"],[0.7777777777777778,\"#fb9f3a\"],[0.8888888888888888,\"#fdca26\"],[1.0,\"#f0f921\"]],\"type\":\"heatmap\"}],\"heatmapgl\":[{\"colorbar\":{\"outlinewidth\":0,\"ticks\":\"\"},\"colorscale\":[[0.0,\"#0d0887\"],[0.1111111111111111,\"#46039f\"],[0.2222222222222222,\"#7201a8\"],[0.3333333333333333,\"#9c179e\"],[0.4444444444444444,\"#bd3786\"],[0.5555555555555556,\"#d8576b\"],[0.6666666666666666,\"#ed7953\"],[0.7777777777777778,\"#fb9f3a\"],[0.8888888888888888,\"#fdca26\"],[1.0,\"#f0f921\"]],\"type\":\"heatmapgl\"}],\"histogram\":[{\"marker\":{\"pattern\":{\"fillmode\":\"overlay\",\"size\":10,\"solidity\":0.2}},\"type\":\"histogram\"}],\"histogram2d\":[{\"colorbar\":{\"outlinewidth\":0,\"ticks\":\"\"},\"colorscale\":[[0.0,\"#0d0887\"],[0.1111111111111111,\"#46039f\"],[0.2222222222222222,\"#7201a8\"],[0.3333333333333333,\"#9c179e\"],[0.4444444444444444,\"#bd3786\"],[0.5555555555555556,\"#d8576b\"],[0.6666666666666666,\"#ed7953\"],[0.7777777777777778,\"#fb9f3a\"],[0.8888888888888888,\"#fdca26\"],[1.0,\"#f0f921\"]],\"type\":\"histogram2d\"}],\"histogram2dcontour\":[{\"colorbar\":{\"outlinewidth\":0,\"ticks\":\"\"},\"colorscale\":[[0.0,\"#0d0887\"],[0.1111111111111111,\"#46039f\"],[0.2222222222222222,\"#7201a8\"],[0.3333333333333333,\"#9c179e\"],[0.4444444444444444,\"#bd3786\"],[0.5555555555555556,\"#d8576b\"],[0.6666666666666666,\"#ed7953\"],[0.7777777777777778,\"#fb9f3a\"],[0.8888888888888888,\"#fdca26\"],[1.0,\"#f0f921\"]],\"type\":\"histogram2dcontour\"}],\"mesh3d\":[{\"colorbar\":{\"outlinewidth\":0,\"ticks\":\"\"},\"type\":\"mesh3d\"}],\"parcoords\":[{\"line\":{\"colorbar\":{\"outlinewidth\":0,\"ticks\":\"\"}},\"type\":\"parcoords\"}],\"pie\":[{\"automargin\":true,\"type\":\"pie\"}],\"scatter\":[{\"marker\":{\"colorbar\":{\"outlinewidth\":0,\"ticks\":\"\"}},\"type\":\"scatter\"}],\"scatter3d\":[{\"line\":{\"colorbar\":{\"outlinewidth\":0,\"ticks\":\"\"}},\"marker\":{\"colorbar\":{\"outlinewidth\":0,\"ticks\":\"\"}},\"type\":\"scatter3d\"}],\"scattercarpet\":[{\"marker\":{\"colorbar\":{\"outlinewidth\":0,\"ticks\":\"\"}},\"type\":\"scattercarpet\"}],\"scattergeo\":[{\"marker\":{\"colorbar\":{\"outlinewidth\":0,\"ticks\":\"\"}},\"type\":\"scattergeo\"}],\"scattergl\":[{\"marker\":{\"colorbar\":{\"outlinewidth\":0,\"ticks\":\"\"}},\"type\":\"scattergl\"}],\"scattermapbox\":[{\"marker\":{\"colorbar\":{\"outlinewidth\":0,\"ticks\":\"\"}},\"type\":\"scattermapbox\"}],\"scatterpolar\":[{\"marker\":{\"colorbar\":{\"outlinewidth\":0,\"ticks\":\"\"}},\"type\":\"scatterpolar\"}],\"scatterpolargl\":[{\"marker\":{\"colorbar\":{\"outlinewidth\":0,\"ticks\":\"\"}},\"type\":\"scatterpolargl\"}],\"scatterternary\":[{\"marker\":{\"colorbar\":{\"outlinewidth\":0,\"ticks\":\"\"}},\"type\":\"scatterternary\"}],\"surface\":[{\"colorbar\":{\"outlinewidth\":0,\"ticks\":\"\"},\"colorscale\":[[0.0,\"#0d0887\"],[0.1111111111111111,\"#46039f\"],[0.2222222222222222,\"#7201a8\"],[0.3333333333333333,\"#9c179e\"],[0.4444444444444444,\"#bd3786\"],[0.5555555555555556,\"#d8576b\"],[0.6666666666666666,\"#ed7953\"],[0.7777777777777778,\"#fb9f3a\"],[0.8888888888888888,\"#fdca26\"],[1.0,\"#f0f921\"]],\"type\":\"surface\"}],\"table\":[{\"cells\":{\"fill\":{\"color\":\"#EBF0F8\"},\"line\":{\"color\":\"white\"}},\"header\":{\"fill\":{\"color\":\"#C8D4E3\"},\"line\":{\"color\":\"white\"}},\"type\":\"table\"}]},\"layout\":{\"annotationdefaults\":{\"arrowcolor\":\"#2a3f5f\",\"arrowhead\":0,\"arrowwidth\":1},\"autotypenumbers\":\"strict\",\"coloraxis\":{\"colorbar\":{\"outlinewidth\":0,\"ticks\":\"\"}},\"colorscale\":{\"diverging\":[[0,\"#8e0152\"],[0.1,\"#c51b7d\"],[0.2,\"#de77ae\"],[0.3,\"#f1b6da\"],[0.4,\"#fde0ef\"],[0.5,\"#f7f7f7\"],[0.6,\"#e6f5d0\"],[0.7,\"#b8e186\"],[0.8,\"#7fbc41\"],[0.9,\"#4d9221\"],[1,\"#276419\"]],\"sequential\":[[0.0,\"#0d0887\"],[0.1111111111111111,\"#46039f\"],[0.2222222222222222,\"#7201a8\"],[0.3333333333333333,\"#9c179e\"],[0.4444444444444444,\"#bd3786\"],[0.5555555555555556,\"#d8576b\"],[0.6666666666666666,\"#ed7953\"],[0.7777777777777778,\"#fb9f3a\"],[0.8888888888888888,\"#fdca26\"],[1.0,\"#f0f921\"]],\"sequentialminus\":[[0.0,\"#0d0887\"],[0.1111111111111111,\"#46039f\"],[0.2222222222222222,\"#7201a8\"],[0.3333333333333333,\"#9c179e\"],[0.4444444444444444,\"#bd3786\"],[0.5555555555555556,\"#d8576b\"],[0.6666666666666666,\"#ed7953\"],[0.7777777777777778,\"#fb9f3a\"],[0.8888888888888888,\"#fdca26\"],[1.0,\"#f0f921\"]]},\"colorway\":[\"#636efa\",\"#EF553B\",\"#00cc96\",\"#ab63fa\",\"#FFA15A\",\"#19d3f3\",\"#FF6692\",\"#B6E880\",\"#FF97FF\",\"#FECB52\"],\"font\":{\"color\":\"#2a3f5f\"},\"geo\":{\"bgcolor\":\"white\",\"lakecolor\":\"white\",\"landcolor\":\"#E5ECF6\",\"showlakes\":true,\"showland\":true,\"subunitcolor\":\"white\"},\"hoverlabel\":{\"align\":\"left\"},\"hovermode\":\"closest\",\"mapbox\":{\"style\":\"light\"},\"paper_bgcolor\":\"white\",\"plot_bgcolor\":\"#E5ECF6\",\"polar\":{\"angularaxis\":{\"gridcolor\":\"white\",\"linecolor\":\"white\",\"ticks\":\"\"},\"bgcolor\":\"#E5ECF6\",\"radialaxis\":{\"gridcolor\":\"white\",\"linecolor\":\"white\",\"ticks\":\"\"}},\"scene\":{\"xaxis\":{\"backgroundcolor\":\"#E5ECF6\",\"gridcolor\":\"white\",\"gridwidth\":2,\"linecolor\":\"white\",\"showbackground\":true,\"ticks\":\"\",\"zerolinecolor\":\"white\"},\"yaxis\":{\"backgroundcolor\":\"#E5ECF6\",\"gridcolor\":\"white\",\"gridwidth\":2,\"linecolor\":\"white\",\"showbackground\":true,\"ticks\":\"\",\"zerolinecolor\":\"white\"},\"zaxis\":{\"backgroundcolor\":\"#E5ECF6\",\"gridcolor\":\"white\",\"gridwidth\":2,\"linecolor\":\"white\",\"showbackground\":true,\"ticks\":\"\",\"zerolinecolor\":\"white\"}},\"shapedefaults\":{\"line\":{\"color\":\"#2a3f5f\"}},\"ternary\":{\"aaxis\":{\"gridcolor\":\"white\",\"linecolor\":\"white\",\"ticks\":\"\"},\"baxis\":{\"gridcolor\":\"white\",\"linecolor\":\"white\",\"ticks\":\"\"},\"bgcolor\":\"#E5ECF6\",\"caxis\":{\"gridcolor\":\"white\",\"linecolor\":\"white\",\"ticks\":\"\"}},\"title\":{\"x\":0.05},\"xaxis\":{\"automargin\":true,\"gridcolor\":\"white\",\"linecolor\":\"white\",\"ticks\":\"\",\"title\":{\"standoff\":15},\"zerolinecolor\":\"white\",\"zerolinewidth\":2},\"yaxis\":{\"automargin\":true,\"gridcolor\":\"white\",\"linecolor\":\"white\",\"ticks\":\"\",\"title\":{\"standoff\":15},\"zerolinecolor\":\"white\",\"zerolinewidth\":2}}},\"xaxis\":{\"anchor\":\"y\",\"domain\":[0.0,1.0],\"title\":{\"text\":\"DEPARTAMENTO\"},\"tickangle\":-90},\"yaxis\":{\"anchor\":\"x\",\"domain\":[0.0,1.0],\"title\":{\"text\":\"CANTIDAD\"}},\"legend\":{\"title\":{\"text\":\"GENERO\"},\"tracegroupgap\":0},\"title\":{\"text\":\"NUMERO DE CASOS POR GENERO\"},\"barmode\":\"relative\",\"height\":920,\"width\":1400},                        {\"responsive\": true}                    ).then(function(){\n",
              "                            \n",
              "var gd = document.getElementById('1d630763-9f04-4143-9b7f-f5058df251f4');\n",
              "var x = new MutationObserver(function (mutations, observer) {{\n",
              "        var display = window.getComputedStyle(gd).display;\n",
              "        if (!display || display === 'none') {{\n",
              "            console.log([gd, 'removed!']);\n",
              "            Plotly.purge(gd);\n",
              "            observer.disconnect();\n",
              "        }}\n",
              "}});\n",
              "\n",
              "// Listen for the removal of the full notebook cells\n",
              "var notebookContainer = gd.closest('#notebook-container');\n",
              "if (notebookContainer) {{\n",
              "    x.observe(notebookContainer, {childList: true});\n",
              "}}\n",
              "\n",
              "// Listen for the clearing of the current output cell\n",
              "var outputEl = gd.closest('.output');\n",
              "if (outputEl) {{\n",
              "    x.observe(outputEl, {childList: true});\n",
              "}}\n",
              "\n",
              "                        })                };                            </script>        </div>\n",
              "</body>\n",
              "</html>"
            ]
          },
          "metadata": {},
          "output_type": "display_data"
        }
      ],
      "source": [
        "df_grp2 = df.groupby(['DEPARTAMENTO','GENERO'])['CANTIDAD'].sum().reset_index()\n",
        "fig = px.bar(df_grp2.sort_values(by='CANTIDAD', ascending=False), x=\"DEPARTAMENTO\", y=\"CANTIDAD\",color=\"GENERO\", title=\"NUMERO DE CASOS POR GENERO\",height =920, width =1400)\n",
        "fig.update_xaxes(tickangle=-90)\n",
        "fig.show()"
      ]
    },
    {
      "cell_type": "code",
      "execution_count": 118,
      "id": "1318f752-d306-4eac-95e6-a6f5892faf64",
      "metadata": {
        "colab": {
          "base_uri": "https://localhost:8080/",
          "height": 837
        },
        "id": "1318f752-d306-4eac-95e6-a6f5892faf64",
        "outputId": "6f5052c6-52f8-4960-8ebb-1a80ebb26c83"
      },
      "outputs": [
        {
          "data": {
            "text/html": [
              "<html>\n",
              "<head><meta charset=\"utf-8\" /></head>\n",
              "<body>\n",
              "    <div>            <script src=\"https://cdnjs.cloudflare.com/ajax/libs/mathjax/2.7.5/MathJax.js?config=TeX-AMS-MML_SVG\"></script><script type=\"text/javascript\">if (window.MathJax) {MathJax.Hub.Config({SVG: {font: \"STIX-Web\"}});}</script>                <script type=\"text/javascript\">window.PlotlyConfig = {MathJaxConfig: 'local'};</script>\n",
              "        <script src=\"https://cdn.plot.ly/plotly-2.8.3.min.js\"></script>                <div id=\"c66862d3-955c-474e-8471-9993fc0af3d0\" class=\"plotly-graph-div\" style=\"height:800px; width:1400px;\"></div>            <script type=\"text/javascript\">                                    window.PLOTLYENV=window.PLOTLYENV || {};                                    if (document.getElementById(\"c66862d3-955c-474e-8471-9993fc0af3d0\")) {                    Plotly.newPlot(                        \"c66862d3-955c-474e-8471-9993fc0af3d0\",                        [{\"alignmentgroup\":\"True\",\"hovertemplate\":\"GENERO=FEMENINO<br>Dia de la semana=%{x}<br>CANTIDAD=%{y}<extra></extra>\",\"legendgroup\":\"FEMENINO\",\"marker\":{\"color\":\"#636efa\",\"pattern\":{\"shape\":\"\"}},\"name\":\"FEMENINO\",\"offsetgroup\":\"FEMENINO\",\"orientation\":\"v\",\"showlegend\":true,\"textposition\":\"auto\",\"x\":[\"Sunday\",\"Monday\",\"Saturday\",\"Tuesday\",\"Wednesday\",\"Thursday\",\"Friday\"],\"xaxis\":\"x\",\"y\":[101152,81628,73288,71159,69428,67153,64133],\"yaxis\":\"y\",\"type\":\"bar\"},{\"alignmentgroup\":\"True\",\"hovertemplate\":\"GENERO=MASCULINO<br>Dia de la semana=%{x}<br>CANTIDAD=%{y}<extra></extra>\",\"legendgroup\":\"MASCULINO\",\"marker\":{\"color\":\"#EF553B\",\"pattern\":{\"shape\":\"\"}},\"name\":\"MASCULINO\",\"offsetgroup\":\"MASCULINO\",\"orientation\":\"v\",\"showlegend\":true,\"textposition\":\"auto\",\"x\":[\"Sunday\",\"Monday\",\"Tuesday\",\"Wednesday\",\"Saturday\",\"Thursday\",\"Friday\"],\"xaxis\":\"x\",\"y\":[25729,21789,20105,19879,18791,18773,17826],\"yaxis\":\"y\",\"type\":\"bar\"},{\"alignmentgroup\":\"True\",\"hovertemplate\":\"GENERO=NO REPORTA<br>Dia de la semana=%{x}<br>CANTIDAD=%{y}<extra></extra>\",\"legendgroup\":\"NO REPORTA\",\"marker\":{\"color\":\"#00cc96\",\"pattern\":{\"shape\":\"\"}},\"name\":\"NO REPORTA\",\"offsetgroup\":\"NO REPORTA\",\"orientation\":\"v\",\"showlegend\":true,\"textposition\":\"auto\",\"x\":[\"Thursday\",\"Friday\",\"Monday\",\"Sunday\",\"Tuesday\",\"Saturday\"],\"xaxis\":\"x\",\"y\":[6,4,3,3,3,1],\"yaxis\":\"y\",\"type\":\"bar\"}],                        {\"template\":{\"data\":{\"bar\":[{\"error_x\":{\"color\":\"#2a3f5f\"},\"error_y\":{\"color\":\"#2a3f5f\"},\"marker\":{\"line\":{\"color\":\"#E5ECF6\",\"width\":0.5},\"pattern\":{\"fillmode\":\"overlay\",\"size\":10,\"solidity\":0.2}},\"type\":\"bar\"}],\"barpolar\":[{\"marker\":{\"line\":{\"color\":\"#E5ECF6\",\"width\":0.5},\"pattern\":{\"fillmode\":\"overlay\",\"size\":10,\"solidity\":0.2}},\"type\":\"barpolar\"}],\"carpet\":[{\"aaxis\":{\"endlinecolor\":\"#2a3f5f\",\"gridcolor\":\"white\",\"linecolor\":\"white\",\"minorgridcolor\":\"white\",\"startlinecolor\":\"#2a3f5f\"},\"baxis\":{\"endlinecolor\":\"#2a3f5f\",\"gridcolor\":\"white\",\"linecolor\":\"white\",\"minorgridcolor\":\"white\",\"startlinecolor\":\"#2a3f5f\"},\"type\":\"carpet\"}],\"choropleth\":[{\"colorbar\":{\"outlinewidth\":0,\"ticks\":\"\"},\"type\":\"choropleth\"}],\"contour\":[{\"colorbar\":{\"outlinewidth\":0,\"ticks\":\"\"},\"colorscale\":[[0.0,\"#0d0887\"],[0.1111111111111111,\"#46039f\"],[0.2222222222222222,\"#7201a8\"],[0.3333333333333333,\"#9c179e\"],[0.4444444444444444,\"#bd3786\"],[0.5555555555555556,\"#d8576b\"],[0.6666666666666666,\"#ed7953\"],[0.7777777777777778,\"#fb9f3a\"],[0.8888888888888888,\"#fdca26\"],[1.0,\"#f0f921\"]],\"type\":\"contour\"}],\"contourcarpet\":[{\"colorbar\":{\"outlinewidth\":0,\"ticks\":\"\"},\"type\":\"contourcarpet\"}],\"heatmap\":[{\"colorbar\":{\"outlinewidth\":0,\"ticks\":\"\"},\"colorscale\":[[0.0,\"#0d0887\"],[0.1111111111111111,\"#46039f\"],[0.2222222222222222,\"#7201a8\"],[0.3333333333333333,\"#9c179e\"],[0.4444444444444444,\"#bd3786\"],[0.5555555555555556,\"#d8576b\"],[0.6666666666666666,\"#ed7953\"],[0.7777777777777778,\"#fb9f3a\"],[0.8888888888888888,\"#fdca26\"],[1.0,\"#f0f921\"]],\"type\":\"heatmap\"}],\"heatmapgl\":[{\"colorbar\":{\"outlinewidth\":0,\"ticks\":\"\"},\"colorscale\":[[0.0,\"#0d0887\"],[0.1111111111111111,\"#46039f\"],[0.2222222222222222,\"#7201a8\"],[0.3333333333333333,\"#9c179e\"],[0.4444444444444444,\"#bd3786\"],[0.5555555555555556,\"#d8576b\"],[0.6666666666666666,\"#ed7953\"],[0.7777777777777778,\"#fb9f3a\"],[0.8888888888888888,\"#fdca26\"],[1.0,\"#f0f921\"]],\"type\":\"heatmapgl\"}],\"histogram\":[{\"marker\":{\"pattern\":{\"fillmode\":\"overlay\",\"size\":10,\"solidity\":0.2}},\"type\":\"histogram\"}],\"histogram2d\":[{\"colorbar\":{\"outlinewidth\":0,\"ticks\":\"\"},\"colorscale\":[[0.0,\"#0d0887\"],[0.1111111111111111,\"#46039f\"],[0.2222222222222222,\"#7201a8\"],[0.3333333333333333,\"#9c179e\"],[0.4444444444444444,\"#bd3786\"],[0.5555555555555556,\"#d8576b\"],[0.6666666666666666,\"#ed7953\"],[0.7777777777777778,\"#fb9f3a\"],[0.8888888888888888,\"#fdca26\"],[1.0,\"#f0f921\"]],\"type\":\"histogram2d\"}],\"histogram2dcontour\":[{\"colorbar\":{\"outlinewidth\":0,\"ticks\":\"\"},\"colorscale\":[[0.0,\"#0d0887\"],[0.1111111111111111,\"#46039f\"],[0.2222222222222222,\"#7201a8\"],[0.3333333333333333,\"#9c179e\"],[0.4444444444444444,\"#bd3786\"],[0.5555555555555556,\"#d8576b\"],[0.6666666666666666,\"#ed7953\"],[0.7777777777777778,\"#fb9f3a\"],[0.8888888888888888,\"#fdca26\"],[1.0,\"#f0f921\"]],\"type\":\"histogram2dcontour\"}],\"mesh3d\":[{\"colorbar\":{\"outlinewidth\":0,\"ticks\":\"\"},\"type\":\"mesh3d\"}],\"parcoords\":[{\"line\":{\"colorbar\":{\"outlinewidth\":0,\"ticks\":\"\"}},\"type\":\"parcoords\"}],\"pie\":[{\"automargin\":true,\"type\":\"pie\"}],\"scatter\":[{\"marker\":{\"colorbar\":{\"outlinewidth\":0,\"ticks\":\"\"}},\"type\":\"scatter\"}],\"scatter3d\":[{\"line\":{\"colorbar\":{\"outlinewidth\":0,\"ticks\":\"\"}},\"marker\":{\"colorbar\":{\"outlinewidth\":0,\"ticks\":\"\"}},\"type\":\"scatter3d\"}],\"scattercarpet\":[{\"marker\":{\"colorbar\":{\"outlinewidth\":0,\"ticks\":\"\"}},\"type\":\"scattercarpet\"}],\"scattergeo\":[{\"marker\":{\"colorbar\":{\"outlinewidth\":0,\"ticks\":\"\"}},\"type\":\"scattergeo\"}],\"scattergl\":[{\"marker\":{\"colorbar\":{\"outlinewidth\":0,\"ticks\":\"\"}},\"type\":\"scattergl\"}],\"scattermapbox\":[{\"marker\":{\"colorbar\":{\"outlinewidth\":0,\"ticks\":\"\"}},\"type\":\"scattermapbox\"}],\"scatterpolar\":[{\"marker\":{\"colorbar\":{\"outlinewidth\":0,\"ticks\":\"\"}},\"type\":\"scatterpolar\"}],\"scatterpolargl\":[{\"marker\":{\"colorbar\":{\"outlinewidth\":0,\"ticks\":\"\"}},\"type\":\"scatterpolargl\"}],\"scatterternary\":[{\"marker\":{\"colorbar\":{\"outlinewidth\":0,\"ticks\":\"\"}},\"type\":\"scatterternary\"}],\"surface\":[{\"colorbar\":{\"outlinewidth\":0,\"ticks\":\"\"},\"colorscale\":[[0.0,\"#0d0887\"],[0.1111111111111111,\"#46039f\"],[0.2222222222222222,\"#7201a8\"],[0.3333333333333333,\"#9c179e\"],[0.4444444444444444,\"#bd3786\"],[0.5555555555555556,\"#d8576b\"],[0.6666666666666666,\"#ed7953\"],[0.7777777777777778,\"#fb9f3a\"],[0.8888888888888888,\"#fdca26\"],[1.0,\"#f0f921\"]],\"type\":\"surface\"}],\"table\":[{\"cells\":{\"fill\":{\"color\":\"#EBF0F8\"},\"line\":{\"color\":\"white\"}},\"header\":{\"fill\":{\"color\":\"#C8D4E3\"},\"line\":{\"color\":\"white\"}},\"type\":\"table\"}]},\"layout\":{\"annotationdefaults\":{\"arrowcolor\":\"#2a3f5f\",\"arrowhead\":0,\"arrowwidth\":1},\"autotypenumbers\":\"strict\",\"coloraxis\":{\"colorbar\":{\"outlinewidth\":0,\"ticks\":\"\"}},\"colorscale\":{\"diverging\":[[0,\"#8e0152\"],[0.1,\"#c51b7d\"],[0.2,\"#de77ae\"],[0.3,\"#f1b6da\"],[0.4,\"#fde0ef\"],[0.5,\"#f7f7f7\"],[0.6,\"#e6f5d0\"],[0.7,\"#b8e186\"],[0.8,\"#7fbc41\"],[0.9,\"#4d9221\"],[1,\"#276419\"]],\"sequential\":[[0.0,\"#0d0887\"],[0.1111111111111111,\"#46039f\"],[0.2222222222222222,\"#7201a8\"],[0.3333333333333333,\"#9c179e\"],[0.4444444444444444,\"#bd3786\"],[0.5555555555555556,\"#d8576b\"],[0.6666666666666666,\"#ed7953\"],[0.7777777777777778,\"#fb9f3a\"],[0.8888888888888888,\"#fdca26\"],[1.0,\"#f0f921\"]],\"sequentialminus\":[[0.0,\"#0d0887\"],[0.1111111111111111,\"#46039f\"],[0.2222222222222222,\"#7201a8\"],[0.3333333333333333,\"#9c179e\"],[0.4444444444444444,\"#bd3786\"],[0.5555555555555556,\"#d8576b\"],[0.6666666666666666,\"#ed7953\"],[0.7777777777777778,\"#fb9f3a\"],[0.8888888888888888,\"#fdca26\"],[1.0,\"#f0f921\"]]},\"colorway\":[\"#636efa\",\"#EF553B\",\"#00cc96\",\"#ab63fa\",\"#FFA15A\",\"#19d3f3\",\"#FF6692\",\"#B6E880\",\"#FF97FF\",\"#FECB52\"],\"font\":{\"color\":\"#2a3f5f\"},\"geo\":{\"bgcolor\":\"white\",\"lakecolor\":\"white\",\"landcolor\":\"#E5ECF6\",\"showlakes\":true,\"showland\":true,\"subunitcolor\":\"white\"},\"hoverlabel\":{\"align\":\"left\"},\"hovermode\":\"closest\",\"mapbox\":{\"style\":\"light\"},\"paper_bgcolor\":\"white\",\"plot_bgcolor\":\"#E5ECF6\",\"polar\":{\"angularaxis\":{\"gridcolor\":\"white\",\"linecolor\":\"white\",\"ticks\":\"\"},\"bgcolor\":\"#E5ECF6\",\"radialaxis\":{\"gridcolor\":\"white\",\"linecolor\":\"white\",\"ticks\":\"\"}},\"scene\":{\"xaxis\":{\"backgroundcolor\":\"#E5ECF6\",\"gridcolor\":\"white\",\"gridwidth\":2,\"linecolor\":\"white\",\"showbackground\":true,\"ticks\":\"\",\"zerolinecolor\":\"white\"},\"yaxis\":{\"backgroundcolor\":\"#E5ECF6\",\"gridcolor\":\"white\",\"gridwidth\":2,\"linecolor\":\"white\",\"showbackground\":true,\"ticks\":\"\",\"zerolinecolor\":\"white\"},\"zaxis\":{\"backgroundcolor\":\"#E5ECF6\",\"gridcolor\":\"white\",\"gridwidth\":2,\"linecolor\":\"white\",\"showbackground\":true,\"ticks\":\"\",\"zerolinecolor\":\"white\"}},\"shapedefaults\":{\"line\":{\"color\":\"#2a3f5f\"}},\"ternary\":{\"aaxis\":{\"gridcolor\":\"white\",\"linecolor\":\"white\",\"ticks\":\"\"},\"baxis\":{\"gridcolor\":\"white\",\"linecolor\":\"white\",\"ticks\":\"\"},\"bgcolor\":\"#E5ECF6\",\"caxis\":{\"gridcolor\":\"white\",\"linecolor\":\"white\",\"ticks\":\"\"}},\"title\":{\"x\":0.05},\"xaxis\":{\"automargin\":true,\"gridcolor\":\"white\",\"linecolor\":\"white\",\"ticks\":\"\",\"title\":{\"standoff\":15},\"zerolinecolor\":\"white\",\"zerolinewidth\":2},\"yaxis\":{\"automargin\":true,\"gridcolor\":\"white\",\"linecolor\":\"white\",\"ticks\":\"\",\"title\":{\"standoff\":15},\"zerolinecolor\":\"white\",\"zerolinewidth\":2}}},\"xaxis\":{\"anchor\":\"y\",\"domain\":[0.0,1.0],\"title\":{\"text\":\"Dia de la semana\"}},\"yaxis\":{\"anchor\":\"x\",\"domain\":[0.0,1.0],\"title\":{\"text\":\"CANTIDAD\"}},\"legend\":{\"title\":{\"text\":\"GENERO\"},\"tracegroupgap\":0},\"title\":{\"text\":\"NUMERO DE CASOS POR D\\u00cdA\"},\"barmode\":\"relative\",\"height\":800,\"width\":1400},                        {\"responsive\": true}                    ).then(function(){\n",
              "                            \n",
              "var gd = document.getElementById('c66862d3-955c-474e-8471-9993fc0af3d0');\n",
              "var x = new MutationObserver(function (mutations, observer) {{\n",
              "        var display = window.getComputedStyle(gd).display;\n",
              "        if (!display || display === 'none') {{\n",
              "            console.log([gd, 'removed!']);\n",
              "            Plotly.purge(gd);\n",
              "            observer.disconnect();\n",
              "        }}\n",
              "}});\n",
              "\n",
              "// Listen for the removal of the full notebook cells\n",
              "var notebookContainer = gd.closest('#notebook-container');\n",
              "if (notebookContainer) {{\n",
              "    x.observe(notebookContainer, {childList: true});\n",
              "}}\n",
              "\n",
              "// Listen for the clearing of the current output cell\n",
              "var outputEl = gd.closest('.output');\n",
              "if (outputEl) {{\n",
              "    x.observe(outputEl, {childList: true});\n",
              "}}\n",
              "\n",
              "                        })                };                            </script>        </div>\n",
              "</body>\n",
              "</html>"
            ]
          },
          "metadata": {},
          "output_type": "display_data"
        }
      ],
      "source": [
        "df_grp3 = df.groupby(['GENERO', 'Dia de la semana'])['CANTIDAD'].sum().reset_index()\n",
        "fig = px.bar(df_grp3.sort_values(by='CANTIDAD', ascending=False), x=\"Dia de la semana\", y='CANTIDAD',color=\"GENERO\", title=\"NUMERO DE CASOS POR DÍA\",height =800, width =1400)\n",
        "fig.show()"
      ]
    },
    {
      "cell_type": "code",
      "execution_count": 119,
      "id": "116f7001-b318-4d8e-b23d-43f7b1f0554b",
      "metadata": {
        "colab": {
          "base_uri": "https://localhost:8080/",
          "height": 837
        },
        "id": "116f7001-b318-4d8e-b23d-43f7b1f0554b",
        "outputId": "e9268898-c21c-4150-cc3c-6c4f23832c14"
      },
      "outputs": [
        {
          "data": {
            "text/html": [
              "<html>\n",
              "<head><meta charset=\"utf-8\" /></head>\n",
              "<body>\n",
              "    <div>            <script src=\"https://cdnjs.cloudflare.com/ajax/libs/mathjax/2.7.5/MathJax.js?config=TeX-AMS-MML_SVG\"></script><script type=\"text/javascript\">if (window.MathJax) {MathJax.Hub.Config({SVG: {font: \"STIX-Web\"}});}</script>                <script type=\"text/javascript\">window.PlotlyConfig = {MathJaxConfig: 'local'};</script>\n",
              "        <script src=\"https://cdn.plot.ly/plotly-2.8.3.min.js\"></script>                <div id=\"f6f19310-80e2-4036-93e3-fda5e1a3b7bd\" class=\"plotly-graph-div\" style=\"height:800px; width:1400px;\"></div>            <script type=\"text/javascript\">                                    window.PLOTLYENV=window.PLOTLYENV || {};                                    if (document.getElementById(\"f6f19310-80e2-4036-93e3-fda5e1a3b7bd\")) {                    Plotly.newPlot(                        \"f6f19310-80e2-4036-93e3-fda5e1a3b7bd\",                        [{\"alignmentgroup\":\"True\",\"hovertemplate\":\"DEPARTAMENTO=CUNDINAMARCA<br>Dia de la semana=%{x}<br>CANTIDAD=%{y}<extra></extra>\",\"legendgroup\":\"CUNDINAMARCA\",\"marker\":{\"color\":\"#636efa\",\"pattern\":{\"shape\":\"\"}},\"name\":\"CUNDINAMARCA\",\"offsetgroup\":\"CUNDINAMARCA\",\"orientation\":\"v\",\"showlegend\":true,\"textposition\":\"auto\",\"x\":[\"Sunday\",\"Monday\",\"Saturday\",\"Tuesday\",\"Wednesday\",\"Thursday\",\"Friday\"],\"xaxis\":\"x\",\"y\":[23503,21256,20153,19726,19376,19051,18227],\"yaxis\":\"y\",\"type\":\"bar\"},{\"alignmentgroup\":\"True\",\"hovertemplate\":\"DEPARTAMENTO=ANTIOQUIA<br>Dia de la semana=%{x}<br>CANTIDAD=%{y}<extra></extra>\",\"legendgroup\":\"ANTIOQUIA\",\"marker\":{\"color\":\"#EF553B\",\"pattern\":{\"shape\":\"\"}},\"name\":\"ANTIOQUIA\",\"offsetgroup\":\"ANTIOQUIA\",\"orientation\":\"v\",\"showlegend\":true,\"textposition\":\"auto\",\"x\":[\"Sunday\",\"Monday\",\"Tuesday\",\"Wednesday\",\"Saturday\",\"Thursday\",\"Friday\"],\"xaxis\":\"x\",\"y\":[14194,12659,10972,10632,10468,10378,9922],\"yaxis\":\"y\",\"type\":\"bar\"},{\"alignmentgroup\":\"True\",\"hovertemplate\":\"DEPARTAMENTO=VALLE<br>Dia de la semana=%{x}<br>CANTIDAD=%{y}<extra></extra>\",\"legendgroup\":\"VALLE\",\"marker\":{\"color\":\"#00cc96\",\"pattern\":{\"shape\":\"\"}},\"name\":\"VALLE\",\"offsetgroup\":\"VALLE\",\"orientation\":\"v\",\"showlegend\":true,\"textposition\":\"auto\",\"x\":[\"Sunday\",\"Monday\",\"Tuesday\",\"Wednesday\",\"Saturday\",\"Thursday\",\"Friday\"],\"xaxis\":\"x\",\"y\":[12438,11072,9696,9535,9197,9048,8783],\"yaxis\":\"y\",\"type\":\"bar\"},{\"alignmentgroup\":\"True\",\"hovertemplate\":\"DEPARTAMENTO=SANTANDER<br>Dia de la semana=%{x}<br>CANTIDAD=%{y}<extra></extra>\",\"legendgroup\":\"SANTANDER\",\"marker\":{\"color\":\"#ab63fa\",\"pattern\":{\"shape\":\"\"}},\"name\":\"SANTANDER\",\"offsetgroup\":\"SANTANDER\",\"orientation\":\"v\",\"showlegend\":true,\"textposition\":\"auto\",\"x\":[\"Sunday\",\"Monday\",\"Tuesday\",\"Wednesday\",\"Saturday\",\"Thursday\",\"Friday\"],\"xaxis\":\"x\",\"y\":[10449,8544,7647,7509,7490,7103,6481],\"yaxis\":\"y\",\"type\":\"bar\"},{\"alignmentgroup\":\"True\",\"hovertemplate\":\"DEPARTAMENTO=BOYAC\\u00c1<br>Dia de la semana=%{x}<br>CANTIDAD=%{y}<extra></extra>\",\"legendgroup\":\"BOYAC\\u00c1\",\"marker\":{\"color\":\"#FFA15A\",\"pattern\":{\"shape\":\"\"}},\"name\":\"BOYAC\\u00c1\",\"offsetgroup\":\"BOYAC\\u00c1\",\"orientation\":\"v\",\"showlegend\":true,\"textposition\":\"auto\",\"x\":[\"Sunday\",\"Saturday\",\"Monday\",\"Tuesday\",\"Wednesday\",\"Thursday\",\"Friday\"],\"xaxis\":\"x\",\"y\":[6599,5121,4920,4390,4363,4276,4086],\"yaxis\":\"y\",\"type\":\"bar\"}],                        {\"template\":{\"data\":{\"bar\":[{\"error_x\":{\"color\":\"#2a3f5f\"},\"error_y\":{\"color\":\"#2a3f5f\"},\"marker\":{\"line\":{\"color\":\"#E5ECF6\",\"width\":0.5},\"pattern\":{\"fillmode\":\"overlay\",\"size\":10,\"solidity\":0.2}},\"type\":\"bar\"}],\"barpolar\":[{\"marker\":{\"line\":{\"color\":\"#E5ECF6\",\"width\":0.5},\"pattern\":{\"fillmode\":\"overlay\",\"size\":10,\"solidity\":0.2}},\"type\":\"barpolar\"}],\"carpet\":[{\"aaxis\":{\"endlinecolor\":\"#2a3f5f\",\"gridcolor\":\"white\",\"linecolor\":\"white\",\"minorgridcolor\":\"white\",\"startlinecolor\":\"#2a3f5f\"},\"baxis\":{\"endlinecolor\":\"#2a3f5f\",\"gridcolor\":\"white\",\"linecolor\":\"white\",\"minorgridcolor\":\"white\",\"startlinecolor\":\"#2a3f5f\"},\"type\":\"carpet\"}],\"choropleth\":[{\"colorbar\":{\"outlinewidth\":0,\"ticks\":\"\"},\"type\":\"choropleth\"}],\"contour\":[{\"colorbar\":{\"outlinewidth\":0,\"ticks\":\"\"},\"colorscale\":[[0.0,\"#0d0887\"],[0.1111111111111111,\"#46039f\"],[0.2222222222222222,\"#7201a8\"],[0.3333333333333333,\"#9c179e\"],[0.4444444444444444,\"#bd3786\"],[0.5555555555555556,\"#d8576b\"],[0.6666666666666666,\"#ed7953\"],[0.7777777777777778,\"#fb9f3a\"],[0.8888888888888888,\"#fdca26\"],[1.0,\"#f0f921\"]],\"type\":\"contour\"}],\"contourcarpet\":[{\"colorbar\":{\"outlinewidth\":0,\"ticks\":\"\"},\"type\":\"contourcarpet\"}],\"heatmap\":[{\"colorbar\":{\"outlinewidth\":0,\"ticks\":\"\"},\"colorscale\":[[0.0,\"#0d0887\"],[0.1111111111111111,\"#46039f\"],[0.2222222222222222,\"#7201a8\"],[0.3333333333333333,\"#9c179e\"],[0.4444444444444444,\"#bd3786\"],[0.5555555555555556,\"#d8576b\"],[0.6666666666666666,\"#ed7953\"],[0.7777777777777778,\"#fb9f3a\"],[0.8888888888888888,\"#fdca26\"],[1.0,\"#f0f921\"]],\"type\":\"heatmap\"}],\"heatmapgl\":[{\"colorbar\":{\"outlinewidth\":0,\"ticks\":\"\"},\"colorscale\":[[0.0,\"#0d0887\"],[0.1111111111111111,\"#46039f\"],[0.2222222222222222,\"#7201a8\"],[0.3333333333333333,\"#9c179e\"],[0.4444444444444444,\"#bd3786\"],[0.5555555555555556,\"#d8576b\"],[0.6666666666666666,\"#ed7953\"],[0.7777777777777778,\"#fb9f3a\"],[0.8888888888888888,\"#fdca26\"],[1.0,\"#f0f921\"]],\"type\":\"heatmapgl\"}],\"histogram\":[{\"marker\":{\"pattern\":{\"fillmode\":\"overlay\",\"size\":10,\"solidity\":0.2}},\"type\":\"histogram\"}],\"histogram2d\":[{\"colorbar\":{\"outlinewidth\":0,\"ticks\":\"\"},\"colorscale\":[[0.0,\"#0d0887\"],[0.1111111111111111,\"#46039f\"],[0.2222222222222222,\"#7201a8\"],[0.3333333333333333,\"#9c179e\"],[0.4444444444444444,\"#bd3786\"],[0.5555555555555556,\"#d8576b\"],[0.6666666666666666,\"#ed7953\"],[0.7777777777777778,\"#fb9f3a\"],[0.8888888888888888,\"#fdca26\"],[1.0,\"#f0f921\"]],\"type\":\"histogram2d\"}],\"histogram2dcontour\":[{\"colorbar\":{\"outlinewidth\":0,\"ticks\":\"\"},\"colorscale\":[[0.0,\"#0d0887\"],[0.1111111111111111,\"#46039f\"],[0.2222222222222222,\"#7201a8\"],[0.3333333333333333,\"#9c179e\"],[0.4444444444444444,\"#bd3786\"],[0.5555555555555556,\"#d8576b\"],[0.6666666666666666,\"#ed7953\"],[0.7777777777777778,\"#fb9f3a\"],[0.8888888888888888,\"#fdca26\"],[1.0,\"#f0f921\"]],\"type\":\"histogram2dcontour\"}],\"mesh3d\":[{\"colorbar\":{\"outlinewidth\":0,\"ticks\":\"\"},\"type\":\"mesh3d\"}],\"parcoords\":[{\"line\":{\"colorbar\":{\"outlinewidth\":0,\"ticks\":\"\"}},\"type\":\"parcoords\"}],\"pie\":[{\"automargin\":true,\"type\":\"pie\"}],\"scatter\":[{\"marker\":{\"colorbar\":{\"outlinewidth\":0,\"ticks\":\"\"}},\"type\":\"scatter\"}],\"scatter3d\":[{\"line\":{\"colorbar\":{\"outlinewidth\":0,\"ticks\":\"\"}},\"marker\":{\"colorbar\":{\"outlinewidth\":0,\"ticks\":\"\"}},\"type\":\"scatter3d\"}],\"scattercarpet\":[{\"marker\":{\"colorbar\":{\"outlinewidth\":0,\"ticks\":\"\"}},\"type\":\"scattercarpet\"}],\"scattergeo\":[{\"marker\":{\"colorbar\":{\"outlinewidth\":0,\"ticks\":\"\"}},\"type\":\"scattergeo\"}],\"scattergl\":[{\"marker\":{\"colorbar\":{\"outlinewidth\":0,\"ticks\":\"\"}},\"type\":\"scattergl\"}],\"scattermapbox\":[{\"marker\":{\"colorbar\":{\"outlinewidth\":0,\"ticks\":\"\"}},\"type\":\"scattermapbox\"}],\"scatterpolar\":[{\"marker\":{\"colorbar\":{\"outlinewidth\":0,\"ticks\":\"\"}},\"type\":\"scatterpolar\"}],\"scatterpolargl\":[{\"marker\":{\"colorbar\":{\"outlinewidth\":0,\"ticks\":\"\"}},\"type\":\"scatterpolargl\"}],\"scatterternary\":[{\"marker\":{\"colorbar\":{\"outlinewidth\":0,\"ticks\":\"\"}},\"type\":\"scatterternary\"}],\"surface\":[{\"colorbar\":{\"outlinewidth\":0,\"ticks\":\"\"},\"colorscale\":[[0.0,\"#0d0887\"],[0.1111111111111111,\"#46039f\"],[0.2222222222222222,\"#7201a8\"],[0.3333333333333333,\"#9c179e\"],[0.4444444444444444,\"#bd3786\"],[0.5555555555555556,\"#d8576b\"],[0.6666666666666666,\"#ed7953\"],[0.7777777777777778,\"#fb9f3a\"],[0.8888888888888888,\"#fdca26\"],[1.0,\"#f0f921\"]],\"type\":\"surface\"}],\"table\":[{\"cells\":{\"fill\":{\"color\":\"#EBF0F8\"},\"line\":{\"color\":\"white\"}},\"header\":{\"fill\":{\"color\":\"#C8D4E3\"},\"line\":{\"color\":\"white\"}},\"type\":\"table\"}]},\"layout\":{\"annotationdefaults\":{\"arrowcolor\":\"#2a3f5f\",\"arrowhead\":0,\"arrowwidth\":1},\"autotypenumbers\":\"strict\",\"coloraxis\":{\"colorbar\":{\"outlinewidth\":0,\"ticks\":\"\"}},\"colorscale\":{\"diverging\":[[0,\"#8e0152\"],[0.1,\"#c51b7d\"],[0.2,\"#de77ae\"],[0.3,\"#f1b6da\"],[0.4,\"#fde0ef\"],[0.5,\"#f7f7f7\"],[0.6,\"#e6f5d0\"],[0.7,\"#b8e186\"],[0.8,\"#7fbc41\"],[0.9,\"#4d9221\"],[1,\"#276419\"]],\"sequential\":[[0.0,\"#0d0887\"],[0.1111111111111111,\"#46039f\"],[0.2222222222222222,\"#7201a8\"],[0.3333333333333333,\"#9c179e\"],[0.4444444444444444,\"#bd3786\"],[0.5555555555555556,\"#d8576b\"],[0.6666666666666666,\"#ed7953\"],[0.7777777777777778,\"#fb9f3a\"],[0.8888888888888888,\"#fdca26\"],[1.0,\"#f0f921\"]],\"sequentialminus\":[[0.0,\"#0d0887\"],[0.1111111111111111,\"#46039f\"],[0.2222222222222222,\"#7201a8\"],[0.3333333333333333,\"#9c179e\"],[0.4444444444444444,\"#bd3786\"],[0.5555555555555556,\"#d8576b\"],[0.6666666666666666,\"#ed7953\"],[0.7777777777777778,\"#fb9f3a\"],[0.8888888888888888,\"#fdca26\"],[1.0,\"#f0f921\"]]},\"colorway\":[\"#636efa\",\"#EF553B\",\"#00cc96\",\"#ab63fa\",\"#FFA15A\",\"#19d3f3\",\"#FF6692\",\"#B6E880\",\"#FF97FF\",\"#FECB52\"],\"font\":{\"color\":\"#2a3f5f\"},\"geo\":{\"bgcolor\":\"white\",\"lakecolor\":\"white\",\"landcolor\":\"#E5ECF6\",\"showlakes\":true,\"showland\":true,\"subunitcolor\":\"white\"},\"hoverlabel\":{\"align\":\"left\"},\"hovermode\":\"closest\",\"mapbox\":{\"style\":\"light\"},\"paper_bgcolor\":\"white\",\"plot_bgcolor\":\"#E5ECF6\",\"polar\":{\"angularaxis\":{\"gridcolor\":\"white\",\"linecolor\":\"white\",\"ticks\":\"\"},\"bgcolor\":\"#E5ECF6\",\"radialaxis\":{\"gridcolor\":\"white\",\"linecolor\":\"white\",\"ticks\":\"\"}},\"scene\":{\"xaxis\":{\"backgroundcolor\":\"#E5ECF6\",\"gridcolor\":\"white\",\"gridwidth\":2,\"linecolor\":\"white\",\"showbackground\":true,\"ticks\":\"\",\"zerolinecolor\":\"white\"},\"yaxis\":{\"backgroundcolor\":\"#E5ECF6\",\"gridcolor\":\"white\",\"gridwidth\":2,\"linecolor\":\"white\",\"showbackground\":true,\"ticks\":\"\",\"zerolinecolor\":\"white\"},\"zaxis\":{\"backgroundcolor\":\"#E5ECF6\",\"gridcolor\":\"white\",\"gridwidth\":2,\"linecolor\":\"white\",\"showbackground\":true,\"ticks\":\"\",\"zerolinecolor\":\"white\"}},\"shapedefaults\":{\"line\":{\"color\":\"#2a3f5f\"}},\"ternary\":{\"aaxis\":{\"gridcolor\":\"white\",\"linecolor\":\"white\",\"ticks\":\"\"},\"baxis\":{\"gridcolor\":\"white\",\"linecolor\":\"white\",\"ticks\":\"\"},\"bgcolor\":\"#E5ECF6\",\"caxis\":{\"gridcolor\":\"white\",\"linecolor\":\"white\",\"ticks\":\"\"}},\"title\":{\"x\":0.05},\"xaxis\":{\"automargin\":true,\"gridcolor\":\"white\",\"linecolor\":\"white\",\"ticks\":\"\",\"title\":{\"standoff\":15},\"zerolinecolor\":\"white\",\"zerolinewidth\":2},\"yaxis\":{\"automargin\":true,\"gridcolor\":\"white\",\"linecolor\":\"white\",\"ticks\":\"\",\"title\":{\"standoff\":15},\"zerolinecolor\":\"white\",\"zerolinewidth\":2}}},\"xaxis\":{\"anchor\":\"y\",\"domain\":[0.0,1.0],\"title\":{\"text\":\"Dia de la semana\"}},\"yaxis\":{\"anchor\":\"x\",\"domain\":[0.0,1.0],\"title\":{\"text\":\"CANTIDAD\"}},\"legend\":{\"title\":{\"text\":\"DEPARTAMENTO\"},\"tracegroupgap\":0},\"title\":{\"text\":\"NUMERO DE CASOS POR D\\u00cdA EN LOS 5 DEPARTAMENTOS CON M\\u00c1S VIOLENCIA INTRAFAMILIAR\"},\"barmode\":\"group\",\"height\":800,\"width\":1400},                        {\"responsive\": true}                    ).then(function(){\n",
              "                            \n",
              "var gd = document.getElementById('f6f19310-80e2-4036-93e3-fda5e1a3b7bd');\n",
              "var x = new MutationObserver(function (mutations, observer) {{\n",
              "        var display = window.getComputedStyle(gd).display;\n",
              "        if (!display || display === 'none') {{\n",
              "            console.log([gd, 'removed!']);\n",
              "            Plotly.purge(gd);\n",
              "            observer.disconnect();\n",
              "        }}\n",
              "}});\n",
              "\n",
              "// Listen for the removal of the full notebook cells\n",
              "var notebookContainer = gd.closest('#notebook-container');\n",
              "if (notebookContainer) {{\n",
              "    x.observe(notebookContainer, {childList: true});\n",
              "}}\n",
              "\n",
              "// Listen for the clearing of the current output cell\n",
              "var outputEl = gd.closest('.output');\n",
              "if (outputEl) {{\n",
              "    x.observe(outputEl, {childList: true});\n",
              "}}\n",
              "\n",
              "                        })                };                            </script>        </div>\n",
              "</body>\n",
              "</html>"
            ]
          },
          "metadata": {},
          "output_type": "display_data"
        }
      ],
      "source": [
        "df_grp5 = df.groupby(['DEPARTAMENTO', 'Dia de la semana'])['CANTIDAD'].sum().reset_index()\n",
        "df_grp5= df_grp5[(df_grp5['DEPARTAMENTO']=='CUNDINAMARCA') | (df_grp5['DEPARTAMENTO']=='ANTIOQUIA') | (df_grp5['DEPARTAMENTO']=='VALLE') | (df_grp5['DEPARTAMENTO']=='SANTANDER')| (df_grp5['DEPARTAMENTO']=='BOYACÁ')]\n",
        "fig = px.bar(df_grp5.sort_values(by='CANTIDAD', ascending=False), x=\"Dia de la semana\", y='CANTIDAD',color=\"DEPARTAMENTO\", title=\"NUMERO DE CASOS POR DÍA EN LOS 5 DEPARTAMENTOS CON MÁS VIOLENCIA INTRAFAMILIAR\",height =800, width =1400, barmode = 'group')\n",
        "fig.show()"
      ]
    },
    {
      "cell_type": "code",
      "execution_count": 120,
      "id": "eb250217-e8e4-4d04-8982-15224a5bbaa9",
      "metadata": {
        "colab": {
          "base_uri": "https://localhost:8080/",
          "height": 637
        },
        "id": "eb250217-e8e4-4d04-8982-15224a5bbaa9",
        "outputId": "d5305a12-bab5-4c35-d78d-ce22d4b9a758"
      },
      "outputs": [
        {
          "data": {
            "text/html": [
              "<html>\n",
              "<head><meta charset=\"utf-8\" /></head>\n",
              "<body>\n",
              "    <div>            <script src=\"https://cdnjs.cloudflare.com/ajax/libs/mathjax/2.7.5/MathJax.js?config=TeX-AMS-MML_SVG\"></script><script type=\"text/javascript\">if (window.MathJax) {MathJax.Hub.Config({SVG: {font: \"STIX-Web\"}});}</script>                <script type=\"text/javascript\">window.PlotlyConfig = {MathJaxConfig: 'local'};</script>\n",
              "        <script src=\"https://cdn.plot.ly/plotly-2.8.3.min.js\"></script>                <div id=\"e58d42ca-5bc4-44ae-a3aa-a70d5e94c7d8\" class=\"plotly-graph-div\" style=\"height:600px; width:1400px;\"></div>            <script type=\"text/javascript\">                                    window.PLOTLYENV=window.PLOTLYENV || {};                                    if (document.getElementById(\"e58d42ca-5bc4-44ae-a3aa-a70d5e94c7d8\")) {                    Plotly.newPlot(                        \"e58d42ca-5bc4-44ae-a3aa-a70d5e94c7d8\",                        [{\"alignmentgroup\":\"True\",\"hovertemplate\":\"ARMAS MEDIOS=NO REPORTA<br>DEPARTAMENTO=%{x}<br>CANTIDAD=%{y}<extra></extra>\",\"legendgroup\":\"NO REPORTA\",\"marker\":{\"color\":\"#3498DB\",\"pattern\":{\"shape\":\"\"}},\"name\":\"NO REPORTA\",\"offsetgroup\":\"NO REPORTA\",\"orientation\":\"v\",\"showlegend\":true,\"textposition\":\"auto\",\"x\":[\"CUNDINAMARCA\",\"ANTIOQUIA\",\"VALLE\",\"SANTANDER\",\"BOYAC\\u00c1\"],\"xaxis\":\"x\",\"y\":[55255,5342,3677,3500,570],\"yaxis\":\"y\",\"type\":\"bar\"},{\"alignmentgroup\":\"True\",\"hovertemplate\":\"ARMAS MEDIOS=CONTUNDENTES<br>DEPARTAMENTO=%{x}<br>CANTIDAD=%{y}<extra></extra>\",\"legendgroup\":\"CONTUNDENTES\",\"marker\":{\"color\":\"#28B463\",\"pattern\":{\"shape\":\"\"}},\"name\":\"CONTUNDENTES\",\"offsetgroup\":\"CONTUNDENTES\",\"orientation\":\"v\",\"showlegend\":true,\"textposition\":\"auto\",\"x\":[\"VALLE\",\"ANTIOQUIA\",\"CUNDINAMARCA\",\"SANTANDER\",\"BOYAC\\u00c1\"],\"xaxis\":\"x\",\"y\":[47160,41446,36295,34887,26122],\"yaxis\":\"y\",\"type\":\"bar\"},{\"alignmentgroup\":\"True\",\"hovertemplate\":\"ARMAS MEDIOS=SIN EMPLEO DE ARMAS<br>DEPARTAMENTO=%{x}<br>CANTIDAD=%{y}<extra></extra>\",\"legendgroup\":\"SIN EMPLEO DE ARMAS\",\"marker\":{\"color\":\"#273746\",\"pattern\":{\"shape\":\"\"}},\"name\":\"SIN EMPLEO DE ARMAS\",\"offsetgroup\":\"SIN EMPLEO DE ARMAS\",\"orientation\":\"v\",\"showlegend\":true,\"textposition\":\"auto\",\"x\":[\"CUNDINAMARCA\",\"ANTIOQUIA\",\"VALLE\",\"SANTANDER\",\"BOYAC\\u00c1\"],\"xaxis\":\"x\",\"y\":[36386,27282,13733,13009,5542],\"yaxis\":\"y\",\"type\":\"bar\"},{\"alignmentgroup\":\"True\",\"hovertemplate\":\"ARMAS MEDIOS=ARMA BLANCA / CORTOPUNZANTE<br>DEPARTAMENTO=%{x}<br>CANTIDAD=%{y}<extra></extra>\",\"legendgroup\":\"ARMA BLANCA / CORTOPUNZANTE\",\"marker\":{\"color\":\"#F1C40F\",\"pattern\":{\"shape\":\"\"}},\"name\":\"ARMA BLANCA / CORTOPUNZANTE\",\"offsetgroup\":\"ARMA BLANCA / CORTOPUNZANTE\",\"orientation\":\"v\",\"showlegend\":true,\"textposition\":\"auto\",\"x\":[\"CUNDINAMARCA\",\"ANTIOQUIA\",\"VALLE\",\"SANTANDER\",\"BOYAC\\u00c1\"],\"xaxis\":\"x\",\"y\":[8724,4686,4538,3569,1454],\"yaxis\":\"y\",\"type\":\"bar\"},{\"alignmentgroup\":\"True\",\"hovertemplate\":\"ARMAS MEDIOS=ESCOPOLAMINA<br>DEPARTAMENTO=%{x}<br>CANTIDAD=%{y}<extra></extra>\",\"legendgroup\":\"ESCOPOLAMINA\",\"marker\":{\"color\":\"#138D75\",\"pattern\":{\"shape\":\"\"}},\"name\":\"ESCOPOLAMINA\",\"offsetgroup\":\"ESCOPOLAMINA\",\"orientation\":\"v\",\"showlegend\":true,\"textposition\":\"auto\",\"x\":[\"CUNDINAMARCA\",\"VALLE\",\"ANTIOQUIA\",\"SANTANDER\",\"BOYAC\\u00c1\"],\"xaxis\":\"x\",\"y\":[4229,303,256,48,9],\"yaxis\":\"y\",\"type\":\"bar\"},{\"alignmentgroup\":\"True\",\"hovertemplate\":\"ARMAS MEDIOS=ARMA DE FUEGO<br>DEPARTAMENTO=%{x}<br>CANTIDAD=%{y}<extra></extra>\",\"legendgroup\":\"ARMA DE FUEGO\",\"marker\":{\"color\":\"red\",\"pattern\":{\"shape\":\"\"}},\"name\":\"ARMA DE FUEGO\",\"offsetgroup\":\"ARMA DE FUEGO\",\"orientation\":\"v\",\"showlegend\":true,\"textposition\":\"auto\",\"x\":[\"CUNDINAMARCA\",\"VALLE\",\"ANTIOQUIA\",\"SANTANDER\",\"BOYAC\\u00c1\"],\"xaxis\":\"x\",\"y\":[403,358,213,210,58],\"yaxis\":\"y\",\"type\":\"bar\"}],                        {\"template\":{\"data\":{\"bar\":[{\"error_x\":{\"color\":\"#2a3f5f\"},\"error_y\":{\"color\":\"#2a3f5f\"},\"marker\":{\"line\":{\"color\":\"#E5ECF6\",\"width\":0.5},\"pattern\":{\"fillmode\":\"overlay\",\"size\":10,\"solidity\":0.2}},\"type\":\"bar\"}],\"barpolar\":[{\"marker\":{\"line\":{\"color\":\"#E5ECF6\",\"width\":0.5},\"pattern\":{\"fillmode\":\"overlay\",\"size\":10,\"solidity\":0.2}},\"type\":\"barpolar\"}],\"carpet\":[{\"aaxis\":{\"endlinecolor\":\"#2a3f5f\",\"gridcolor\":\"white\",\"linecolor\":\"white\",\"minorgridcolor\":\"white\",\"startlinecolor\":\"#2a3f5f\"},\"baxis\":{\"endlinecolor\":\"#2a3f5f\",\"gridcolor\":\"white\",\"linecolor\":\"white\",\"minorgridcolor\":\"white\",\"startlinecolor\":\"#2a3f5f\"},\"type\":\"carpet\"}],\"choropleth\":[{\"colorbar\":{\"outlinewidth\":0,\"ticks\":\"\"},\"type\":\"choropleth\"}],\"contour\":[{\"colorbar\":{\"outlinewidth\":0,\"ticks\":\"\"},\"colorscale\":[[0.0,\"#0d0887\"],[0.1111111111111111,\"#46039f\"],[0.2222222222222222,\"#7201a8\"],[0.3333333333333333,\"#9c179e\"],[0.4444444444444444,\"#bd3786\"],[0.5555555555555556,\"#d8576b\"],[0.6666666666666666,\"#ed7953\"],[0.7777777777777778,\"#fb9f3a\"],[0.8888888888888888,\"#fdca26\"],[1.0,\"#f0f921\"]],\"type\":\"contour\"}],\"contourcarpet\":[{\"colorbar\":{\"outlinewidth\":0,\"ticks\":\"\"},\"type\":\"contourcarpet\"}],\"heatmap\":[{\"colorbar\":{\"outlinewidth\":0,\"ticks\":\"\"},\"colorscale\":[[0.0,\"#0d0887\"],[0.1111111111111111,\"#46039f\"],[0.2222222222222222,\"#7201a8\"],[0.3333333333333333,\"#9c179e\"],[0.4444444444444444,\"#bd3786\"],[0.5555555555555556,\"#d8576b\"],[0.6666666666666666,\"#ed7953\"],[0.7777777777777778,\"#fb9f3a\"],[0.8888888888888888,\"#fdca26\"],[1.0,\"#f0f921\"]],\"type\":\"heatmap\"}],\"heatmapgl\":[{\"colorbar\":{\"outlinewidth\":0,\"ticks\":\"\"},\"colorscale\":[[0.0,\"#0d0887\"],[0.1111111111111111,\"#46039f\"],[0.2222222222222222,\"#7201a8\"],[0.3333333333333333,\"#9c179e\"],[0.4444444444444444,\"#bd3786\"],[0.5555555555555556,\"#d8576b\"],[0.6666666666666666,\"#ed7953\"],[0.7777777777777778,\"#fb9f3a\"],[0.8888888888888888,\"#fdca26\"],[1.0,\"#f0f921\"]],\"type\":\"heatmapgl\"}],\"histogram\":[{\"marker\":{\"pattern\":{\"fillmode\":\"overlay\",\"size\":10,\"solidity\":0.2}},\"type\":\"histogram\"}],\"histogram2d\":[{\"colorbar\":{\"outlinewidth\":0,\"ticks\":\"\"},\"colorscale\":[[0.0,\"#0d0887\"],[0.1111111111111111,\"#46039f\"],[0.2222222222222222,\"#7201a8\"],[0.3333333333333333,\"#9c179e\"],[0.4444444444444444,\"#bd3786\"],[0.5555555555555556,\"#d8576b\"],[0.6666666666666666,\"#ed7953\"],[0.7777777777777778,\"#fb9f3a\"],[0.8888888888888888,\"#fdca26\"],[1.0,\"#f0f921\"]],\"type\":\"histogram2d\"}],\"histogram2dcontour\":[{\"colorbar\":{\"outlinewidth\":0,\"ticks\":\"\"},\"colorscale\":[[0.0,\"#0d0887\"],[0.1111111111111111,\"#46039f\"],[0.2222222222222222,\"#7201a8\"],[0.3333333333333333,\"#9c179e\"],[0.4444444444444444,\"#bd3786\"],[0.5555555555555556,\"#d8576b\"],[0.6666666666666666,\"#ed7953\"],[0.7777777777777778,\"#fb9f3a\"],[0.8888888888888888,\"#fdca26\"],[1.0,\"#f0f921\"]],\"type\":\"histogram2dcontour\"}],\"mesh3d\":[{\"colorbar\":{\"outlinewidth\":0,\"ticks\":\"\"},\"type\":\"mesh3d\"}],\"parcoords\":[{\"line\":{\"colorbar\":{\"outlinewidth\":0,\"ticks\":\"\"}},\"type\":\"parcoords\"}],\"pie\":[{\"automargin\":true,\"type\":\"pie\"}],\"scatter\":[{\"marker\":{\"colorbar\":{\"outlinewidth\":0,\"ticks\":\"\"}},\"type\":\"scatter\"}],\"scatter3d\":[{\"line\":{\"colorbar\":{\"outlinewidth\":0,\"ticks\":\"\"}},\"marker\":{\"colorbar\":{\"outlinewidth\":0,\"ticks\":\"\"}},\"type\":\"scatter3d\"}],\"scattercarpet\":[{\"marker\":{\"colorbar\":{\"outlinewidth\":0,\"ticks\":\"\"}},\"type\":\"scattercarpet\"}],\"scattergeo\":[{\"marker\":{\"colorbar\":{\"outlinewidth\":0,\"ticks\":\"\"}},\"type\":\"scattergeo\"}],\"scattergl\":[{\"marker\":{\"colorbar\":{\"outlinewidth\":0,\"ticks\":\"\"}},\"type\":\"scattergl\"}],\"scattermapbox\":[{\"marker\":{\"colorbar\":{\"outlinewidth\":0,\"ticks\":\"\"}},\"type\":\"scattermapbox\"}],\"scatterpolar\":[{\"marker\":{\"colorbar\":{\"outlinewidth\":0,\"ticks\":\"\"}},\"type\":\"scatterpolar\"}],\"scatterpolargl\":[{\"marker\":{\"colorbar\":{\"outlinewidth\":0,\"ticks\":\"\"}},\"type\":\"scatterpolargl\"}],\"scatterternary\":[{\"marker\":{\"colorbar\":{\"outlinewidth\":0,\"ticks\":\"\"}},\"type\":\"scatterternary\"}],\"surface\":[{\"colorbar\":{\"outlinewidth\":0,\"ticks\":\"\"},\"colorscale\":[[0.0,\"#0d0887\"],[0.1111111111111111,\"#46039f\"],[0.2222222222222222,\"#7201a8\"],[0.3333333333333333,\"#9c179e\"],[0.4444444444444444,\"#bd3786\"],[0.5555555555555556,\"#d8576b\"],[0.6666666666666666,\"#ed7953\"],[0.7777777777777778,\"#fb9f3a\"],[0.8888888888888888,\"#fdca26\"],[1.0,\"#f0f921\"]],\"type\":\"surface\"}],\"table\":[{\"cells\":{\"fill\":{\"color\":\"#EBF0F8\"},\"line\":{\"color\":\"white\"}},\"header\":{\"fill\":{\"color\":\"#C8D4E3\"},\"line\":{\"color\":\"white\"}},\"type\":\"table\"}]},\"layout\":{\"annotationdefaults\":{\"arrowcolor\":\"#2a3f5f\",\"arrowhead\":0,\"arrowwidth\":1},\"autotypenumbers\":\"strict\",\"coloraxis\":{\"colorbar\":{\"outlinewidth\":0,\"ticks\":\"\"}},\"colorscale\":{\"diverging\":[[0,\"#8e0152\"],[0.1,\"#c51b7d\"],[0.2,\"#de77ae\"],[0.3,\"#f1b6da\"],[0.4,\"#fde0ef\"],[0.5,\"#f7f7f7\"],[0.6,\"#e6f5d0\"],[0.7,\"#b8e186\"],[0.8,\"#7fbc41\"],[0.9,\"#4d9221\"],[1,\"#276419\"]],\"sequential\":[[0.0,\"#0d0887\"],[0.1111111111111111,\"#46039f\"],[0.2222222222222222,\"#7201a8\"],[0.3333333333333333,\"#9c179e\"],[0.4444444444444444,\"#bd3786\"],[0.5555555555555556,\"#d8576b\"],[0.6666666666666666,\"#ed7953\"],[0.7777777777777778,\"#fb9f3a\"],[0.8888888888888888,\"#fdca26\"],[1.0,\"#f0f921\"]],\"sequentialminus\":[[0.0,\"#0d0887\"],[0.1111111111111111,\"#46039f\"],[0.2222222222222222,\"#7201a8\"],[0.3333333333333333,\"#9c179e\"],[0.4444444444444444,\"#bd3786\"],[0.5555555555555556,\"#d8576b\"],[0.6666666666666666,\"#ed7953\"],[0.7777777777777778,\"#fb9f3a\"],[0.8888888888888888,\"#fdca26\"],[1.0,\"#f0f921\"]]},\"colorway\":[\"#636efa\",\"#EF553B\",\"#00cc96\",\"#ab63fa\",\"#FFA15A\",\"#19d3f3\",\"#FF6692\",\"#B6E880\",\"#FF97FF\",\"#FECB52\"],\"font\":{\"color\":\"#2a3f5f\"},\"geo\":{\"bgcolor\":\"white\",\"lakecolor\":\"white\",\"landcolor\":\"#E5ECF6\",\"showlakes\":true,\"showland\":true,\"subunitcolor\":\"white\"},\"hoverlabel\":{\"align\":\"left\"},\"hovermode\":\"closest\",\"mapbox\":{\"style\":\"light\"},\"paper_bgcolor\":\"white\",\"plot_bgcolor\":\"#E5ECF6\",\"polar\":{\"angularaxis\":{\"gridcolor\":\"white\",\"linecolor\":\"white\",\"ticks\":\"\"},\"bgcolor\":\"#E5ECF6\",\"radialaxis\":{\"gridcolor\":\"white\",\"linecolor\":\"white\",\"ticks\":\"\"}},\"scene\":{\"xaxis\":{\"backgroundcolor\":\"#E5ECF6\",\"gridcolor\":\"white\",\"gridwidth\":2,\"linecolor\":\"white\",\"showbackground\":true,\"ticks\":\"\",\"zerolinecolor\":\"white\"},\"yaxis\":{\"backgroundcolor\":\"#E5ECF6\",\"gridcolor\":\"white\",\"gridwidth\":2,\"linecolor\":\"white\",\"showbackground\":true,\"ticks\":\"\",\"zerolinecolor\":\"white\"},\"zaxis\":{\"backgroundcolor\":\"#E5ECF6\",\"gridcolor\":\"white\",\"gridwidth\":2,\"linecolor\":\"white\",\"showbackground\":true,\"ticks\":\"\",\"zerolinecolor\":\"white\"}},\"shapedefaults\":{\"line\":{\"color\":\"#2a3f5f\"}},\"ternary\":{\"aaxis\":{\"gridcolor\":\"white\",\"linecolor\":\"white\",\"ticks\":\"\"},\"baxis\":{\"gridcolor\":\"white\",\"linecolor\":\"white\",\"ticks\":\"\"},\"bgcolor\":\"#E5ECF6\",\"caxis\":{\"gridcolor\":\"white\",\"linecolor\":\"white\",\"ticks\":\"\"}},\"title\":{\"x\":0.05},\"xaxis\":{\"automargin\":true,\"gridcolor\":\"white\",\"linecolor\":\"white\",\"ticks\":\"\",\"title\":{\"standoff\":15},\"zerolinecolor\":\"white\",\"zerolinewidth\":2},\"yaxis\":{\"automargin\":true,\"gridcolor\":\"white\",\"linecolor\":\"white\",\"ticks\":\"\",\"title\":{\"standoff\":15},\"zerolinecolor\":\"white\",\"zerolinewidth\":2}}},\"xaxis\":{\"anchor\":\"y\",\"domain\":[0.0,1.0],\"title\":{\"text\":\"DEPARTAMENTO\"}},\"yaxis\":{\"anchor\":\"x\",\"domain\":[0.0,1.0],\"title\":{\"text\":\"CANTIDAD\"}},\"legend\":{\"title\":{\"text\":\"ARMAS MEDIOS\"},\"tracegroupgap\":0},\"title\":{\"text\":\"NUMERO DE CASOS POR D\\u00cdA EN LOS 5 DEPARTAMENTOS CON M\\u00c1S VIOLENCIA INTRAFAMILIAR\"},\"barmode\":\"group\",\"height\":600,\"width\":1400},                        {\"responsive\": true}                    ).then(function(){\n",
              "                            \n",
              "var gd = document.getElementById('e58d42ca-5bc4-44ae-a3aa-a70d5e94c7d8');\n",
              "var x = new MutationObserver(function (mutations, observer) {{\n",
              "        var display = window.getComputedStyle(gd).display;\n",
              "        if (!display || display === 'none') {{\n",
              "            console.log([gd, 'removed!']);\n",
              "            Plotly.purge(gd);\n",
              "            observer.disconnect();\n",
              "        }}\n",
              "}});\n",
              "\n",
              "// Listen for the removal of the full notebook cells\n",
              "var notebookContainer = gd.closest('#notebook-container');\n",
              "if (notebookContainer) {{\n",
              "    x.observe(notebookContainer, {childList: true});\n",
              "}}\n",
              "\n",
              "// Listen for the clearing of the current output cell\n",
              "var outputEl = gd.closest('.output');\n",
              "if (outputEl) {{\n",
              "    x.observe(outputEl, {childList: true});\n",
              "}}\n",
              "\n",
              "                        })                };                            </script>        </div>\n",
              "</body>\n",
              "</html>"
            ]
          },
          "metadata": {},
          "output_type": "display_data"
        }
      ],
      "source": [
        "df_grp7 = df.groupby(['DEPARTAMENTO','ARMAS MEDIOS'])['CANTIDAD'].sum().reset_index()\n",
        "df_grp7= df_grp7[(df_grp7['DEPARTAMENTO']=='CUNDINAMARCA') | (df_grp7['DEPARTAMENTO']=='ANTIOQUIA') | (df_grp7['DEPARTAMENTO']=='VALLE') | (df_grp7['DEPARTAMENTO']=='SANTANDER')| (df_grp7['DEPARTAMENTO']=='BOYACÁ')]\n",
        "df_grp7 = df_grp7.sort_values(['DEPARTAMENTO','CANTIDAD'],ascending=False).groupby(['DEPARTAMENTO', 'ARMAS MEDIOS']).head(5)\n",
        "fig = px.bar(df_grp7.sort_values(by='CANTIDAD', ascending=False), x=\"DEPARTAMENTO\", y='CANTIDAD',color=\"ARMAS MEDIOS\", \n",
        "             title=\"NUMERO DE CASOS POR DÍA EN LOS 5 DEPARTAMENTOS CON MÁS VIOLENCIA INTRAFAMILIAR\",\n",
        "             height =600,width =1400, barmode = 'group',\n",
        "            color_discrete_map={\"NO REPORTADO\": \"#839192\", \n",
        "                                \"SIN EMPLEO DE ARMAS\": \"#273746\", \n",
        "                                \"CONTUNDENTES\": \"#28B463\",\n",
        "                                \"ARMA BLANCA / CORTOPUNZANTE\": \"#F1C40F\", \n",
        "                                \"ESCOPOLAMINA\": \"#138D75\", \n",
        "                                \"NO REPORTA\": \"#3498DB\", \n",
        "                                \"ARMA DE FUEGO\": \"red\", \n",
        "                                \"CORTANTES\": \"yellow\", \n",
        "                                \"CORTOPUNZANTES\": \"#2E86C1\", \n",
        "                                \"PUNZANTES\": \"#8E44AD\", \n",
        "                               })\n",
        "fig.show()"
      ]
    },
    {
      "cell_type": "code",
      "execution_count": 121,
      "id": "3765b0cc-c46b-40c8-a8f6-ca2d9069829f",
      "metadata": {
        "colab": {
          "base_uri": "https://localhost:8080/",
          "height": 757
        },
        "id": "3765b0cc-c46b-40c8-a8f6-ca2d9069829f",
        "outputId": "5cd1c573-a066-4e75-b995-09f7539ce028"
      },
      "outputs": [
        {
          "data": {
            "text/html": [
              "<html>\n",
              "<head><meta charset=\"utf-8\" /></head>\n",
              "<body>\n",
              "    <div>            <script src=\"https://cdnjs.cloudflare.com/ajax/libs/mathjax/2.7.5/MathJax.js?config=TeX-AMS-MML_SVG\"></script><script type=\"text/javascript\">if (window.MathJax) {MathJax.Hub.Config({SVG: {font: \"STIX-Web\"}});}</script>                <script type=\"text/javascript\">window.PlotlyConfig = {MathJaxConfig: 'local'};</script>\n",
              "        <script src=\"https://cdn.plot.ly/plotly-2.8.3.min.js\"></script>                <div id=\"e8f416a2-d04a-45a0-af15-84bf0d5c0bac\" class=\"plotly-graph-div\" style=\"height:720px; width:1024px;\"></div>            <script type=\"text/javascript\">                                    window.PLOTLYENV=window.PLOTLYENV || {};                                    if (document.getElementById(\"e8f416a2-d04a-45a0-af15-84bf0d5c0bac\")) {                    Plotly.newPlot(                        \"e8f416a2-d04a-45a0-af15-84bf0d5c0bac\",                        [{\"alignmentgroup\":\"True\",\"hovertemplate\":\"GENERO=FEMENINO<br>DEPARTAMENTO=%{x}<br>CANTIDAD=%{y}<extra></extra>\",\"legendgroup\":\"FEMENINO\",\"marker\":{\"color\":\"fuchsia\",\"pattern\":{\"shape\":\"\"}},\"name\":\"FEMENINO\",\"offsetgroup\":\"FEMENINO\",\"orientation\":\"v\",\"showlegend\":true,\"textposition\":\"auto\",\"x\":[\"CUNDINAMARCA\",\"VALLE\",\"SANTANDER\",\"ANTIOQUIA\",\"ATL\\u00c1NTICO\",\"NORTE DE SANTANDER\",\"BOL\\u00cdVAR\",\"META\",\"HUILA\",\"CAUCA\",\"TOLIMA\",\"CESAR\",\"BOYAC\\u00c1\",\"NARI\\u00d1O\",\"MAGDALENA\",\"RISARALDA\",\"GUAJIRA\",\"SUCRE\",\"QUIND\\u00cdO\",\"CALDAS\",\"CASANARE\",\"C\\u00d3RDOBA\",\"CAQUET\\u00c1\",\"CHOC\\u00d3\",\"ARAUCA\",\"SAN ANDR\\u00c9S\",\"GUAVIARE\",\"PUTUMAYO\",\"VICHADA\",\"AMAZONAS\"],\"xaxis\":\"x\",\"y\":[346,298,176,173,127,112,81,70,63,57,57,55,48,45,37,36,35,33,32,27,25,24,24,16,14,9,7,6,1,1],\"yaxis\":\"y\",\"type\":\"bar\"},{\"alignmentgroup\":\"True\",\"hovertemplate\":\"GENERO=MASCULINO<br>DEPARTAMENTO=%{x}<br>CANTIDAD=%{y}<extra></extra>\",\"legendgroup\":\"MASCULINO\",\"marker\":{\"color\":\"blue\",\"pattern\":{\"shape\":\"\"}},\"name\":\"MASCULINO\",\"offsetgroup\":\"MASCULINO\",\"orientation\":\"v\",\"showlegend\":true,\"textposition\":\"auto\",\"x\":[\"VALLE\",\"CUNDINAMARCA\",\"ANTIOQUIA\",\"SANTANDER\",\"ATL\\u00c1NTICO\",\"NORTE DE SANTANDER\",\"HUILA\",\"TOLIMA\",\"BOL\\u00cdVAR\",\"META\",\"RISARALDA\",\"BOYAC\\u00c1\",\"CAUCA\",\"GUAJIRA\",\"CESAR\",\"SUCRE\",\"CALDAS\",\"CASANARE\",\"MAGDALENA\",\"NARI\\u00d1O\",\"QUIND\\u00cdO\",\"CHOC\\u00d3\",\"CAQUET\\u00c1\",\"PUTUMAYO\",\"C\\u00d3RDOBA\",\"GUAVIARE\",\"SAN ANDR\\u00c9S\",\"ARAUCA\",\"VICHADA\"],\"xaxis\":\"x\",\"y\":[60,57,40,34,27,21,14,14,13,11,10,10,10,8,7,6,5,5,5,4,3,3,2,2,2,2,1,1,1],\"yaxis\":\"y\",\"type\":\"bar\"}],                        {\"template\":{\"data\":{\"bar\":[{\"error_x\":{\"color\":\"#2a3f5f\"},\"error_y\":{\"color\":\"#2a3f5f\"},\"marker\":{\"line\":{\"color\":\"#E5ECF6\",\"width\":0.5},\"pattern\":{\"fillmode\":\"overlay\",\"size\":10,\"solidity\":0.2}},\"type\":\"bar\"}],\"barpolar\":[{\"marker\":{\"line\":{\"color\":\"#E5ECF6\",\"width\":0.5},\"pattern\":{\"fillmode\":\"overlay\",\"size\":10,\"solidity\":0.2}},\"type\":\"barpolar\"}],\"carpet\":[{\"aaxis\":{\"endlinecolor\":\"#2a3f5f\",\"gridcolor\":\"white\",\"linecolor\":\"white\",\"minorgridcolor\":\"white\",\"startlinecolor\":\"#2a3f5f\"},\"baxis\":{\"endlinecolor\":\"#2a3f5f\",\"gridcolor\":\"white\",\"linecolor\":\"white\",\"minorgridcolor\":\"white\",\"startlinecolor\":\"#2a3f5f\"},\"type\":\"carpet\"}],\"choropleth\":[{\"colorbar\":{\"outlinewidth\":0,\"ticks\":\"\"},\"type\":\"choropleth\"}],\"contour\":[{\"colorbar\":{\"outlinewidth\":0,\"ticks\":\"\"},\"colorscale\":[[0.0,\"#0d0887\"],[0.1111111111111111,\"#46039f\"],[0.2222222222222222,\"#7201a8\"],[0.3333333333333333,\"#9c179e\"],[0.4444444444444444,\"#bd3786\"],[0.5555555555555556,\"#d8576b\"],[0.6666666666666666,\"#ed7953\"],[0.7777777777777778,\"#fb9f3a\"],[0.8888888888888888,\"#fdca26\"],[1.0,\"#f0f921\"]],\"type\":\"contour\"}],\"contourcarpet\":[{\"colorbar\":{\"outlinewidth\":0,\"ticks\":\"\"},\"type\":\"contourcarpet\"}],\"heatmap\":[{\"colorbar\":{\"outlinewidth\":0,\"ticks\":\"\"},\"colorscale\":[[0.0,\"#0d0887\"],[0.1111111111111111,\"#46039f\"],[0.2222222222222222,\"#7201a8\"],[0.3333333333333333,\"#9c179e\"],[0.4444444444444444,\"#bd3786\"],[0.5555555555555556,\"#d8576b\"],[0.6666666666666666,\"#ed7953\"],[0.7777777777777778,\"#fb9f3a\"],[0.8888888888888888,\"#fdca26\"],[1.0,\"#f0f921\"]],\"type\":\"heatmap\"}],\"heatmapgl\":[{\"colorbar\":{\"outlinewidth\":0,\"ticks\":\"\"},\"colorscale\":[[0.0,\"#0d0887\"],[0.1111111111111111,\"#46039f\"],[0.2222222222222222,\"#7201a8\"],[0.3333333333333333,\"#9c179e\"],[0.4444444444444444,\"#bd3786\"],[0.5555555555555556,\"#d8576b\"],[0.6666666666666666,\"#ed7953\"],[0.7777777777777778,\"#fb9f3a\"],[0.8888888888888888,\"#fdca26\"],[1.0,\"#f0f921\"]],\"type\":\"heatmapgl\"}],\"histogram\":[{\"marker\":{\"pattern\":{\"fillmode\":\"overlay\",\"size\":10,\"solidity\":0.2}},\"type\":\"histogram\"}],\"histogram2d\":[{\"colorbar\":{\"outlinewidth\":0,\"ticks\":\"\"},\"colorscale\":[[0.0,\"#0d0887\"],[0.1111111111111111,\"#46039f\"],[0.2222222222222222,\"#7201a8\"],[0.3333333333333333,\"#9c179e\"],[0.4444444444444444,\"#bd3786\"],[0.5555555555555556,\"#d8576b\"],[0.6666666666666666,\"#ed7953\"],[0.7777777777777778,\"#fb9f3a\"],[0.8888888888888888,\"#fdca26\"],[1.0,\"#f0f921\"]],\"type\":\"histogram2d\"}],\"histogram2dcontour\":[{\"colorbar\":{\"outlinewidth\":0,\"ticks\":\"\"},\"colorscale\":[[0.0,\"#0d0887\"],[0.1111111111111111,\"#46039f\"],[0.2222222222222222,\"#7201a8\"],[0.3333333333333333,\"#9c179e\"],[0.4444444444444444,\"#bd3786\"],[0.5555555555555556,\"#d8576b\"],[0.6666666666666666,\"#ed7953\"],[0.7777777777777778,\"#fb9f3a\"],[0.8888888888888888,\"#fdca26\"],[1.0,\"#f0f921\"]],\"type\":\"histogram2dcontour\"}],\"mesh3d\":[{\"colorbar\":{\"outlinewidth\":0,\"ticks\":\"\"},\"type\":\"mesh3d\"}],\"parcoords\":[{\"line\":{\"colorbar\":{\"outlinewidth\":0,\"ticks\":\"\"}},\"type\":\"parcoords\"}],\"pie\":[{\"automargin\":true,\"type\":\"pie\"}],\"scatter\":[{\"marker\":{\"colorbar\":{\"outlinewidth\":0,\"ticks\":\"\"}},\"type\":\"scatter\"}],\"scatter3d\":[{\"line\":{\"colorbar\":{\"outlinewidth\":0,\"ticks\":\"\"}},\"marker\":{\"colorbar\":{\"outlinewidth\":0,\"ticks\":\"\"}},\"type\":\"scatter3d\"}],\"scattercarpet\":[{\"marker\":{\"colorbar\":{\"outlinewidth\":0,\"ticks\":\"\"}},\"type\":\"scattercarpet\"}],\"scattergeo\":[{\"marker\":{\"colorbar\":{\"outlinewidth\":0,\"ticks\":\"\"}},\"type\":\"scattergeo\"}],\"scattergl\":[{\"marker\":{\"colorbar\":{\"outlinewidth\":0,\"ticks\":\"\"}},\"type\":\"scattergl\"}],\"scattermapbox\":[{\"marker\":{\"colorbar\":{\"outlinewidth\":0,\"ticks\":\"\"}},\"type\":\"scattermapbox\"}],\"scatterpolar\":[{\"marker\":{\"colorbar\":{\"outlinewidth\":0,\"ticks\":\"\"}},\"type\":\"scatterpolar\"}],\"scatterpolargl\":[{\"marker\":{\"colorbar\":{\"outlinewidth\":0,\"ticks\":\"\"}},\"type\":\"scatterpolargl\"}],\"scatterternary\":[{\"marker\":{\"colorbar\":{\"outlinewidth\":0,\"ticks\":\"\"}},\"type\":\"scatterternary\"}],\"surface\":[{\"colorbar\":{\"outlinewidth\":0,\"ticks\":\"\"},\"colorscale\":[[0.0,\"#0d0887\"],[0.1111111111111111,\"#46039f\"],[0.2222222222222222,\"#7201a8\"],[0.3333333333333333,\"#9c179e\"],[0.4444444444444444,\"#bd3786\"],[0.5555555555555556,\"#d8576b\"],[0.6666666666666666,\"#ed7953\"],[0.7777777777777778,\"#fb9f3a\"],[0.8888888888888888,\"#fdca26\"],[1.0,\"#f0f921\"]],\"type\":\"surface\"}],\"table\":[{\"cells\":{\"fill\":{\"color\":\"#EBF0F8\"},\"line\":{\"color\":\"white\"}},\"header\":{\"fill\":{\"color\":\"#C8D4E3\"},\"line\":{\"color\":\"white\"}},\"type\":\"table\"}]},\"layout\":{\"annotationdefaults\":{\"arrowcolor\":\"#2a3f5f\",\"arrowhead\":0,\"arrowwidth\":1},\"autotypenumbers\":\"strict\",\"coloraxis\":{\"colorbar\":{\"outlinewidth\":0,\"ticks\":\"\"}},\"colorscale\":{\"diverging\":[[0,\"#8e0152\"],[0.1,\"#c51b7d\"],[0.2,\"#de77ae\"],[0.3,\"#f1b6da\"],[0.4,\"#fde0ef\"],[0.5,\"#f7f7f7\"],[0.6,\"#e6f5d0\"],[0.7,\"#b8e186\"],[0.8,\"#7fbc41\"],[0.9,\"#4d9221\"],[1,\"#276419\"]],\"sequential\":[[0.0,\"#0d0887\"],[0.1111111111111111,\"#46039f\"],[0.2222222222222222,\"#7201a8\"],[0.3333333333333333,\"#9c179e\"],[0.4444444444444444,\"#bd3786\"],[0.5555555555555556,\"#d8576b\"],[0.6666666666666666,\"#ed7953\"],[0.7777777777777778,\"#fb9f3a\"],[0.8888888888888888,\"#fdca26\"],[1.0,\"#f0f921\"]],\"sequentialminus\":[[0.0,\"#0d0887\"],[0.1111111111111111,\"#46039f\"],[0.2222222222222222,\"#7201a8\"],[0.3333333333333333,\"#9c179e\"],[0.4444444444444444,\"#bd3786\"],[0.5555555555555556,\"#d8576b\"],[0.6666666666666666,\"#ed7953\"],[0.7777777777777778,\"#fb9f3a\"],[0.8888888888888888,\"#fdca26\"],[1.0,\"#f0f921\"]]},\"colorway\":[\"#636efa\",\"#EF553B\",\"#00cc96\",\"#ab63fa\",\"#FFA15A\",\"#19d3f3\",\"#FF6692\",\"#B6E880\",\"#FF97FF\",\"#FECB52\"],\"font\":{\"color\":\"#2a3f5f\"},\"geo\":{\"bgcolor\":\"white\",\"lakecolor\":\"white\",\"landcolor\":\"#E5ECF6\",\"showlakes\":true,\"showland\":true,\"subunitcolor\":\"white\"},\"hoverlabel\":{\"align\":\"left\"},\"hovermode\":\"closest\",\"mapbox\":{\"style\":\"light\"},\"paper_bgcolor\":\"white\",\"plot_bgcolor\":\"#E5ECF6\",\"polar\":{\"angularaxis\":{\"gridcolor\":\"white\",\"linecolor\":\"white\",\"ticks\":\"\"},\"bgcolor\":\"#E5ECF6\",\"radialaxis\":{\"gridcolor\":\"white\",\"linecolor\":\"white\",\"ticks\":\"\"}},\"scene\":{\"xaxis\":{\"backgroundcolor\":\"#E5ECF6\",\"gridcolor\":\"white\",\"gridwidth\":2,\"linecolor\":\"white\",\"showbackground\":true,\"ticks\":\"\",\"zerolinecolor\":\"white\"},\"yaxis\":{\"backgroundcolor\":\"#E5ECF6\",\"gridcolor\":\"white\",\"gridwidth\":2,\"linecolor\":\"white\",\"showbackground\":true,\"ticks\":\"\",\"zerolinecolor\":\"white\"},\"zaxis\":{\"backgroundcolor\":\"#E5ECF6\",\"gridcolor\":\"white\",\"gridwidth\":2,\"linecolor\":\"white\",\"showbackground\":true,\"ticks\":\"\",\"zerolinecolor\":\"white\"}},\"shapedefaults\":{\"line\":{\"color\":\"#2a3f5f\"}},\"ternary\":{\"aaxis\":{\"gridcolor\":\"white\",\"linecolor\":\"white\",\"ticks\":\"\"},\"baxis\":{\"gridcolor\":\"white\",\"linecolor\":\"white\",\"ticks\":\"\"},\"bgcolor\":\"#E5ECF6\",\"caxis\":{\"gridcolor\":\"white\",\"linecolor\":\"white\",\"ticks\":\"\"}},\"title\":{\"x\":0.05},\"xaxis\":{\"automargin\":true,\"gridcolor\":\"white\",\"linecolor\":\"white\",\"ticks\":\"\",\"title\":{\"standoff\":15},\"zerolinecolor\":\"white\",\"zerolinewidth\":2},\"yaxis\":{\"automargin\":true,\"gridcolor\":\"white\",\"linecolor\":\"white\",\"ticks\":\"\",\"title\":{\"standoff\":15},\"zerolinecolor\":\"white\",\"zerolinewidth\":2}}},\"xaxis\":{\"anchor\":\"y\",\"domain\":[0.0,1.0],\"title\":{\"text\":\"DEPARTAMENTO\"},\"tickangle\":-90},\"yaxis\":{\"anchor\":\"x\",\"domain\":[0.0,1.0],\"title\":{\"text\":\"CANTIDAD\"}},\"legend\":{\"title\":{\"text\":\"GENERO\"},\"tracegroupgap\":0},\"title\":{\"text\":\"DEPARTAMENTOS CON MAYOR USO DE ARMAS DE FUEGO POR GENERO\"},\"barmode\":\"relative\",\"height\":720,\"width\":1024},                        {\"responsive\": true}                    ).then(function(){\n",
              "                            \n",
              "var gd = document.getElementById('e8f416a2-d04a-45a0-af15-84bf0d5c0bac');\n",
              "var x = new MutationObserver(function (mutations, observer) {{\n",
              "        var display = window.getComputedStyle(gd).display;\n",
              "        if (!display || display === 'none') {{\n",
              "            console.log([gd, 'removed!']);\n",
              "            Plotly.purge(gd);\n",
              "            observer.disconnect();\n",
              "        }}\n",
              "}});\n",
              "\n",
              "// Listen for the removal of the full notebook cells\n",
              "var notebookContainer = gd.closest('#notebook-container');\n",
              "if (notebookContainer) {{\n",
              "    x.observe(notebookContainer, {childList: true});\n",
              "}}\n",
              "\n",
              "// Listen for the clearing of the current output cell\n",
              "var outputEl = gd.closest('.output');\n",
              "if (outputEl) {{\n",
              "    x.observe(outputEl, {childList: true});\n",
              "}}\n",
              "\n",
              "                        })                };                            </script>        </div>\n",
              "</body>\n",
              "</html>"
            ]
          },
          "metadata": {},
          "output_type": "display_data"
        }
      ],
      "source": [
        "df_grp8 = df.groupby(['DEPARTAMENTO','ARMAS MEDIOS','GENERO'])['CANTIDAD'].sum().reset_index()\n",
        "df_grp8= df_grp8[(df_grp8['ARMAS MEDIOS']=='ARMA DE FUEGO')]\n",
        "fig = px.bar(df_grp8.sort_values(by='CANTIDAD', ascending=False), x=\"DEPARTAMENTO\", y=\"CANTIDAD\",color=\"GENERO\", title=\"DEPARTAMENTOS CON MAYOR USO DE ARMAS DE FUEGO POR GENERO\",\n",
        "             height =720, width =1024,\n",
        "            color_discrete_map={\"FEMENINO\": \"fuchsia\", \n",
        "                                \"MASCULINO\": \"blue\", \n",
        "                               })\n",
        "fig.update_xaxes(tickangle=-90)\n",
        "fig.show()"
      ]
    },
    {
      "cell_type": "code",
      "execution_count": 122,
      "id": "tZXNlqLPEHIn",
      "metadata": {
        "colab": {
          "base_uri": "https://localhost:8080/",
          "height": 837
        },
        "id": "tZXNlqLPEHIn",
        "outputId": "9566ecba-2261-4adf-e51a-ad4a6a820c2d"
      },
      "outputs": [
        {
          "data": {
            "text/html": [
              "<html>\n",
              "<head><meta charset=\"utf-8\" /></head>\n",
              "<body>\n",
              "    <div>            <script src=\"https://cdnjs.cloudflare.com/ajax/libs/mathjax/2.7.5/MathJax.js?config=TeX-AMS-MML_SVG\"></script><script type=\"text/javascript\">if (window.MathJax) {MathJax.Hub.Config({SVG: {font: \"STIX-Web\"}});}</script>                <script type=\"text/javascript\">window.PlotlyConfig = {MathJaxConfig: 'local'};</script>\n",
              "        <script src=\"https://cdn.plot.ly/plotly-2.8.3.min.js\"></script>                <div id=\"10ecd287-0d26-47fc-b393-982d9db6ddac\" class=\"plotly-graph-div\" style=\"height:800px; width:1400px;\"></div>            <script type=\"text/javascript\">                                    window.PLOTLYENV=window.PLOTLYENV || {};                                    if (document.getElementById(\"10ecd287-0d26-47fc-b393-982d9db6ddac\")) {                    Plotly.newPlot(                        \"10ecd287-0d26-47fc-b393-982d9db6ddac\",                        [{\"alignmentgroup\":\"True\",\"hovertemplate\":\"DEPARTAMENTO=CUNDINAMARCA<br>GRUPO ETARIO=%{x}<br>CANTIDAD=%{y}<extra></extra>\",\"legendgroup\":\"CUNDINAMARCA\",\"marker\":{\"color\":\"#636efa\",\"pattern\":{\"shape\":\"\"}},\"name\":\"CUNDINAMARCA\",\"offsetgroup\":\"CUNDINAMARCA\",\"orientation\":\"v\",\"showlegend\":true,\"textposition\":\"auto\",\"x\":[\"ADULTOS\",\"MENORES\",\"ADOLESCENTES\"],\"xaxis\":\"x\",\"y\":[111400,18028,11864],\"yaxis\":\"y\",\"type\":\"bar\"},{\"alignmentgroup\":\"True\",\"hovertemplate\":\"DEPARTAMENTO=ANTIOQUIA<br>GRUPO ETARIO=%{x}<br>CANTIDAD=%{y}<extra></extra>\",\"legendgroup\":\"ANTIOQUIA\",\"marker\":{\"color\":\"#EF553B\",\"pattern\":{\"shape\":\"\"}},\"name\":\"ANTIOQUIA\",\"offsetgroup\":\"ANTIOQUIA\",\"orientation\":\"v\",\"showlegend\":true,\"textposition\":\"auto\",\"x\":[\"ADULTOS\",\"ADOLESCENTES\",\"MENORES\"],\"xaxis\":\"x\",\"y\":[72848,3328,3049],\"yaxis\":\"y\",\"type\":\"bar\"},{\"alignmentgroup\":\"True\",\"hovertemplate\":\"DEPARTAMENTO=VALLE<br>GRUPO ETARIO=%{x}<br>CANTIDAD=%{y}<extra></extra>\",\"legendgroup\":\"VALLE\",\"marker\":{\"color\":\"#00cc96\",\"pattern\":{\"shape\":\"\"}},\"name\":\"VALLE\",\"offsetgroup\":\"VALLE\",\"orientation\":\"v\",\"showlegend\":true,\"textposition\":\"auto\",\"x\":[\"ADULTOS\",\"MENORES\",\"ADOLESCENTES\"],\"xaxis\":\"x\",\"y\":[63463,3404,2902],\"yaxis\":\"y\",\"type\":\"bar\"},{\"alignmentgroup\":\"True\",\"hovertemplate\":\"DEPARTAMENTO=SANTANDER<br>GRUPO ETARIO=%{x}<br>CANTIDAD=%{y}<extra></extra>\",\"legendgroup\":\"SANTANDER\",\"marker\":{\"color\":\"#ab63fa\",\"pattern\":{\"shape\":\"\"}},\"name\":\"SANTANDER\",\"offsetgroup\":\"SANTANDER\",\"orientation\":\"v\",\"showlegend\":true,\"textposition\":\"auto\",\"x\":[\"ADULTOS\",\"ADOLESCENTES\",\"MENORES\"],\"xaxis\":\"x\",\"y\":[51596,2024,1603],\"yaxis\":\"y\",\"type\":\"bar\"},{\"alignmentgroup\":\"True\",\"hovertemplate\":\"DEPARTAMENTO=BOYAC\\u00c1<br>GRUPO ETARIO=%{x}<br>CANTIDAD=%{y}<extra></extra>\",\"legendgroup\":\"BOYAC\\u00c1\",\"marker\":{\"color\":\"#FFA15A\",\"pattern\":{\"shape\":\"\"}},\"name\":\"BOYAC\\u00c1\",\"offsetgroup\":\"BOYAC\\u00c1\",\"orientation\":\"v\",\"showlegend\":true,\"textposition\":\"auto\",\"x\":[\"ADULTOS\",\"ADOLESCENTES\",\"MENORES\"],\"xaxis\":\"x\",\"y\":[31254,1358,1143],\"yaxis\":\"y\",\"type\":\"bar\"}],                        {\"template\":{\"data\":{\"bar\":[{\"error_x\":{\"color\":\"#2a3f5f\"},\"error_y\":{\"color\":\"#2a3f5f\"},\"marker\":{\"line\":{\"color\":\"#E5ECF6\",\"width\":0.5},\"pattern\":{\"fillmode\":\"overlay\",\"size\":10,\"solidity\":0.2}},\"type\":\"bar\"}],\"barpolar\":[{\"marker\":{\"line\":{\"color\":\"#E5ECF6\",\"width\":0.5},\"pattern\":{\"fillmode\":\"overlay\",\"size\":10,\"solidity\":0.2}},\"type\":\"barpolar\"}],\"carpet\":[{\"aaxis\":{\"endlinecolor\":\"#2a3f5f\",\"gridcolor\":\"white\",\"linecolor\":\"white\",\"minorgridcolor\":\"white\",\"startlinecolor\":\"#2a3f5f\"},\"baxis\":{\"endlinecolor\":\"#2a3f5f\",\"gridcolor\":\"white\",\"linecolor\":\"white\",\"minorgridcolor\":\"white\",\"startlinecolor\":\"#2a3f5f\"},\"type\":\"carpet\"}],\"choropleth\":[{\"colorbar\":{\"outlinewidth\":0,\"ticks\":\"\"},\"type\":\"choropleth\"}],\"contour\":[{\"colorbar\":{\"outlinewidth\":0,\"ticks\":\"\"},\"colorscale\":[[0.0,\"#0d0887\"],[0.1111111111111111,\"#46039f\"],[0.2222222222222222,\"#7201a8\"],[0.3333333333333333,\"#9c179e\"],[0.4444444444444444,\"#bd3786\"],[0.5555555555555556,\"#d8576b\"],[0.6666666666666666,\"#ed7953\"],[0.7777777777777778,\"#fb9f3a\"],[0.8888888888888888,\"#fdca26\"],[1.0,\"#f0f921\"]],\"type\":\"contour\"}],\"contourcarpet\":[{\"colorbar\":{\"outlinewidth\":0,\"ticks\":\"\"},\"type\":\"contourcarpet\"}],\"heatmap\":[{\"colorbar\":{\"outlinewidth\":0,\"ticks\":\"\"},\"colorscale\":[[0.0,\"#0d0887\"],[0.1111111111111111,\"#46039f\"],[0.2222222222222222,\"#7201a8\"],[0.3333333333333333,\"#9c179e\"],[0.4444444444444444,\"#bd3786\"],[0.5555555555555556,\"#d8576b\"],[0.6666666666666666,\"#ed7953\"],[0.7777777777777778,\"#fb9f3a\"],[0.8888888888888888,\"#fdca26\"],[1.0,\"#f0f921\"]],\"type\":\"heatmap\"}],\"heatmapgl\":[{\"colorbar\":{\"outlinewidth\":0,\"ticks\":\"\"},\"colorscale\":[[0.0,\"#0d0887\"],[0.1111111111111111,\"#46039f\"],[0.2222222222222222,\"#7201a8\"],[0.3333333333333333,\"#9c179e\"],[0.4444444444444444,\"#bd3786\"],[0.5555555555555556,\"#d8576b\"],[0.6666666666666666,\"#ed7953\"],[0.7777777777777778,\"#fb9f3a\"],[0.8888888888888888,\"#fdca26\"],[1.0,\"#f0f921\"]],\"type\":\"heatmapgl\"}],\"histogram\":[{\"marker\":{\"pattern\":{\"fillmode\":\"overlay\",\"size\":10,\"solidity\":0.2}},\"type\":\"histogram\"}],\"histogram2d\":[{\"colorbar\":{\"outlinewidth\":0,\"ticks\":\"\"},\"colorscale\":[[0.0,\"#0d0887\"],[0.1111111111111111,\"#46039f\"],[0.2222222222222222,\"#7201a8\"],[0.3333333333333333,\"#9c179e\"],[0.4444444444444444,\"#bd3786\"],[0.5555555555555556,\"#d8576b\"],[0.6666666666666666,\"#ed7953\"],[0.7777777777777778,\"#fb9f3a\"],[0.8888888888888888,\"#fdca26\"],[1.0,\"#f0f921\"]],\"type\":\"histogram2d\"}],\"histogram2dcontour\":[{\"colorbar\":{\"outlinewidth\":0,\"ticks\":\"\"},\"colorscale\":[[0.0,\"#0d0887\"],[0.1111111111111111,\"#46039f\"],[0.2222222222222222,\"#7201a8\"],[0.3333333333333333,\"#9c179e\"],[0.4444444444444444,\"#bd3786\"],[0.5555555555555556,\"#d8576b\"],[0.6666666666666666,\"#ed7953\"],[0.7777777777777778,\"#fb9f3a\"],[0.8888888888888888,\"#fdca26\"],[1.0,\"#f0f921\"]],\"type\":\"histogram2dcontour\"}],\"mesh3d\":[{\"colorbar\":{\"outlinewidth\":0,\"ticks\":\"\"},\"type\":\"mesh3d\"}],\"parcoords\":[{\"line\":{\"colorbar\":{\"outlinewidth\":0,\"ticks\":\"\"}},\"type\":\"parcoords\"}],\"pie\":[{\"automargin\":true,\"type\":\"pie\"}],\"scatter\":[{\"marker\":{\"colorbar\":{\"outlinewidth\":0,\"ticks\":\"\"}},\"type\":\"scatter\"}],\"scatter3d\":[{\"line\":{\"colorbar\":{\"outlinewidth\":0,\"ticks\":\"\"}},\"marker\":{\"colorbar\":{\"outlinewidth\":0,\"ticks\":\"\"}},\"type\":\"scatter3d\"}],\"scattercarpet\":[{\"marker\":{\"colorbar\":{\"outlinewidth\":0,\"ticks\":\"\"}},\"type\":\"scattercarpet\"}],\"scattergeo\":[{\"marker\":{\"colorbar\":{\"outlinewidth\":0,\"ticks\":\"\"}},\"type\":\"scattergeo\"}],\"scattergl\":[{\"marker\":{\"colorbar\":{\"outlinewidth\":0,\"ticks\":\"\"}},\"type\":\"scattergl\"}],\"scattermapbox\":[{\"marker\":{\"colorbar\":{\"outlinewidth\":0,\"ticks\":\"\"}},\"type\":\"scattermapbox\"}],\"scatterpolar\":[{\"marker\":{\"colorbar\":{\"outlinewidth\":0,\"ticks\":\"\"}},\"type\":\"scatterpolar\"}],\"scatterpolargl\":[{\"marker\":{\"colorbar\":{\"outlinewidth\":0,\"ticks\":\"\"}},\"type\":\"scatterpolargl\"}],\"scatterternary\":[{\"marker\":{\"colorbar\":{\"outlinewidth\":0,\"ticks\":\"\"}},\"type\":\"scatterternary\"}],\"surface\":[{\"colorbar\":{\"outlinewidth\":0,\"ticks\":\"\"},\"colorscale\":[[0.0,\"#0d0887\"],[0.1111111111111111,\"#46039f\"],[0.2222222222222222,\"#7201a8\"],[0.3333333333333333,\"#9c179e\"],[0.4444444444444444,\"#bd3786\"],[0.5555555555555556,\"#d8576b\"],[0.6666666666666666,\"#ed7953\"],[0.7777777777777778,\"#fb9f3a\"],[0.8888888888888888,\"#fdca26\"],[1.0,\"#f0f921\"]],\"type\":\"surface\"}],\"table\":[{\"cells\":{\"fill\":{\"color\":\"#EBF0F8\"},\"line\":{\"color\":\"white\"}},\"header\":{\"fill\":{\"color\":\"#C8D4E3\"},\"line\":{\"color\":\"white\"}},\"type\":\"table\"}]},\"layout\":{\"annotationdefaults\":{\"arrowcolor\":\"#2a3f5f\",\"arrowhead\":0,\"arrowwidth\":1},\"autotypenumbers\":\"strict\",\"coloraxis\":{\"colorbar\":{\"outlinewidth\":0,\"ticks\":\"\"}},\"colorscale\":{\"diverging\":[[0,\"#8e0152\"],[0.1,\"#c51b7d\"],[0.2,\"#de77ae\"],[0.3,\"#f1b6da\"],[0.4,\"#fde0ef\"],[0.5,\"#f7f7f7\"],[0.6,\"#e6f5d0\"],[0.7,\"#b8e186\"],[0.8,\"#7fbc41\"],[0.9,\"#4d9221\"],[1,\"#276419\"]],\"sequential\":[[0.0,\"#0d0887\"],[0.1111111111111111,\"#46039f\"],[0.2222222222222222,\"#7201a8\"],[0.3333333333333333,\"#9c179e\"],[0.4444444444444444,\"#bd3786\"],[0.5555555555555556,\"#d8576b\"],[0.6666666666666666,\"#ed7953\"],[0.7777777777777778,\"#fb9f3a\"],[0.8888888888888888,\"#fdca26\"],[1.0,\"#f0f921\"]],\"sequentialminus\":[[0.0,\"#0d0887\"],[0.1111111111111111,\"#46039f\"],[0.2222222222222222,\"#7201a8\"],[0.3333333333333333,\"#9c179e\"],[0.4444444444444444,\"#bd3786\"],[0.5555555555555556,\"#d8576b\"],[0.6666666666666666,\"#ed7953\"],[0.7777777777777778,\"#fb9f3a\"],[0.8888888888888888,\"#fdca26\"],[1.0,\"#f0f921\"]]},\"colorway\":[\"#636efa\",\"#EF553B\",\"#00cc96\",\"#ab63fa\",\"#FFA15A\",\"#19d3f3\",\"#FF6692\",\"#B6E880\",\"#FF97FF\",\"#FECB52\"],\"font\":{\"color\":\"#2a3f5f\"},\"geo\":{\"bgcolor\":\"white\",\"lakecolor\":\"white\",\"landcolor\":\"#E5ECF6\",\"showlakes\":true,\"showland\":true,\"subunitcolor\":\"white\"},\"hoverlabel\":{\"align\":\"left\"},\"hovermode\":\"closest\",\"mapbox\":{\"style\":\"light\"},\"paper_bgcolor\":\"white\",\"plot_bgcolor\":\"#E5ECF6\",\"polar\":{\"angularaxis\":{\"gridcolor\":\"white\",\"linecolor\":\"white\",\"ticks\":\"\"},\"bgcolor\":\"#E5ECF6\",\"radialaxis\":{\"gridcolor\":\"white\",\"linecolor\":\"white\",\"ticks\":\"\"}},\"scene\":{\"xaxis\":{\"backgroundcolor\":\"#E5ECF6\",\"gridcolor\":\"white\",\"gridwidth\":2,\"linecolor\":\"white\",\"showbackground\":true,\"ticks\":\"\",\"zerolinecolor\":\"white\"},\"yaxis\":{\"backgroundcolor\":\"#E5ECF6\",\"gridcolor\":\"white\",\"gridwidth\":2,\"linecolor\":\"white\",\"showbackground\":true,\"ticks\":\"\",\"zerolinecolor\":\"white\"},\"zaxis\":{\"backgroundcolor\":\"#E5ECF6\",\"gridcolor\":\"white\",\"gridwidth\":2,\"linecolor\":\"white\",\"showbackground\":true,\"ticks\":\"\",\"zerolinecolor\":\"white\"}},\"shapedefaults\":{\"line\":{\"color\":\"#2a3f5f\"}},\"ternary\":{\"aaxis\":{\"gridcolor\":\"white\",\"linecolor\":\"white\",\"ticks\":\"\"},\"baxis\":{\"gridcolor\":\"white\",\"linecolor\":\"white\",\"ticks\":\"\"},\"bgcolor\":\"#E5ECF6\",\"caxis\":{\"gridcolor\":\"white\",\"linecolor\":\"white\",\"ticks\":\"\"}},\"title\":{\"x\":0.05},\"xaxis\":{\"automargin\":true,\"gridcolor\":\"white\",\"linecolor\":\"white\",\"ticks\":\"\",\"title\":{\"standoff\":15},\"zerolinecolor\":\"white\",\"zerolinewidth\":2},\"yaxis\":{\"automargin\":true,\"gridcolor\":\"white\",\"linecolor\":\"white\",\"ticks\":\"\",\"title\":{\"standoff\":15},\"zerolinecolor\":\"white\",\"zerolinewidth\":2}}},\"xaxis\":{\"anchor\":\"y\",\"domain\":[0.0,1.0],\"title\":{\"text\":\"GRUPO ETARIO\"}},\"yaxis\":{\"anchor\":\"x\",\"domain\":[0.0,1.0],\"title\":{\"text\":\"CANTIDAD\"}},\"legend\":{\"title\":{\"text\":\"DEPARTAMENTO\"},\"tracegroupgap\":0},\"title\":{\"text\":\"CASOS POR GRUPO ETARIO - TOP 5 DEPARTAMENTOS M\\u00c1S VIOLENTOS\"},\"barmode\":\"group\",\"height\":800,\"width\":1400},                        {\"responsive\": true}                    ).then(function(){\n",
              "                            \n",
              "var gd = document.getElementById('10ecd287-0d26-47fc-b393-982d9db6ddac');\n",
              "var x = new MutationObserver(function (mutations, observer) {{\n",
              "        var display = window.getComputedStyle(gd).display;\n",
              "        if (!display || display === 'none') {{\n",
              "            console.log([gd, 'removed!']);\n",
              "            Plotly.purge(gd);\n",
              "            observer.disconnect();\n",
              "        }}\n",
              "}});\n",
              "\n",
              "// Listen for the removal of the full notebook cells\n",
              "var notebookContainer = gd.closest('#notebook-container');\n",
              "if (notebookContainer) {{\n",
              "    x.observe(notebookContainer, {childList: true});\n",
              "}}\n",
              "\n",
              "// Listen for the clearing of the current output cell\n",
              "var outputEl = gd.closest('.output');\n",
              "if (outputEl) {{\n",
              "    x.observe(outputEl, {childList: true});\n",
              "}}\n",
              "\n",
              "                        })                };                            </script>        </div>\n",
              "</body>\n",
              "</html>"
            ]
          },
          "metadata": {},
          "output_type": "display_data"
        }
      ],
      "source": [
        "df_grp9 = df.groupby(['DEPARTAMENTO', 'GRUPO ETARIO'])['CANTIDAD'].sum().reset_index()\n",
        "df_grp9= df_grp9[(df_grp9['DEPARTAMENTO']=='CUNDINAMARCA') | (df_grp9['DEPARTAMENTO']=='ANTIOQUIA') | (df_grp9['DEPARTAMENTO']=='VALLE') | (df_grp9['DEPARTAMENTO']=='SANTANDER')| (df_grp9['DEPARTAMENTO']=='BOYACÁ')]\n",
        "\n",
        "\n",
        "fig = px.bar(df_grp9.sort_values(by='CANTIDAD', ascending=False), x=\"GRUPO ETARIO\", y='CANTIDAD',color=\"DEPARTAMENTO\", title=\"CASOS POR GRUPO ETARIO - TOP 5 DEPARTAMENTOS MÁS VIOLENTOS\",height =800, width =1400, barmode = 'group')\n",
        "fig.show()"
      ]
    },
    {
      "cell_type": "code",
      "execution_count": 123,
      "id": "z0eriklkEg-b",
      "metadata": {
        "colab": {
          "base_uri": "https://localhost:8080/",
          "height": 837
        },
        "id": "z0eriklkEg-b",
        "outputId": "3f620c17-69df-4dce-b977-cee11a129691"
      },
      "outputs": [
        {
          "data": {
            "text/html": [
              "<html>\n",
              "<head><meta charset=\"utf-8\" /></head>\n",
              "<body>\n",
              "    <div>            <script src=\"https://cdnjs.cloudflare.com/ajax/libs/mathjax/2.7.5/MathJax.js?config=TeX-AMS-MML_SVG\"></script><script type=\"text/javascript\">if (window.MathJax) {MathJax.Hub.Config({SVG: {font: \"STIX-Web\"}});}</script>                <script type=\"text/javascript\">window.PlotlyConfig = {MathJaxConfig: 'local'};</script>\n",
              "        <script src=\"https://cdn.plot.ly/plotly-2.8.3.min.js\"></script>                <div id=\"264f3648-2a31-4b73-ae3d-846e4224e949\" class=\"plotly-graph-div\" style=\"height:800px; width:1400px;\"></div>            <script type=\"text/javascript\">                                    window.PLOTLYENV=window.PLOTLYENV || {};                                    if (document.getElementById(\"264f3648-2a31-4b73-ae3d-846e4224e949\")) {                    Plotly.newPlot(                        \"264f3648-2a31-4b73-ae3d-846e4224e949\",                        [{\"alignmentgroup\":\"True\",\"hovertemplate\":\"DEPARTAMENTO=CUNDINAMARCA<br>GRUPO ETARIO=%{x}<br>CANTIDAD=%{y}<extra></extra>\",\"legendgroup\":\"CUNDINAMARCA\",\"marker\":{\"color\":\"#636efa\",\"pattern\":{\"shape\":\"\"}},\"name\":\"CUNDINAMARCA\",\"offsetgroup\":\"CUNDINAMARCA\",\"orientation\":\"v\",\"showlegend\":true,\"textposition\":\"auto\",\"x\":[\"ADULTOS\",\"MENORES\",\"ADOLESCENTES\"],\"xaxis\":\"x\",\"y\":[111400,18028,11864],\"yaxis\":\"y\",\"type\":\"bar\"},{\"alignmentgroup\":\"True\",\"hovertemplate\":\"DEPARTAMENTO=ANTIOQUIA<br>GRUPO ETARIO=%{x}<br>CANTIDAD=%{y}<extra></extra>\",\"legendgroup\":\"ANTIOQUIA\",\"marker\":{\"color\":\"#EF553B\",\"pattern\":{\"shape\":\"\"}},\"name\":\"ANTIOQUIA\",\"offsetgroup\":\"ANTIOQUIA\",\"orientation\":\"v\",\"showlegend\":true,\"textposition\":\"auto\",\"x\":[\"ADULTOS\",\"ADOLESCENTES\",\"MENORES\"],\"xaxis\":\"x\",\"y\":[72848,3328,3049],\"yaxis\":\"y\",\"type\":\"bar\"},{\"alignmentgroup\":\"True\",\"hovertemplate\":\"DEPARTAMENTO=VALLE<br>GRUPO ETARIO=%{x}<br>CANTIDAD=%{y}<extra></extra>\",\"legendgroup\":\"VALLE\",\"marker\":{\"color\":\"#00cc96\",\"pattern\":{\"shape\":\"\"}},\"name\":\"VALLE\",\"offsetgroup\":\"VALLE\",\"orientation\":\"v\",\"showlegend\":true,\"textposition\":\"auto\",\"x\":[\"ADULTOS\",\"MENORES\",\"ADOLESCENTES\"],\"xaxis\":\"x\",\"y\":[63463,3404,2902],\"yaxis\":\"y\",\"type\":\"bar\"},{\"alignmentgroup\":\"True\",\"hovertemplate\":\"DEPARTAMENTO=SANTANDER<br>GRUPO ETARIO=%{x}<br>CANTIDAD=%{y}<extra></extra>\",\"legendgroup\":\"SANTANDER\",\"marker\":{\"color\":\"#ab63fa\",\"pattern\":{\"shape\":\"\"}},\"name\":\"SANTANDER\",\"offsetgroup\":\"SANTANDER\",\"orientation\":\"v\",\"showlegend\":true,\"textposition\":\"auto\",\"x\":[\"ADULTOS\",\"ADOLESCENTES\",\"MENORES\"],\"xaxis\":\"x\",\"y\":[51596,2024,1603],\"yaxis\":\"y\",\"type\":\"bar\"},{\"alignmentgroup\":\"True\",\"hovertemplate\":\"DEPARTAMENTO=BOYAC\\u00c1<br>GRUPO ETARIO=%{x}<br>CANTIDAD=%{y}<extra></extra>\",\"legendgroup\":\"BOYAC\\u00c1\",\"marker\":{\"color\":\"#FFA15A\",\"pattern\":{\"shape\":\"\"}},\"name\":\"BOYAC\\u00c1\",\"offsetgroup\":\"BOYAC\\u00c1\",\"orientation\":\"v\",\"showlegend\":true,\"textposition\":\"auto\",\"x\":[\"ADULTOS\",\"ADOLESCENTES\",\"MENORES\"],\"xaxis\":\"x\",\"y\":[31254,1358,1143],\"yaxis\":\"y\",\"type\":\"bar\"},{\"alignmentgroup\":\"True\",\"hovertemplate\":\"DEPARTAMENTO=ATL\\u00c1NTICO<br>GRUPO ETARIO=%{x}<br>CANTIDAD=%{y}<extra></extra>\",\"legendgroup\":\"ATL\\u00c1NTICO\",\"marker\":{\"color\":\"#19d3f3\",\"pattern\":{\"shape\":\"\"}},\"name\":\"ATL\\u00c1NTICO\",\"offsetgroup\":\"ATL\\u00c1NTICO\",\"orientation\":\"v\",\"showlegend\":true,\"textposition\":\"auto\",\"x\":[\"ADULTOS\",\"ADOLESCENTES\",\"MENORES\"],\"xaxis\":\"x\",\"y\":[24858,979,851],\"yaxis\":\"y\",\"type\":\"bar\"},{\"alignmentgroup\":\"True\",\"hovertemplate\":\"DEPARTAMENTO=META<br>GRUPO ETARIO=%{x}<br>CANTIDAD=%{y}<extra></extra>\",\"legendgroup\":\"META\",\"marker\":{\"color\":\"#FF6692\",\"pattern\":{\"shape\":\"\"}},\"name\":\"META\",\"offsetgroup\":\"META\",\"orientation\":\"v\",\"showlegend\":true,\"textposition\":\"auto\",\"x\":[\"ADULTOS\",\"ADOLESCENTES\",\"MENORES\"],\"xaxis\":\"x\",\"y\":[22165,1028,689],\"yaxis\":\"y\",\"type\":\"bar\"},{\"alignmentgroup\":\"True\",\"hovertemplate\":\"DEPARTAMENTO=BOL\\u00cdVAR<br>GRUPO ETARIO=%{x}<br>CANTIDAD=%{y}<extra></extra>\",\"legendgroup\":\"BOL\\u00cdVAR\",\"marker\":{\"color\":\"#B6E880\",\"pattern\":{\"shape\":\"\"}},\"name\":\"BOL\\u00cdVAR\",\"offsetgroup\":\"BOL\\u00cdVAR\",\"orientation\":\"v\",\"showlegend\":true,\"textposition\":\"auto\",\"x\":[\"ADULTOS\",\"ADOLESCENTES\",\"MENORES\"],\"xaxis\":\"x\",\"y\":[21675,653,532],\"yaxis\":\"y\",\"type\":\"bar\"},{\"alignmentgroup\":\"True\",\"hovertemplate\":\"DEPARTAMENTO=HUILA<br>GRUPO ETARIO=%{x}<br>CANTIDAD=%{y}<extra></extra>\",\"legendgroup\":\"HUILA\",\"marker\":{\"color\":\"#FF97FF\",\"pattern\":{\"shape\":\"\"}},\"name\":\"HUILA\",\"offsetgroup\":\"HUILA\",\"orientation\":\"v\",\"showlegend\":true,\"textposition\":\"auto\",\"x\":[\"ADULTOS\",\"ADOLESCENTES\",\"MENORES\"],\"xaxis\":\"x\",\"y\":[20064,1035,701],\"yaxis\":\"y\",\"type\":\"bar\"},{\"alignmentgroup\":\"True\",\"hovertemplate\":\"DEPARTAMENTO=NORTE DE SANTANDER<br>GRUPO ETARIO=%{x}<br>CANTIDAD=%{y}<extra></extra>\",\"legendgroup\":\"NORTE DE SANTANDER\",\"marker\":{\"color\":\"#FECB52\",\"pattern\":{\"shape\":\"\"}},\"name\":\"NORTE DE SANTANDER\",\"offsetgroup\":\"NORTE DE SANTANDER\",\"orientation\":\"v\",\"showlegend\":true,\"textposition\":\"auto\",\"x\":[\"ADULTOS\",\"ADOLESCENTES\",\"MENORES\"],\"xaxis\":\"x\",\"y\":[19848,683,507],\"yaxis\":\"y\",\"type\":\"bar\"},{\"alignmentgroup\":\"True\",\"hovertemplate\":\"DEPARTAMENTO=TOLIMA<br>GRUPO ETARIO=%{x}<br>CANTIDAD=%{y}<extra></extra>\",\"legendgroup\":\"TOLIMA\",\"marker\":{\"color\":\"#636efa\",\"pattern\":{\"shape\":\"\"}},\"name\":\"TOLIMA\",\"offsetgroup\":\"TOLIMA\",\"orientation\":\"v\",\"showlegend\":true,\"textposition\":\"auto\",\"x\":[\"ADULTOS\",\"MENORES\",\"ADOLESCENTES\"],\"xaxis\":\"x\",\"y\":[19788,978,943],\"yaxis\":\"y\",\"type\":\"bar\"},{\"alignmentgroup\":\"True\",\"hovertemplate\":\"DEPARTAMENTO=NARI\\u00d1O<br>GRUPO ETARIO=%{x}<br>CANTIDAD=%{y}<extra></extra>\",\"legendgroup\":\"NARI\\u00d1O\",\"marker\":{\"color\":\"#EF553B\",\"pattern\":{\"shape\":\"\"}},\"name\":\"NARI\\u00d1O\",\"offsetgroup\":\"NARI\\u00d1O\",\"orientation\":\"v\",\"showlegend\":true,\"textposition\":\"auto\",\"x\":[\"ADULTOS\",\"MENORES\",\"ADOLESCENTES\"],\"xaxis\":\"x\",\"y\":[18965,707,643],\"yaxis\":\"y\",\"type\":\"bar\"},{\"alignmentgroup\":\"True\",\"hovertemplate\":\"DEPARTAMENTO=RISARALDA<br>GRUPO ETARIO=%{x}<br>CANTIDAD=%{y}<extra></extra>\",\"legendgroup\":\"RISARALDA\",\"marker\":{\"color\":\"#00cc96\",\"pattern\":{\"shape\":\"\"}},\"name\":\"RISARALDA\",\"offsetgroup\":\"RISARALDA\",\"orientation\":\"v\",\"showlegend\":true,\"textposition\":\"auto\",\"x\":[\"ADULTOS\",\"ADOLESCENTES\",\"MENORES\"],\"xaxis\":\"x\",\"y\":[18355,955,681],\"yaxis\":\"y\",\"type\":\"bar\"},{\"alignmentgroup\":\"True\",\"hovertemplate\":\"DEPARTAMENTO=CAUCA<br>GRUPO ETARIO=%{x}<br>CANTIDAD=%{y}<extra></extra>\",\"legendgroup\":\"CAUCA\",\"marker\":{\"color\":\"#ab63fa\",\"pattern\":{\"shape\":\"\"}},\"name\":\"CAUCA\",\"offsetgroup\":\"CAUCA\",\"orientation\":\"v\",\"showlegend\":true,\"textposition\":\"auto\",\"x\":[\"ADULTOS\",\"ADOLESCENTES\",\"MENORES\"],\"xaxis\":\"x\",\"y\":[17179,822,593],\"yaxis\":\"y\",\"type\":\"bar\"},{\"alignmentgroup\":\"True\",\"hovertemplate\":\"DEPARTAMENTO=C\\u00d3RDOBA<br>GRUPO ETARIO=%{x}<br>CANTIDAD=%{y}<extra></extra>\",\"legendgroup\":\"C\\u00d3RDOBA\",\"marker\":{\"color\":\"#FFA15A\",\"pattern\":{\"shape\":\"\"}},\"name\":\"C\\u00d3RDOBA\",\"offsetgroup\":\"C\\u00d3RDOBA\",\"orientation\":\"v\",\"showlegend\":true,\"textposition\":\"auto\",\"x\":[\"ADULTOS\",\"ADOLESCENTES\",\"MENORES\"],\"xaxis\":\"x\",\"y\":[12271,562,352],\"yaxis\":\"y\",\"type\":\"bar\"},{\"alignmentgroup\":\"True\",\"hovertemplate\":\"DEPARTAMENTO=MAGDALENA<br>GRUPO ETARIO=%{x}<br>CANTIDAD=%{y}<extra></extra>\",\"legendgroup\":\"MAGDALENA\",\"marker\":{\"color\":\"#19d3f3\",\"pattern\":{\"shape\":\"\"}},\"name\":\"MAGDALENA\",\"offsetgroup\":\"MAGDALENA\",\"orientation\":\"v\",\"showlegend\":true,\"textposition\":\"auto\",\"x\":[\"ADULTOS\",\"ADOLESCENTES\",\"MENORES\"],\"xaxis\":\"x\",\"y\":[11766,596,341],\"yaxis\":\"y\",\"type\":\"bar\"},{\"alignmentgroup\":\"True\",\"hovertemplate\":\"DEPARTAMENTO=SUCRE<br>GRUPO ETARIO=%{x}<br>CANTIDAD=%{y}<extra></extra>\",\"legendgroup\":\"SUCRE\",\"marker\":{\"color\":\"#FF6692\",\"pattern\":{\"shape\":\"\"}},\"name\":\"SUCRE\",\"offsetgroup\":\"SUCRE\",\"orientation\":\"v\",\"showlegend\":true,\"textposition\":\"auto\",\"x\":[\"ADULTOS\",\"ADOLESCENTES\",\"MENORES\"],\"xaxis\":\"x\",\"y\":[10914,524,291],\"yaxis\":\"y\",\"type\":\"bar\"},{\"alignmentgroup\":\"True\",\"hovertemplate\":\"DEPARTAMENTO=CALDAS<br>GRUPO ETARIO=%{x}<br>CANTIDAD=%{y}<extra></extra>\",\"legendgroup\":\"CALDAS\",\"marker\":{\"color\":\"#B6E880\",\"pattern\":{\"shape\":\"\"}},\"name\":\"CALDAS\",\"offsetgroup\":\"CALDAS\",\"orientation\":\"v\",\"showlegend\":true,\"textposition\":\"auto\",\"x\":[\"ADULTOS\",\"ADOLESCENTES\",\"MENORES\"],\"xaxis\":\"x\",\"y\":[8761,544,507],\"yaxis\":\"y\",\"type\":\"bar\"},{\"alignmentgroup\":\"True\",\"hovertemplate\":\"DEPARTAMENTO=CESAR<br>GRUPO ETARIO=%{x}<br>CANTIDAD=%{y}<extra></extra>\",\"legendgroup\":\"CESAR\",\"marker\":{\"color\":\"#FF97FF\",\"pattern\":{\"shape\":\"\"}},\"name\":\"CESAR\",\"offsetgroup\":\"CESAR\",\"orientation\":\"v\",\"showlegend\":true,\"textposition\":\"auto\",\"x\":[\"ADULTOS\",\"ADOLESCENTES\",\"MENORES\"],\"xaxis\":\"x\",\"y\":[7918,431,356],\"yaxis\":\"y\",\"type\":\"bar\"},{\"alignmentgroup\":\"True\",\"hovertemplate\":\"DEPARTAMENTO=CASANARE<br>GRUPO ETARIO=%{x}<br>CANTIDAD=%{y}<extra></extra>\",\"legendgroup\":\"CASANARE\",\"marker\":{\"color\":\"#FECB52\",\"pattern\":{\"shape\":\"\"}},\"name\":\"CASANARE\",\"offsetgroup\":\"CASANARE\",\"orientation\":\"v\",\"showlegend\":true,\"textposition\":\"auto\",\"x\":[\"ADULTOS\",\"ADOLESCENTES\",\"MENORES\"],\"xaxis\":\"x\",\"y\":[6676,360,260],\"yaxis\":\"y\",\"type\":\"bar\"},{\"alignmentgroup\":\"True\",\"hovertemplate\":\"DEPARTAMENTO=CAQUET\\u00c1<br>GRUPO ETARIO=%{x}<br>CANTIDAD=%{y}<extra></extra>\",\"legendgroup\":\"CAQUET\\u00c1\",\"marker\":{\"color\":\"#636efa\",\"pattern\":{\"shape\":\"\"}},\"name\":\"CAQUET\\u00c1\",\"offsetgroup\":\"CAQUET\\u00c1\",\"orientation\":\"v\",\"showlegend\":true,\"textposition\":\"auto\",\"x\":[\"ADULTOS\",\"ADOLESCENTES\",\"MENORES\"],\"xaxis\":\"x\",\"y\":[5188,377,264],\"yaxis\":\"y\",\"type\":\"bar\"},{\"alignmentgroup\":\"True\",\"hovertemplate\":\"DEPARTAMENTO=GUAJIRA<br>GRUPO ETARIO=%{x}<br>CANTIDAD=%{y}<extra></extra>\",\"legendgroup\":\"GUAJIRA\",\"marker\":{\"color\":\"#EF553B\",\"pattern\":{\"shape\":\"\"}},\"name\":\"GUAJIRA\",\"offsetgroup\":\"GUAJIRA\",\"orientation\":\"v\",\"showlegend\":true,\"textposition\":\"auto\",\"x\":[\"ADULTOS\",\"ADOLESCENTES\",\"MENORES\"],\"xaxis\":\"x\",\"y\":[4797,180,144],\"yaxis\":\"y\",\"type\":\"bar\"},{\"alignmentgroup\":\"True\",\"hovertemplate\":\"DEPARTAMENTO=QUIND\\u00cdO<br>GRUPO ETARIO=%{x}<br>CANTIDAD=%{y}<extra></extra>\",\"legendgroup\":\"QUIND\\u00cdO\",\"marker\":{\"color\":\"#00cc96\",\"pattern\":{\"shape\":\"\"}},\"name\":\"QUIND\\u00cdO\",\"offsetgroup\":\"QUIND\\u00cdO\",\"orientation\":\"v\",\"showlegend\":true,\"textposition\":\"auto\",\"x\":[\"ADULTOS\",\"ADOLESCENTES\",\"MENORES\"],\"xaxis\":\"x\",\"y\":[4653,304,296],\"yaxis\":\"y\",\"type\":\"bar\"},{\"alignmentgroup\":\"True\",\"hovertemplate\":\"DEPARTAMENTO=ARAUCA<br>GRUPO ETARIO=%{x}<br>CANTIDAD=%{y}<extra></extra>\",\"legendgroup\":\"ARAUCA\",\"marker\":{\"color\":\"#ab63fa\",\"pattern\":{\"shape\":\"\"}},\"name\":\"ARAUCA\",\"offsetgroup\":\"ARAUCA\",\"orientation\":\"v\",\"showlegend\":true,\"textposition\":\"auto\",\"x\":[\"ADULTOS\",\"ADOLESCENTES\",\"MENORES\"],\"xaxis\":\"x\",\"y\":[4009,205,148],\"yaxis\":\"y\",\"type\":\"bar\"},{\"alignmentgroup\":\"True\",\"hovertemplate\":\"DEPARTAMENTO=PUTUMAYO<br>GRUPO ETARIO=%{x}<br>CANTIDAD=%{y}<extra></extra>\",\"legendgroup\":\"PUTUMAYO\",\"marker\":{\"color\":\"#FFA15A\",\"pattern\":{\"shape\":\"\"}},\"name\":\"PUTUMAYO\",\"offsetgroup\":\"PUTUMAYO\",\"orientation\":\"v\",\"showlegend\":true,\"textposition\":\"auto\",\"x\":[\"ADULTOS\",\"ADOLESCENTES\",\"MENORES\"],\"xaxis\":\"x\",\"y\":[3031,153,106],\"yaxis\":\"y\",\"type\":\"bar\"},{\"alignmentgroup\":\"True\",\"hovertemplate\":\"DEPARTAMENTO=CHOC\\u00d3<br>GRUPO ETARIO=%{x}<br>CANTIDAD=%{y}<extra></extra>\",\"legendgroup\":\"CHOC\\u00d3\",\"marker\":{\"color\":\"#19d3f3\",\"pattern\":{\"shape\":\"\"}},\"name\":\"CHOC\\u00d3\",\"offsetgroup\":\"CHOC\\u00d3\",\"orientation\":\"v\",\"showlegend\":true,\"textposition\":\"auto\",\"x\":[\"ADULTOS\",\"MENORES\",\"ADOLESCENTES\"],\"xaxis\":\"x\",\"y\":[2058,94,79],\"yaxis\":\"y\",\"type\":\"bar\"},{\"alignmentgroup\":\"True\",\"hovertemplate\":\"DEPARTAMENTO=AMAZONAS<br>GRUPO ETARIO=%{x}<br>CANTIDAD=%{y}<extra></extra>\",\"legendgroup\":\"AMAZONAS\",\"marker\":{\"color\":\"#FF6692\",\"pattern\":{\"shape\":\"\"}},\"name\":\"AMAZONAS\",\"offsetgroup\":\"AMAZONAS\",\"orientation\":\"v\",\"showlegend\":true,\"textposition\":\"auto\",\"x\":[\"ADULTOS\",\"ADOLESCENTES\",\"MENORES\"],\"xaxis\":\"x\",\"y\":[1434,103,77],\"yaxis\":\"y\",\"type\":\"bar\"},{\"alignmentgroup\":\"True\",\"hovertemplate\":\"DEPARTAMENTO=SAN ANDR\\u00c9S<br>GRUPO ETARIO=%{x}<br>CANTIDAD=%{y}<extra></extra>\",\"legendgroup\":\"SAN ANDR\\u00c9S\",\"marker\":{\"color\":\"#B6E880\",\"pattern\":{\"shape\":\"\"}},\"name\":\"SAN ANDR\\u00c9S\",\"offsetgroup\":\"SAN ANDR\\u00c9S\",\"orientation\":\"v\",\"showlegend\":true,\"textposition\":\"auto\",\"x\":[\"ADULTOS\",\"ADOLESCENTES\",\"MENORES\"],\"xaxis\":\"x\",\"y\":[1190,46,32],\"yaxis\":\"y\",\"type\":\"bar\"},{\"alignmentgroup\":\"True\",\"hovertemplate\":\"DEPARTAMENTO=GUAVIARE<br>GRUPO ETARIO=%{x}<br>CANTIDAD=%{y}<extra></extra>\",\"legendgroup\":\"GUAVIARE\",\"marker\":{\"color\":\"#FF97FF\",\"pattern\":{\"shape\":\"\"}},\"name\":\"GUAVIARE\",\"offsetgroup\":\"GUAVIARE\",\"orientation\":\"v\",\"showlegend\":true,\"textposition\":\"auto\",\"x\":[\"ADULTOS\",\"ADOLESCENTES\",\"MENORES\"],\"xaxis\":\"x\",\"y\":[850,58,36],\"yaxis\":\"y\",\"type\":\"bar\"},{\"alignmentgroup\":\"True\",\"hovertemplate\":\"DEPARTAMENTO=GUAIN\\u00cdA<br>GRUPO ETARIO=%{x}<br>CANTIDAD=%{y}<extra></extra>\",\"legendgroup\":\"GUAIN\\u00cdA\",\"marker\":{\"color\":\"#FECB52\",\"pattern\":{\"shape\":\"\"}},\"name\":\"GUAIN\\u00cdA\",\"offsetgroup\":\"GUAIN\\u00cdA\",\"orientation\":\"v\",\"showlegend\":true,\"textposition\":\"auto\",\"x\":[\"ADULTOS\",\"ADOLESCENTES\",\"MENORES\"],\"xaxis\":\"x\",\"y\":[506,23,13],\"yaxis\":\"y\",\"type\":\"bar\"},{\"alignmentgroup\":\"True\",\"hovertemplate\":\"DEPARTAMENTO=VICHADA<br>GRUPO ETARIO=%{x}<br>CANTIDAD=%{y}<extra></extra>\",\"legendgroup\":\"VICHADA\",\"marker\":{\"color\":\"#636efa\",\"pattern\":{\"shape\":\"\"}},\"name\":\"VICHADA\",\"offsetgroup\":\"VICHADA\",\"orientation\":\"v\",\"showlegend\":true,\"textposition\":\"auto\",\"x\":[\"ADULTOS\",\"ADOLESCENTES\",\"MENORES\"],\"xaxis\":\"x\",\"y\":[405,10,9],\"yaxis\":\"y\",\"type\":\"bar\"},{\"alignmentgroup\":\"True\",\"hovertemplate\":\"DEPARTAMENTO=VAUP\\u00c9S<br>GRUPO ETARIO=%{x}<br>CANTIDAD=%{y}<extra></extra>\",\"legendgroup\":\"VAUP\\u00c9S\",\"marker\":{\"color\":\"#EF553B\",\"pattern\":{\"shape\":\"\"}},\"name\":\"VAUP\\u00c9S\",\"offsetgroup\":\"VAUP\\u00c9S\",\"orientation\":\"v\",\"showlegend\":true,\"textposition\":\"auto\",\"x\":[\"ADULTOS\",\"ADOLESCENTES\",\"MENORES\"],\"xaxis\":\"x\",\"y\":[381,13,10],\"yaxis\":\"y\",\"type\":\"bar\"}],                        {\"template\":{\"data\":{\"bar\":[{\"error_x\":{\"color\":\"#2a3f5f\"},\"error_y\":{\"color\":\"#2a3f5f\"},\"marker\":{\"line\":{\"color\":\"#E5ECF6\",\"width\":0.5},\"pattern\":{\"fillmode\":\"overlay\",\"size\":10,\"solidity\":0.2}},\"type\":\"bar\"}],\"barpolar\":[{\"marker\":{\"line\":{\"color\":\"#E5ECF6\",\"width\":0.5},\"pattern\":{\"fillmode\":\"overlay\",\"size\":10,\"solidity\":0.2}},\"type\":\"barpolar\"}],\"carpet\":[{\"aaxis\":{\"endlinecolor\":\"#2a3f5f\",\"gridcolor\":\"white\",\"linecolor\":\"white\",\"minorgridcolor\":\"white\",\"startlinecolor\":\"#2a3f5f\"},\"baxis\":{\"endlinecolor\":\"#2a3f5f\",\"gridcolor\":\"white\",\"linecolor\":\"white\",\"minorgridcolor\":\"white\",\"startlinecolor\":\"#2a3f5f\"},\"type\":\"carpet\"}],\"choropleth\":[{\"colorbar\":{\"outlinewidth\":0,\"ticks\":\"\"},\"type\":\"choropleth\"}],\"contour\":[{\"colorbar\":{\"outlinewidth\":0,\"ticks\":\"\"},\"colorscale\":[[0.0,\"#0d0887\"],[0.1111111111111111,\"#46039f\"],[0.2222222222222222,\"#7201a8\"],[0.3333333333333333,\"#9c179e\"],[0.4444444444444444,\"#bd3786\"],[0.5555555555555556,\"#d8576b\"],[0.6666666666666666,\"#ed7953\"],[0.7777777777777778,\"#fb9f3a\"],[0.8888888888888888,\"#fdca26\"],[1.0,\"#f0f921\"]],\"type\":\"contour\"}],\"contourcarpet\":[{\"colorbar\":{\"outlinewidth\":0,\"ticks\":\"\"},\"type\":\"contourcarpet\"}],\"heatmap\":[{\"colorbar\":{\"outlinewidth\":0,\"ticks\":\"\"},\"colorscale\":[[0.0,\"#0d0887\"],[0.1111111111111111,\"#46039f\"],[0.2222222222222222,\"#7201a8\"],[0.3333333333333333,\"#9c179e\"],[0.4444444444444444,\"#bd3786\"],[0.5555555555555556,\"#d8576b\"],[0.6666666666666666,\"#ed7953\"],[0.7777777777777778,\"#fb9f3a\"],[0.8888888888888888,\"#fdca26\"],[1.0,\"#f0f921\"]],\"type\":\"heatmap\"}],\"heatmapgl\":[{\"colorbar\":{\"outlinewidth\":0,\"ticks\":\"\"},\"colorscale\":[[0.0,\"#0d0887\"],[0.1111111111111111,\"#46039f\"],[0.2222222222222222,\"#7201a8\"],[0.3333333333333333,\"#9c179e\"],[0.4444444444444444,\"#bd3786\"],[0.5555555555555556,\"#d8576b\"],[0.6666666666666666,\"#ed7953\"],[0.7777777777777778,\"#fb9f3a\"],[0.8888888888888888,\"#fdca26\"],[1.0,\"#f0f921\"]],\"type\":\"heatmapgl\"}],\"histogram\":[{\"marker\":{\"pattern\":{\"fillmode\":\"overlay\",\"size\":10,\"solidity\":0.2}},\"type\":\"histogram\"}],\"histogram2d\":[{\"colorbar\":{\"outlinewidth\":0,\"ticks\":\"\"},\"colorscale\":[[0.0,\"#0d0887\"],[0.1111111111111111,\"#46039f\"],[0.2222222222222222,\"#7201a8\"],[0.3333333333333333,\"#9c179e\"],[0.4444444444444444,\"#bd3786\"],[0.5555555555555556,\"#d8576b\"],[0.6666666666666666,\"#ed7953\"],[0.7777777777777778,\"#fb9f3a\"],[0.8888888888888888,\"#fdca26\"],[1.0,\"#f0f921\"]],\"type\":\"histogram2d\"}],\"histogram2dcontour\":[{\"colorbar\":{\"outlinewidth\":0,\"ticks\":\"\"},\"colorscale\":[[0.0,\"#0d0887\"],[0.1111111111111111,\"#46039f\"],[0.2222222222222222,\"#7201a8\"],[0.3333333333333333,\"#9c179e\"],[0.4444444444444444,\"#bd3786\"],[0.5555555555555556,\"#d8576b\"],[0.6666666666666666,\"#ed7953\"],[0.7777777777777778,\"#fb9f3a\"],[0.8888888888888888,\"#fdca26\"],[1.0,\"#f0f921\"]],\"type\":\"histogram2dcontour\"}],\"mesh3d\":[{\"colorbar\":{\"outlinewidth\":0,\"ticks\":\"\"},\"type\":\"mesh3d\"}],\"parcoords\":[{\"line\":{\"colorbar\":{\"outlinewidth\":0,\"ticks\":\"\"}},\"type\":\"parcoords\"}],\"pie\":[{\"automargin\":true,\"type\":\"pie\"}],\"scatter\":[{\"marker\":{\"colorbar\":{\"outlinewidth\":0,\"ticks\":\"\"}},\"type\":\"scatter\"}],\"scatter3d\":[{\"line\":{\"colorbar\":{\"outlinewidth\":0,\"ticks\":\"\"}},\"marker\":{\"colorbar\":{\"outlinewidth\":0,\"ticks\":\"\"}},\"type\":\"scatter3d\"}],\"scattercarpet\":[{\"marker\":{\"colorbar\":{\"outlinewidth\":0,\"ticks\":\"\"}},\"type\":\"scattercarpet\"}],\"scattergeo\":[{\"marker\":{\"colorbar\":{\"outlinewidth\":0,\"ticks\":\"\"}},\"type\":\"scattergeo\"}],\"scattergl\":[{\"marker\":{\"colorbar\":{\"outlinewidth\":0,\"ticks\":\"\"}},\"type\":\"scattergl\"}],\"scattermapbox\":[{\"marker\":{\"colorbar\":{\"outlinewidth\":0,\"ticks\":\"\"}},\"type\":\"scattermapbox\"}],\"scatterpolar\":[{\"marker\":{\"colorbar\":{\"outlinewidth\":0,\"ticks\":\"\"}},\"type\":\"scatterpolar\"}],\"scatterpolargl\":[{\"marker\":{\"colorbar\":{\"outlinewidth\":0,\"ticks\":\"\"}},\"type\":\"scatterpolargl\"}],\"scatterternary\":[{\"marker\":{\"colorbar\":{\"outlinewidth\":0,\"ticks\":\"\"}},\"type\":\"scatterternary\"}],\"surface\":[{\"colorbar\":{\"outlinewidth\":0,\"ticks\":\"\"},\"colorscale\":[[0.0,\"#0d0887\"],[0.1111111111111111,\"#46039f\"],[0.2222222222222222,\"#7201a8\"],[0.3333333333333333,\"#9c179e\"],[0.4444444444444444,\"#bd3786\"],[0.5555555555555556,\"#d8576b\"],[0.6666666666666666,\"#ed7953\"],[0.7777777777777778,\"#fb9f3a\"],[0.8888888888888888,\"#fdca26\"],[1.0,\"#f0f921\"]],\"type\":\"surface\"}],\"table\":[{\"cells\":{\"fill\":{\"color\":\"#EBF0F8\"},\"line\":{\"color\":\"white\"}},\"header\":{\"fill\":{\"color\":\"#C8D4E3\"},\"line\":{\"color\":\"white\"}},\"type\":\"table\"}]},\"layout\":{\"annotationdefaults\":{\"arrowcolor\":\"#2a3f5f\",\"arrowhead\":0,\"arrowwidth\":1},\"autotypenumbers\":\"strict\",\"coloraxis\":{\"colorbar\":{\"outlinewidth\":0,\"ticks\":\"\"}},\"colorscale\":{\"diverging\":[[0,\"#8e0152\"],[0.1,\"#c51b7d\"],[0.2,\"#de77ae\"],[0.3,\"#f1b6da\"],[0.4,\"#fde0ef\"],[0.5,\"#f7f7f7\"],[0.6,\"#e6f5d0\"],[0.7,\"#b8e186\"],[0.8,\"#7fbc41\"],[0.9,\"#4d9221\"],[1,\"#276419\"]],\"sequential\":[[0.0,\"#0d0887\"],[0.1111111111111111,\"#46039f\"],[0.2222222222222222,\"#7201a8\"],[0.3333333333333333,\"#9c179e\"],[0.4444444444444444,\"#bd3786\"],[0.5555555555555556,\"#d8576b\"],[0.6666666666666666,\"#ed7953\"],[0.7777777777777778,\"#fb9f3a\"],[0.8888888888888888,\"#fdca26\"],[1.0,\"#f0f921\"]],\"sequentialminus\":[[0.0,\"#0d0887\"],[0.1111111111111111,\"#46039f\"],[0.2222222222222222,\"#7201a8\"],[0.3333333333333333,\"#9c179e\"],[0.4444444444444444,\"#bd3786\"],[0.5555555555555556,\"#d8576b\"],[0.6666666666666666,\"#ed7953\"],[0.7777777777777778,\"#fb9f3a\"],[0.8888888888888888,\"#fdca26\"],[1.0,\"#f0f921\"]]},\"colorway\":[\"#636efa\",\"#EF553B\",\"#00cc96\",\"#ab63fa\",\"#FFA15A\",\"#19d3f3\",\"#FF6692\",\"#B6E880\",\"#FF97FF\",\"#FECB52\"],\"font\":{\"color\":\"#2a3f5f\"},\"geo\":{\"bgcolor\":\"white\",\"lakecolor\":\"white\",\"landcolor\":\"#E5ECF6\",\"showlakes\":true,\"showland\":true,\"subunitcolor\":\"white\"},\"hoverlabel\":{\"align\":\"left\"},\"hovermode\":\"closest\",\"mapbox\":{\"style\":\"light\"},\"paper_bgcolor\":\"white\",\"plot_bgcolor\":\"#E5ECF6\",\"polar\":{\"angularaxis\":{\"gridcolor\":\"white\",\"linecolor\":\"white\",\"ticks\":\"\"},\"bgcolor\":\"#E5ECF6\",\"radialaxis\":{\"gridcolor\":\"white\",\"linecolor\":\"white\",\"ticks\":\"\"}},\"scene\":{\"xaxis\":{\"backgroundcolor\":\"#E5ECF6\",\"gridcolor\":\"white\",\"gridwidth\":2,\"linecolor\":\"white\",\"showbackground\":true,\"ticks\":\"\",\"zerolinecolor\":\"white\"},\"yaxis\":{\"backgroundcolor\":\"#E5ECF6\",\"gridcolor\":\"white\",\"gridwidth\":2,\"linecolor\":\"white\",\"showbackground\":true,\"ticks\":\"\",\"zerolinecolor\":\"white\"},\"zaxis\":{\"backgroundcolor\":\"#E5ECF6\",\"gridcolor\":\"white\",\"gridwidth\":2,\"linecolor\":\"white\",\"showbackground\":true,\"ticks\":\"\",\"zerolinecolor\":\"white\"}},\"shapedefaults\":{\"line\":{\"color\":\"#2a3f5f\"}},\"ternary\":{\"aaxis\":{\"gridcolor\":\"white\",\"linecolor\":\"white\",\"ticks\":\"\"},\"baxis\":{\"gridcolor\":\"white\",\"linecolor\":\"white\",\"ticks\":\"\"},\"bgcolor\":\"#E5ECF6\",\"caxis\":{\"gridcolor\":\"white\",\"linecolor\":\"white\",\"ticks\":\"\"}},\"title\":{\"x\":0.05},\"xaxis\":{\"automargin\":true,\"gridcolor\":\"white\",\"linecolor\":\"white\",\"ticks\":\"\",\"title\":{\"standoff\":15},\"zerolinecolor\":\"white\",\"zerolinewidth\":2},\"yaxis\":{\"automargin\":true,\"gridcolor\":\"white\",\"linecolor\":\"white\",\"ticks\":\"\",\"title\":{\"standoff\":15},\"zerolinecolor\":\"white\",\"zerolinewidth\":2}}},\"xaxis\":{\"anchor\":\"y\",\"domain\":[0.0,1.0],\"title\":{\"text\":\"GRUPO ETARIO\"}},\"yaxis\":{\"anchor\":\"x\",\"domain\":[0.0,1.0],\"title\":{\"text\":\"CANTIDAD\"}},\"legend\":{\"title\":{\"text\":\"DEPARTAMENTO\"},\"tracegroupgap\":0},\"title\":{\"text\":\"CASOS POR GRUPO ETARIO EN C/U DE LOS DEPARTAMENTOS (GENERAL)\"},\"barmode\":\"group\",\"height\":800,\"width\":1400},                        {\"responsive\": true}                    ).then(function(){\n",
              "                            \n",
              "var gd = document.getElementById('264f3648-2a31-4b73-ae3d-846e4224e949');\n",
              "var x = new MutationObserver(function (mutations, observer) {{\n",
              "        var display = window.getComputedStyle(gd).display;\n",
              "        if (!display || display === 'none') {{\n",
              "            console.log([gd, 'removed!']);\n",
              "            Plotly.purge(gd);\n",
              "            observer.disconnect();\n",
              "        }}\n",
              "}});\n",
              "\n",
              "// Listen for the removal of the full notebook cells\n",
              "var notebookContainer = gd.closest('#notebook-container');\n",
              "if (notebookContainer) {{\n",
              "    x.observe(notebookContainer, {childList: true});\n",
              "}}\n",
              "\n",
              "// Listen for the clearing of the current output cell\n",
              "var outputEl = gd.closest('.output');\n",
              "if (outputEl) {{\n",
              "    x.observe(outputEl, {childList: true});\n",
              "}}\n",
              "\n",
              "                        })                };                            </script>        </div>\n",
              "</body>\n",
              "</html>"
            ]
          },
          "metadata": {},
          "output_type": "display_data"
        }
      ],
      "source": [
        "\n",
        "df_grp9 = df.groupby(['DEPARTAMENTO', 'GRUPO ETARIO'])['CANTIDAD'].sum().reset_index()\n",
        "fig = px.bar(df_grp9.sort_values(by='CANTIDAD', ascending=False), x=\"GRUPO ETARIO\", y='CANTIDAD',color=\"DEPARTAMENTO\", title=\"CASOS POR GRUPO ETARIO EN C/U DE LOS DEPARTAMENTOS (GENERAL)\",height =800, width =1400, barmode = 'group')\n",
        "fig.show()"
      ]
    },
    {
      "cell_type": "markdown",
      "id": "2trQh2SmEAQ3",
      "metadata": {
        "id": "2trQh2SmEAQ3"
      },
      "source": [
        "# **MODELOS**"
      ]
    },
    {
      "cell_type": "code",
      "execution_count": 124,
      "id": "YDp0yWlzES-3",
      "metadata": {
        "id": "YDp0yWlzES-3"
      },
      "outputs": [],
      "source": [
        "## PUNTO 2 -> Como ya cargamos el dataset limpio y  ya pre-procesado no es necesario hacer el respectivo pre-procesamiento de los datos\n",
        "## Aqui solo procederemos a hacer la particion de nuestros datos con el train_test_split \n",
        "\"\"\"Cabe aclarar que se le compartiran 2 notebook, uno en el cual estara todo el proceso\n",
        "   que hemos realizado hasta ahora y el otro ya mas enfocado al taller final del modulo 5\n",
        "\"\"\"\n",
        "\n",
        "# train_test_split\n",
        "\n",
        "# REGRESION LINEAL\n",
        "dfm = df.groupby([\"DEPARTAMENTO\", \"GENERO\",\"GRUPO ETARIO\",\"ARMAS MEDIOS\", \"Año\",\"Mes\",\"Dia de la semana\"]).sum()[\"CANTIDAD\"].reset_index()\n",
        "\n",
        "## con el metodo pd.get_dummies(), lo  que hace es cambiar las variables categoricas a 0 y 1 \n",
        "\n",
        "X1= pd.get_dummies(dfm[['DEPARTAMENTO',\"GENERO\", \"GRUPO ETARIO\", \"ARMAS MEDIOS\",'Año','Mes', 'Dia de la semana']].copy())\n",
        "Y1 = dfm[\"CANTIDAD\"]"
      ]
    },
    {
      "cell_type": "code",
      "execution_count": 125,
      "id": "sIsDZkE83xmi",
      "metadata": {
        "colab": {
          "base_uri": "https://localhost:8080/"
        },
        "id": "sIsDZkE83xmi",
        "outputId": "1cee29c1-163b-4f33-d872-5864ac1623cf"
      },
      "outputs": [
        {
          "data": {
            "text/plain": [
              "array(['Año', 'Mes', 'DEPARTAMENTO_AMAZONAS', 'DEPARTAMENTO_ANTIOQUIA',\n",
              "       'DEPARTAMENTO_ARAUCA', 'DEPARTAMENTO_ATLÁNTICO',\n",
              "       'DEPARTAMENTO_BOLÍVAR', 'DEPARTAMENTO_BOYACÁ',\n",
              "       'DEPARTAMENTO_CALDAS', 'DEPARTAMENTO_CAQUETÁ',\n",
              "       'DEPARTAMENTO_CASANARE', 'DEPARTAMENTO_CAUCA',\n",
              "       'DEPARTAMENTO_CESAR', 'DEPARTAMENTO_CHOCÓ',\n",
              "       'DEPARTAMENTO_CUNDINAMARCA', 'DEPARTAMENTO_CÓRDOBA',\n",
              "       'DEPARTAMENTO_GUAINÍA', 'DEPARTAMENTO_GUAJIRA',\n",
              "       'DEPARTAMENTO_GUAVIARE', 'DEPARTAMENTO_HUILA',\n",
              "       'DEPARTAMENTO_MAGDALENA', 'DEPARTAMENTO_META',\n",
              "       'DEPARTAMENTO_NARIÑO', 'DEPARTAMENTO_NORTE DE SANTANDER',\n",
              "       'DEPARTAMENTO_PUTUMAYO', 'DEPARTAMENTO_QUINDÍO',\n",
              "       'DEPARTAMENTO_RISARALDA', 'DEPARTAMENTO_SAN ANDRÉS',\n",
              "       'DEPARTAMENTO_SANTANDER', 'DEPARTAMENTO_SUCRE',\n",
              "       'DEPARTAMENTO_TOLIMA', 'DEPARTAMENTO_VALLE', 'DEPARTAMENTO_VAUPÉS',\n",
              "       'DEPARTAMENTO_VICHADA', 'GENERO_FEMENINO', 'GENERO_MASCULINO',\n",
              "       'GENERO_NO REPORTA', 'GRUPO ETARIO_ADOLESCENTES',\n",
              "       'GRUPO ETARIO_ADULTOS', 'GRUPO ETARIO_MENORES',\n",
              "       'ARMAS MEDIOS_ARMA BLANCA / CORTOPUNZANTE',\n",
              "       'ARMAS MEDIOS_ARMA DE FUEGO', 'ARMAS MEDIOS_CONTUNDENTES',\n",
              "       'ARMAS MEDIOS_ESCOPOLAMINA', 'ARMAS MEDIOS_NO REPORTA',\n",
              "       'ARMAS MEDIOS_SIN EMPLEO DE ARMAS', 'Dia de la semana_Friday',\n",
              "       'Dia de la semana_Monday', 'Dia de la semana_Saturday',\n",
              "       'Dia de la semana_Sunday', 'Dia de la semana_Thursday',\n",
              "       'Dia de la semana_Tuesday', 'Dia de la semana_Wednesday'],\n",
              "      dtype=object)"
            ]
          },
          "execution_count": 125,
          "metadata": {},
          "output_type": "execute_result"
        }
      ],
      "source": [
        "X1.columns.values"
      ]
    },
    {
      "cell_type": "code",
      "execution_count": 35,
      "id": "4DrQCNhX3878",
      "metadata": {
        "colab": {
          "base_uri": "https://localhost:8080/"
        },
        "id": "4DrQCNhX3878",
        "outputId": "80dc6768-dbcf-47f7-c343-22dc76277c0d"
      },
      "outputs": [
        {
          "data": {
            "text/plain": [
              "(130072, 55)"
            ]
          },
          "execution_count": 35,
          "metadata": {},
          "output_type": "execute_result"
        }
      ],
      "source": []
    },
    {
      "cell_type": "code",
      "execution_count": 43,
      "id": "1mkiq4moH2rw",
      "metadata": {
        "id": "1mkiq4moH2rw"
      },
      "outputs": [],
      "source": [
        "x_train,x_test,y_train,y_test = train_test_split(X1,Y1, test_size=0.2, random_state=42 )"
      ]
    },
    {
      "cell_type": "code",
      "execution_count": 44,
      "id": "GZyw38c5H3tH",
      "metadata": {
        "id": "GZyw38c5H3tH"
      },
      "outputs": [],
      "source": [
        "# PUNTO 3 -> Implementación de modelos\n",
        "\n",
        "#LinearRegression\n",
        " \n",
        "clf = LinearRegression(fit_intercept = True)"
      ]
    },
    {
      "cell_type": "code",
      "execution_count": 45,
      "id": "BzN_mAbEH5z9",
      "metadata": {
        "colab": {
          "base_uri": "https://localhost:8080/"
        },
        "id": "BzN_mAbEH5z9",
        "outputId": "2b342487-20ab-445c-c968-1aa3fd270c1d"
      },
      "outputs": [
        {
          "data": {
            "text/plain": [
              "LinearRegression()"
            ]
          },
          "execution_count": 45,
          "metadata": {},
          "output_type": "execute_result"
        }
      ],
      "source": [
        "# Entrenamos\n",
        "clf.fit(x_train,y_train)"
      ]
    },
    {
      "cell_type": "code",
      "execution_count": 46,
      "id": "3g6ei0ekFTTO",
      "metadata": {
        "id": "3g6ei0ekFTTO"
      },
      "outputs": [],
      "source": [
        "#Predecimos\n",
        "y_pred = clf.predict(x_test)"
      ]
    },
    {
      "cell_type": "markdown",
      "id": "uvKT2sWY6quE",
      "metadata": {
        "id": "uvKT2sWY6quE"
      },
      "source": [
        "metricas de evaluacion del modelo"
      ]
    },
    {
      "cell_type": "code",
      "execution_count": 47,
      "id": "-v6n10sVFUtj",
      "metadata": {
        "colab": {
          "base_uri": "https://localhost:8080/"
        },
        "id": "-v6n10sVFUtj",
        "outputId": "9cf3f08a-b705-481f-dc5a-613a014b45cf"
      },
      "outputs": [
        {
          "data": {
            "text/plain": [
              "4.656742612708841"
            ]
          },
          "execution_count": 47,
          "metadata": {},
          "output_type": "execute_result"
        }
      ],
      "source": [
        "mean_absolute_error(y_test, y_pred)"
      ]
    },
    {
      "cell_type": "code",
      "execution_count": 48,
      "id": "gIB7466HIwyv",
      "metadata": {
        "colab": {
          "base_uri": "https://localhost:8080/"
        },
        "id": "gIB7466HIwyv",
        "outputId": "efdd72e6-72f5-46b7-8a47-964673f376d8"
      },
      "outputs": [
        {
          "data": {
            "text/plain": [
              "446.0815909094184"
            ]
          },
          "execution_count": 48,
          "metadata": {},
          "output_type": "execute_result"
        }
      ],
      "source": [
        "max_error(y_test,y_pred)"
      ]
    },
    {
      "cell_type": "code",
      "execution_count": 49,
      "id": "EgZgswJLJFDD",
      "metadata": {
        "colab": {
          "base_uri": "https://localhost:8080/"
        },
        "id": "EgZgswJLJFDD",
        "outputId": "3fd3a497-d2f6-4ee1-fa25-bfe4f3a2da3b"
      },
      "outputs": [
        {
          "data": {
            "text/plain": [
              "0.2143121104618626"
            ]
          },
          "execution_count": 49,
          "metadata": {},
          "output_type": "execute_result"
        }
      ],
      "source": [
        "r2_score(y_test, y_pred)"
      ]
    },
    {
      "cell_type": "code",
      "execution_count": 50,
      "id": "RNML9teQ6xhH",
      "metadata": {
        "id": "RNML9teQ6xhH"
      },
      "outputs": [],
      "source": [
        "# creamos una malla para el LinearRegression\n",
        "\n",
        "parameters = {\"fit_intercept\":[\"True\",\"False\"],\n",
        "              \"n_jobs\":[1,2,4],\n",
        "              \"positive\":[\"True\",\"False\"]\n",
        "              }"
      ]
    },
    {
      "cell_type": "code",
      "execution_count": 51,
      "id": "2UbFs4Xz6xRn",
      "metadata": {
        "id": "2UbFs4Xz6xRn"
      },
      "outputs": [],
      "source": [
        "# Creamos una nueva instancia de nuestro modelo y la pasamos la malla que hemos construido\n",
        "clf_LR = GridSearchCV(clf,parameters, cv=5, n_jobs=-1, verbose=1)\n"
      ]
    },
    {
      "cell_type": "code",
      "execution_count": 52,
      "id": "wJrTuo7168Xr",
      "metadata": {
        "colab": {
          "base_uri": "https://localhost:8080/"
        },
        "id": "wJrTuo7168Xr",
        "outputId": "ef52f5bb-17d9-4adb-81b3-0aff1fcc0fd4"
      },
      "outputs": [
        {
          "name": "stdout",
          "output_type": "stream",
          "text": [
            "Fitting 5 folds for each of 12 candidates, totalling 60 fits\n"
          ]
        },
        {
          "data": {
            "text/plain": [
              "GridSearchCV(cv=5, estimator=LinearRegression(), n_jobs=-1,\n",
              "             param_grid={'fit_intercept': ['True', 'False'],\n",
              "                         'n_jobs': [1, 2, 4], 'positive': ['True', 'False']},\n",
              "             verbose=1)"
            ]
          },
          "execution_count": 52,
          "metadata": {},
          "output_type": "execute_result"
        }
      ],
      "source": [
        "# Entrenamos nuestro modelo\n",
        "clf_LR.fit(x_train,y_train)"
      ]
    },
    {
      "cell_type": "code",
      "execution_count": 53,
      "id": "WnB1w8VV685Q",
      "metadata": {
        "colab": {
          "base_uri": "https://localhost:8080/"
        },
        "id": "WnB1w8VV685Q",
        "outputId": "0ad42eba-0877-4eee-dfa3-43953bb38f99"
      },
      "outputs": [
        {
          "data": {
            "text/plain": [
              "{'fit_intercept': 'True', 'n_jobs': 1, 'positive': 'True'}"
            ]
          },
          "execution_count": 53,
          "metadata": {},
          "output_type": "execute_result"
        }
      ],
      "source": [
        "# Observamos cuales son los mejes hiperparametros para el modelo\n",
        "clf_LR.best_params_"
      ]
    },
    {
      "cell_type": "code",
      "execution_count": 54,
      "id": "mmHg54uY7Gq8",
      "metadata": {
        "id": "mmHg54uY7Gq8"
      },
      "outputs": [],
      "source": [
        "# Predecimos\n",
        "y_LR_pred2 =  clf_LR.predict(x_test)"
      ]
    },
    {
      "cell_type": "markdown",
      "id": "tdMjfpeB7SOD",
      "metadata": {
        "id": "tdMjfpeB7SOD"
      },
      "source": [
        "metricas de evaluacion de modelo"
      ]
    },
    {
      "cell_type": "code",
      "execution_count": 55,
      "id": "mYYYaOfw7Lhq",
      "metadata": {
        "colab": {
          "base_uri": "https://localhost:8080/"
        },
        "id": "mYYYaOfw7Lhq",
        "outputId": "fa82938f-ba5b-4299-c8a8-9a38fc425c14"
      },
      "outputs": [
        {
          "data": {
            "text/plain": [
              "0.21409644259901106"
            ]
          },
          "execution_count": 55,
          "metadata": {},
          "output_type": "execute_result"
        }
      ],
      "source": [
        "r2_score(y_test, y_LR_pred2)"
      ]
    },
    {
      "cell_type": "code",
      "execution_count": 56,
      "id": "tuZZknSV7LUe",
      "metadata": {
        "colab": {
          "base_uri": "https://localhost:8080/"
        },
        "id": "tuZZknSV7LUe",
        "outputId": "fb86df80-5461-4aa5-ba09-9c35729a32a0"
      },
      "outputs": [
        {
          "data": {
            "text/plain": [
              "4.656087946557275"
            ]
          },
          "execution_count": 56,
          "metadata": {},
          "output_type": "execute_result"
        }
      ],
      "source": [
        "mean_absolute_error(y_test, y_LR_pred2)"
      ]
    },
    {
      "cell_type": "code",
      "execution_count": 57,
      "id": "V-fTr_zb7aTO",
      "metadata": {
        "colab": {
          "base_uri": "https://localhost:8080/"
        },
        "id": "V-fTr_zb7aTO",
        "outputId": "4f37beea-552e-40d5-8fd0-61bbb42fc353"
      },
      "outputs": [
        {
          "data": {
            "text/plain": [
              "446.3583984375"
            ]
          },
          "execution_count": 57,
          "metadata": {},
          "output_type": "execute_result"
        }
      ],
      "source": [
        "max_error(y_test,y_LR_pred2)"
      ]
    },
    {
      "cell_type": "markdown",
      "id": "lexdoVOc_Ss_",
      "metadata": {
        "id": "lexdoVOc_Ss_"
      },
      "source": [
        "**Conclusiones**\n",
        "\n",
        "En este caso  no se puede notar una mejora considerable  entre el modelo  implementado sin la busqueda de hiperparametros y el resultado que arojo el modelo despues de pasarla malla. "
      ]
    },
    {
      "cell_type": "code",
      "execution_count": null,
      "id": "qjEjxjC0on8X",
      "metadata": {
        "id": "qjEjxjC0on8X"
      },
      "outputs": [],
      "source": [
        "## SUPPORT VECTOR MACHINE (SVM)\n",
        "clf_svm = svm.SVR(kernel=\"rbf\", C=100, gamma=0.1, epsilon=0.1)\n",
        "\n",
        "\n",
        "clf_svm.fit(x_train,y_train)\n"
      ]
    },
    {
      "cell_type": "code",
      "execution_count": null,
      "id": "EflQ2UtCpKfD",
      "metadata": {
        "id": "EflQ2UtCpKfD"
      },
      "outputs": [],
      "source": [
        "y_svm_pred =  clf_svm.predict(x_test)"
      ]
    },
    {
      "cell_type": "code",
      "execution_count": null,
      "id": "DpRCHV5uspf7",
      "metadata": {
        "id": "DpRCHV5uspf7"
      },
      "outputs": [],
      "source": [
        "mean_absolute_error(y_test, y_svm_pred)"
      ]
    },
    {
      "cell_type": "code",
      "execution_count": null,
      "id": "hwDkf1kvs5JQ",
      "metadata": {
        "id": "hwDkf1kvs5JQ"
      },
      "outputs": [],
      "source": [
        "r2_score(y_test, y_svm_pred)"
      ]
    },
    {
      "cell_type": "markdown",
      "id": "0DccXeKGBPsO",
      "metadata": {
        "id": "0DccXeKGBPsO"
      },
      "source": [
        "En este caso se pueden observar unos mejores resultados con respecto a la regresion lineal "
      ]
    },
    {
      "cell_type": "code",
      "execution_count": null,
      "id": "5nz6X3QltT9w",
      "metadata": {
        "id": "5nz6X3QltT9w"
      },
      "outputs": [],
      "source": [
        "## Malla\n",
        "\n",
        "parametros = {\"kernel\":[\"linear\",\"rbf\"],\n",
        "              \"gamma\":[\"auto\"],\n",
        "              \"C\":[150],\n",
        "              \"epsilon\":[0.1]}\n",
        "\n",
        "clf_svm2 = GridSearchCV(clf_svm,parametros, cv=5, \n",
        "                   n_jobs=-1, verbose=1)\n",
        "\n"
      ]
    },
    {
      "cell_type": "code",
      "execution_count": null,
      "id": "EbZBoY76zW9U",
      "metadata": {
        "id": "EbZBoY76zW9U"
      },
      "outputs": [],
      "source": [
        "clf_svm2.fit(x_train,y_train)"
      ]
    },
    {
      "cell_type": "code",
      "execution_count": null,
      "id": "JM5hlrt1zkBL",
      "metadata": {
        "id": "JM5hlrt1zkBL"
      },
      "outputs": [],
      "source": [
        "# Aqui vemos los mejores hiperparametros del modelo\n",
        "clf_svm2.best_params_"
      ]
    },
    {
      "cell_type": "code",
      "execution_count": null,
      "id": "I4bA-3H_0xgY",
      "metadata": {
        "id": "I4bA-3H_0xgY"
      },
      "outputs": [],
      "source": [
        "# predecimos\n",
        "y_svm_pred2 =  clf_svm2.predict(x_test)"
      ]
    },
    {
      "cell_type": "code",
      "execution_count": null,
      "id": "cAEvanmO07Td",
      "metadata": {
        "id": "cAEvanmO07Td"
      },
      "outputs": [],
      "source": [
        "r2_score(y_test, y_svm_pred2)"
      ]
    },
    {
      "cell_type": "code",
      "execution_count": null,
      "id": "zNKQkqU43LXv",
      "metadata": {
        "id": "zNKQkqU43LXv"
      },
      "outputs": [],
      "source": [
        "mean_absolute_error(y_test, y_svm_pred2)"
      ]
    },
    {
      "cell_type": "markdown",
      "id": "d1kWf9G8BrdU",
      "metadata": {
        "id": "d1kWf9G8BrdU"
      },
      "source": [
        "En este caso se le paso al modelo  una respectiva malla y luego se procedio a entrenar y los resultados cambiaron un poco, se puede decir qeu en la primera ronda los resultados estuvieron un poco por encima de los resultados del modelo aplicando la malla"
      ]
    },
    {
      "cell_type": "markdown",
      "id": "qfCHOw4O74Dp",
      "metadata": {
        "id": "qfCHOw4O74Dp"
      },
      "source": [
        "Entrenamiento del modelo con todo el dataset\n",
        "\n",
        "En este caso se escogio el LinearRegression, principalmente por el tiempo de entrenamiento, ya que el support vector machine tiene un mejor resultado  pero su entrenamiento se demora mas."
      ]
    },
    {
      "cell_type": "code",
      "execution_count": null,
      "id": "P_Ov7_Bb8Bqo",
      "metadata": {
        "id": "P_Ov7_Bb8Bqo"
      },
      "outputs": [],
      "source": [
        "## Instanciamos en modelo \n",
        "\n",
        "clf_all = LinearRegression(fit_intercept = True)"
      ]
    },
    {
      "cell_type": "code",
      "execution_count": null,
      "id": "yXvX9aJM8Mw_",
      "metadata": {
        "id": "yXvX9aJM8Mw_"
      },
      "outputs": [],
      "source": [
        "# ENTRENAMOS \n",
        "clf_all.fit(X1,Y1)"
      ]
    },
    {
      "cell_type": "code",
      "execution_count": null,
      "id": "iFQBer3Q8p5H",
      "metadata": {
        "id": "iFQBer3Q8p5H"
      },
      "outputs": [],
      "source": [
        "#Predecimos\n",
        "Y_pred = clf.predict(X1)"
      ]
    },
    {
      "cell_type": "markdown",
      "id": "KXw62JpO9AnX",
      "metadata": {
        "id": "KXw62JpO9AnX"
      },
      "source": [
        "METRICAS DEL MODELO"
      ]
    },
    {
      "cell_type": "code",
      "execution_count": null,
      "id": "z_xfaBRM82jn",
      "metadata": {
        "id": "z_xfaBRM82jn"
      },
      "outputs": [],
      "source": [
        "mean_absolute_error(Y1, Y_pred)"
      ]
    },
    {
      "cell_type": "code",
      "execution_count": null,
      "id": "c6GoSLC29JYA",
      "metadata": {
        "id": "c6GoSLC29JYA"
      },
      "outputs": [],
      "source": [
        "max_error(Y1,Y_pred)"
      ]
    },
    {
      "cell_type": "code",
      "execution_count": null,
      "id": "GQtbzv499JLi",
      "metadata": {
        "id": "GQtbzv499JLi"
      },
      "outputs": [],
      "source": [
        "r2_score(Y1, Y_pred)"
      ]
    },
    {
      "cell_type": "markdown",
      "id": "HQiJwo9f-Fqf",
      "metadata": {
        "id": "HQiJwo9f-Fqf"
      },
      "source": [
        "Guardamos el modelo"
      ]
    },
    {
      "cell_type": "code",
      "execution_count": null,
      "id": "GZdphx-i-JQc",
      "metadata": {
        "id": "GZdphx-i-JQc"
      },
      "outputs": [],
      "source": [
        "joblib.dump(clf_all, 'Modelo_entrenado_LR.pkl')"
      ]
    },
    {
      "cell_type": "markdown",
      "id": "wPuUmsiuqkcb",
      "metadata": {
        "id": "wPuUmsiuqkcb"
      },
      "source": [
        "Modelo  de SupportVectorMachine"
      ]
    },
    {
      "cell_type": "code",
      "execution_count": null,
      "id": "zOlY61mcrJB5",
      "metadata": {
        "id": "zOlY61mcrJB5"
      },
      "outputs": [],
      "source": [
        "## SupportVectorMachine  con todo el dataset\n",
        "\n",
        "clf_svm_all = svm.SVR(kernel=\"rbf\", C=100, gamma=0.1, epsilon=0.1)\n",
        "\n",
        "clf_svm_all.fit(X1,Y1)\n"
      ]
    },
    {
      "cell_type": "code",
      "execution_count": null,
      "id": "PMClbSI5v2LY",
      "metadata": {
        "id": "PMClbSI5v2LY"
      },
      "outputs": [],
      "source": [
        "yall_svm_pred = clf_svm_all(X1)"
      ]
    },
    {
      "cell_type": "code",
      "execution_count": null,
      "id": "cF-ojDwfwP8L",
      "metadata": {
        "id": "cF-ojDwfwP8L"
      },
      "outputs": [],
      "source": [
        "mean_absolute_error(Y1, yall_svm_pred)"
      ]
    },
    {
      "cell_type": "code",
      "execution_count": null,
      "id": "eU3J5TKEwUZp",
      "metadata": {
        "id": "eU3J5TKEwUZp"
      },
      "outputs": [],
      "source": [
        "max_error(Y1,yall_svm_pred)"
      ]
    },
    {
      "cell_type": "code",
      "execution_count": null,
      "id": "v5gmoI_ywX6W",
      "metadata": {
        "id": "v5gmoI_ywX6W"
      },
      "outputs": [],
      "source": [
        "r2_score(Y1, yall_svm_pred)"
      ]
    },
    {
      "cell_type": "code",
      "execution_count": null,
      "id": "rCKaf4XDwwyq",
      "metadata": {
        "id": "rCKaf4XDwwyq"
      },
      "outputs": [],
      "source": [
        "joblib.dump(clf_all, 'Modelo_entrenado_SVM.pkl')"
      ]
    },
    {
      "cell_type": "markdown",
      "id": "08dd081f-9801-4416-a90d-9ec6090e3303",
      "metadata": {
        "id": "08dd081f-9801-4416-a90d-9ec6090e3303"
      },
      "source": [
        "# INTEGRANTES GRUPO 3:\n",
        "\n",
        "## CARLOS ANDRES GALVIS PADILLA\n",
        "## EMER ELIAS ARTEAGA CAMARGO\n",
        "## CARLOS ALBERTO DEL CASTILLO MAUSSA\n",
        "## ANDRES FELIPE OTERO LOBO\n",
        "## ANDRES CAMILO ORTIZ COGOLLO"
      ]
    }
  ],
  "metadata": {
    "colab": {
      "name": "Dataframe_grupo_3_full_2.ipynb",
      "provenance": []
    },
    "kernelspec": {
      "display_name": "Python 3.9.12 ('base')",
      "language": "python",
      "name": "python3"
    },
    "language_info": {
      "codemirror_mode": {
        "name": "ipython",
        "version": 3
      },
      "file_extension": ".py",
      "mimetype": "text/x-python",
      "name": "python",
      "nbconvert_exporter": "python",
      "pygments_lexer": "ipython3",
      "version": "3.9.12"
    },
    "vscode": {
      "interpreter": {
        "hash": "6a57f0d4f10ce50674c074dfd57918257d2272274d5316a36909e746565698e9"
      }
    }
  },
  "nbformat": 4,
  "nbformat_minor": 5
}
